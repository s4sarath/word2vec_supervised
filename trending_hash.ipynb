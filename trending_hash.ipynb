{
 "cells": [
  {
   "cell_type": "code",
   "execution_count": 20,
   "metadata": {
    "collapsed": true
   },
   "outputs": [],
   "source": [
    "import json\n",
    "from collections import Counter"
   ]
  },
  {
   "cell_type": "code",
   "execution_count": 2,
   "metadata": {
    "collapsed": true
   },
   "outputs": [],
   "source": [
    "data = json.load(open('../Data/sample.json'))"
   ]
  },
  {
   "cell_type": "code",
   "execution_count": null,
   "metadata": {
    "collapsed": false
   },
   "outputs": [],
   "source": []
  },
  {
   "cell_type": "code",
   "execution_count": 13,
   "metadata": {
    "collapsed": false
   },
   "outputs": [],
   "source": []
  },
  {
   "cell_type": "code",
   "execution_count": null,
   "metadata": {
    "collapsed": false
   },
   "outputs": [],
   "source": []
  },
  {
   "cell_type": "code",
   "execution_count": 18,
   "metadata": {
    "collapsed": false
   },
   "outputs": [],
   "source": [
    "total_hashtags = []\n",
    "for item_ in data['results']:\n",
    "    hashtag = item_['twitter_entities'][u'hashtags']\n",
    "    for i in hashtag:\n",
    "        total_hashtags.append(i[u'text'])\n"
   ]
  },
  {
   "cell_type": "code",
   "execution_count": 21,
   "metadata": {
    "collapsed": false
   },
   "outputs": [],
   "source": [
    "counter_dict = Counter(total_hashtags)"
   ]
  },
  {
   "cell_type": "code",
   "execution_count": 23,
   "metadata": {
    "collapsed": false
   },
   "outputs": [],
   "source": [
    "counter_dict_sorted = sorted(counter_dict.items() , key = lambda x: x[1] , reverse=True)"
   ]
  },
  {
   "cell_type": "code",
   "execution_count": 36,
   "metadata": {
    "collapsed": false
   },
   "outputs": [],
   "source": [
    "def find_prob(sorted_hashtags , total):\n",
    "    \n",
    "    results = {}\n",
    "    for hashtag, count in sorted_hashtags:\n",
    "        results[hashtag] = float(count)/total\n",
    "    return sorted( results.items() , key = lambda x: x[1] , reverse=True)"
   ]
  },
  {
   "cell_type": "code",
   "execution_count": 37,
   "metadata": {
    "collapsed": false
   },
   "outputs": [],
   "source": [
    "RES_ = find_prob(counter_dict_sorted , 400)"
   ]
  },
  {
   "cell_type": "code",
   "execution_count": 38,
   "metadata": {
    "collapsed": false
   },
   "outputs": [
    {
     "data": {
      "text/plain": [
       "[(u'BMW', 0.205),\n",
       " (u'ArtCar', 0.0525),\n",
       " (u'CaoFei', 0.0525),\n",
       " (u'M6', 0.045),\n",
       " (u'Luxury', 0.035),\n",
       " (u'bmw', 0.03),\n",
       " (u'Irumugan', 0.02),\n",
       " (u'BMWChampionship', 0.02),\n",
       " (u'TOURVault', 0.0175),\n",
       " (u'dontsettleforbetfair', 0.015),\n",
       " (u'BMWi3', 0.0125),\n",
       " (u'Entertainment', 0.0075),\n",
       " (u'fastestboats', 0.0075),\n",
       " (u'3series', 0.0075),\n",
       " (u'Top_Stories', 0.0075),\n",
       " (u'cartweet', 0.0075),\n",
       " (u'pune', 0.0075),\n",
       " (u'Nation', 0.0075),\n",
       " (u'EstherMahlangu', 0.0075),\n",
       " (u'7Series', 0.005),\n",
       " (u'bike', 0.005),\n",
       " (u'Speedwatch', 0.005),\n",
       " (u'Car', 0.005),\n",
       " (u'730D', 0.005),\n",
       " (u'sportcar', 0.005),\n",
       " (u'Manchester', 0.005),\n",
       " (u'JaguarCars', 0.005),\n",
       " (u'Pressemitteilung', 0.005),\n",
       " (u'BMWIndonesia', 0.005),\n",
       " (u'MO', 0.005),\n",
       " (u'E36', 0.005),\n",
       " (u'BMWchampionship', 0.005),\n",
       " (u'5series', 0.005),\n",
       " (u'Golf', 0.005),\n",
       " (u'ThrowbackThursday', 0.005),\n",
       " (u'car', 0.005),\n",
       " (u'2016election', 0.005),\n",
       " (u'supercar', 0.005),\n",
       " (u'JubileePartyGrandLaunch', 0.005),\n",
       " (u'india', 0.005),\n",
       " (u'Bike', 0.005),\n",
       " (u'funny', 0.005),\n",
       " (u'TX', 0.005),\n",
       " (u'Daytona', 0.005),\n",
       " (u'brno', 0.005),\n",
       " (u'BMWG', 0.005),\n",
       " (u'theraceacademy', 0.005),\n",
       " (u'FantasyGolf', 0.005),\n",
       " (u'BMWAstra', 0.005),\n",
       " (u'Ndebele', 0.005),\n",
       " (u'WA', 0.0025),\n",
       " (u'Tendulkar', 0.0025),\n",
       " (u'firstworldproblem', 0.0025),\n",
       " (u'global', 0.0025),\n",
       " (u'dnchack', 0.0025),\n",
       " (u'Rio2016Paralympics', 0.0025),\n",
       " (u'oldschool', 0.0025),\n",
       " (u'KlassikKustoms', 0.0025),\n",
       " (u'Xdrive', 0.0025),\n",
       " (u'Rav4', 0.0025),\n",
       " (u'workers', 0.0025),\n",
       " (u'Fahrerlager', 0.0025),\n",
       " (u'aut', 0.0025),\n",
       " (u'riding', 0.0025),\n",
       " (u'UnitedKingdom', 0.0025),\n",
       " (u'Ahvenisto', 0.0025),\n",
       " (u'Msport', 0.0025),\n",
       " (u'TFB', 0.0025),\n",
       " (u'Convertible', 0.0025),\n",
       " (u'Katy', 0.0025),\n",
       " (u'Arazi', 0.0025),\n",
       " (u'CarsForSale', 0.0025),\n",
       " (u'safetycar', 0.0025),\n",
       " (u'BMWRepost', 0.0025),\n",
       " (u'MotorRausch', 0.0025),\n",
       " (u'deal', 0.0025),\n",
       " (u'GS300', 0.0025),\n",
       " (u'F800GS', 0.0025),\n",
       " (u'M1', 0.0025),\n",
       " (u'Huddersfield', 0.0025),\n",
       " (u'FuelandFreedom', 0.0025),\n",
       " (u'Magna', 0.0025),\n",
       " (u'Z4', 0.0025),\n",
       " (u'altrincham', 0.0025),\n",
       " (u'Colchester', 0.0025),\n",
       " (u'AllureLounge', 0.0025),\n",
       " (u'vintagecars', 0.0025),\n",
       " (u'EVOD', 0.0025),\n",
       " (u'ModiMinistry', 0.0025),\n",
       " (u'bmwfestival', 0.0025),\n",
       " (u'news', 0.0025),\n",
       " (u'touratech', 0.0025),\n",
       " (u'Concept', 0.0025),\n",
       " (u'benefits', 0.0025),\n",
       " (u'MPerformance', 0.0025),\n",
       " (u'Battery', 0.0025),\n",
       " (u'MN', 0.0025),\n",
       " (u'Essex', 0.0025),\n",
       " (u'MPower', 0.0025),\n",
       " (u'Austria', 0.0025),\n",
       " (u'MGWV', 0.0025),\n",
       " (u'Lexus', 0.0025),\n",
       " (u'AutoAlpinaBMW', 0.0025),\n",
       " (u'Corvette', 0.0025),\n",
       " (u'E34', 0.0025),\n",
       " (u'Dallas', 0.0025),\n",
       " (u'bikeshow', 0.0025),\n",
       " (u'NEXT100', 0.0025),\n",
       " (u'guest', 0.0025),\n",
       " (u'bathroom', 0.0025),\n",
       " (u'CirocLifeSA', 0.0025),\n",
       " (u'1930s', 0.0025),\n",
       " (u'X3', 0.0025),\n",
       " (u'BmwI8', 0.0025),\n",
       " (u'X5', 0.0025),\n",
       " (u'B', 0.0025),\n",
       " (u'Mini', 0.0025),\n",
       " (u'M4', 0.0025),\n",
       " (u'Science', 0.0025),\n",
       " (u'mobileleatherrepairs', 0.0025),\n",
       " (u'Puyallup', 0.0025),\n",
       " (u'Deals', 0.0025),\n",
       " (u'GTS', 0.0025),\n",
       " (u'BuyNOW', 0.0025),\n",
       " (u'born', 0.0025),\n",
       " (u'KS', 0.0025),\n",
       " (u'video', 0.0025),\n",
       " (u'BrandsIUse', 0.0025),\n",
       " (u'NewsUpdates', 0.0025),\n",
       " (u'Mission', 0.0025),\n",
       " (u'BMWMotorrad', 0.0025),\n",
       " (u'SMPF4', 0.0025),\n",
       " (u'araba', 0.0025),\n",
       " (u'Lithium', 0.0025),\n",
       " (u'forSale', 0.0025),\n",
       " (u'saleinbahrain', 0.0025),\n",
       " (u'sib', 0.0025),\n",
       " (u'Hale', 0.0025),\n",
       " (u'auspol', 0.0025),\n",
       " (u'ProudSouthAfrican', 0.0025),\n",
       " (u'i8', 0.0025),\n",
       " (u'SpareParts', 0.0025),\n",
       " (u'i3', 0.0025),\n",
       " (u'Toyota', 0.0025),\n",
       " (u'Procar', 0.0025),\n",
       " (u'Nooblay', 0.0025),\n",
       " (u'MakeLifeARide', 0.0025),\n",
       " (u'Mercedes', 0.0025),\n",
       " (u'wikileaks', 0.0025),\n",
       " (u'Sachin', 0.0025),\n",
       " (u'3Series', 0.0025),\n",
       " (u'Sat\\u0131l\\u0131k', 0.0025),\n",
       " (u'Apple', 0.0025),\n",
       " (u'AfricaHasTheSolutions', 0.0025),\n",
       " (u'Marmot', 0.0025),\n",
       " (u'jobsinwales', 0.0025),\n",
       " (u'Velvis', 0.0025),\n",
       " (u'drone', 0.0025),\n",
       " (u'F4F', 0.0025),\n",
       " (u'Guccifer2', 0.0025),\n",
       " (u'Lacrescent', 0.0025),\n",
       " (u'BMWChamp', 0.0025)]"
      ]
     },
     "execution_count": 38,
     "metadata": {},
     "output_type": "execute_result"
    }
   ],
   "source": [
    "RES_"
   ]
  },
  {
   "cell_type": "code",
   "execution_count": null,
   "metadata": {
    "collapsed": true
   },
   "outputs": [],
   "source": []
  }
 ],
 "metadata": {
  "kernelspec": {
   "display_name": "Python 2",
   "language": "python",
   "name": "python2"
  },
  "language_info": {
   "codemirror_mode": {
    "name": "ipython",
    "version": 2
   },
   "file_extension": ".py",
   "mimetype": "text/x-python",
   "name": "python",
   "nbconvert_exporter": "python",
   "pygments_lexer": "ipython2",
   "version": "2.7.11"
  }
 },
 "nbformat": 4,
 "nbformat_minor": 0
}
