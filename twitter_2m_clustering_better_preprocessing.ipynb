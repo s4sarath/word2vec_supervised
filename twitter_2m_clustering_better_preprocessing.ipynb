{
 "cells": [
  {
   "cell_type": "code",
   "execution_count": 2,
   "metadata": {
    "collapsed": false
   },
   "outputs": [],
   "source": [
    "import numpy as np\n",
    "import pandas as pd\n",
    "import nltk\n",
    "import re\n",
    "import os\n",
    "import codecs\n",
    "from sklearn import feature_extraction\n",
    "import json \n",
    "\n",
    "from gensim.parsing.preprocessing import STOPWORDS\n",
    "from sklearn.feature_extraction.text import TfidfVectorizer\n",
    "\n",
    "\n",
    "STOPWORDS = list(set(STOPWORDS))"
   ]
  },
  {
   "cell_type": "markdown",
   "metadata": {},
   "source": [
    "### Loading tweets"
   ]
  },
  {
   "cell_type": "code",
   "execution_count": 3,
   "metadata": {
    "collapsed": false
   },
   "outputs": [
    {
     "name": "stdout",
     "output_type": "stream",
     "text": [
      "The length of data is 2027707\n"
     ]
    }
   ],
   "source": [
    "data = json.load(open('../Data/gnip_sample2m.json'))\n",
    "print \"The length of data is {}\".format(len(data))\n",
    "text = [item[u'twitter_text'] for item in data]"
   ]
  },
  {
   "cell_type": "markdown",
   "metadata": {},
   "source": [
    "### Removing duplicates"
   ]
  },
  {
   "cell_type": "code",
   "execution_count": 4,
   "metadata": {
    "collapsed": false
   },
   "outputs": [],
   "source": [
    "\n",
    "def deduplication_tweets(tweets):\n",
    "    '''\n",
    "    tweets: should be a list of text\n",
    "    '''\n",
    "    tweets_deduplicated = list(set(tweets))\n",
    "    return tweets_deduplicated"
   ]
  },
  {
   "cell_type": "code",
   "execution_count": 5,
   "metadata": {
    "collapsed": false
   },
   "outputs": [
    {
     "name": "stdout",
     "output_type": "stream",
     "text": [
      "CPU times: user 956 ms, sys: 4 ms, total: 960 ms\n",
      "Wall time: 960 ms\n",
      "The length of new set of tweets is 1380434\n"
     ]
    }
   ],
   "source": [
    "%time tweets_deduplicated = deduplication_tweets(text)\n",
    "print \"The length of new set of tweets is {}\".format(len(tweets_deduplicated))"
   ]
  },
  {
   "cell_type": "code",
   "execution_count": 43,
   "metadata": {
    "collapsed": false
   },
   "outputs": [],
   "source": [
    "remove_numbers = re.compile(ur'(\\b\\d\\S+)' , re.IGNORECASE | re.MULTILINE)\n",
    "remove_url = re.compile(ur\"(\\bhttp\\S+)\", re.IGNORECASE | re.MULTILINE)\n",
    "remove_user_mention = re.compile(ur'(\\B@\\S+)', re.IGNORECASE | re.MULTILINE)\n",
    "remove_rt = re.compile(ur'(^rt\\s+)', re.IGNORECASE | re.MULTILINE)\n",
    "remove_mutiple_spaces = re.compile( ur'\\s+', re.IGNORECASE | re.MULTILINE)\n",
    "remove_isolated_hash = re.compile(ur'(\\s+#\\s+)', re.MULTILINE | re.IGNORECASE)\n",
    "remove_hashtag = re.compile(ur'(\\B#\\S+)', re.IGNORECASE | re.MULTILINE)\n",
    "remove_appostrophe_b4 = re.compile(ur'\\'(?![a-z])', re.MULTILINE | re.IGNORECASE)\n",
    "remove_appostrophe_after = re.compile(ur'(?<![a-z])\\'', re.MULTILINE | re.IGNORECASE)\n",
    "remove_punctn_b4 = re.compile(ur'\"(?![a-z])', re.MULTILINE | re.IGNORECASE)\n",
    "remove_punctn_after = re.compile(ur'(?<![a-z])\"', re.MULTILINE | re.IGNORECASE)\n",
    "remove_dollar = re.compile(ur'\\$(?![a-z])', re.MULTILINE | re.IGNORECASE)\n",
    "\n",
    "def translate_non_alphanumerics(to_translate, translate_to=u' '):\n",
    "    not_letters_or_digits = u'!\"%\\()&*+,-/:;<=>?[\\]^_.`{|}~'\n",
    "    if not isinstance(to_translate, unicode):\n",
    "        to_translate = unicode(to_translate)\n",
    "        \n",
    "    if isinstance(to_translate, unicode):\n",
    "        translate_table = dict((ord(char), unicode(translate_to))\n",
    "                               for char in not_letters_or_digits)\n",
    "    else:\n",
    "        assert isinstance(to_translate, str)\n",
    "        translate_table = string.maketrans(not_letters_or_digits,\n",
    "                                           translate_to\n",
    "                                              *len(not_letters_or_digits))\n",
    "    return to_translate.translate(translate_table)\n",
    "\n",
    "\n",
    "def tweet_parser(tweet):\n",
    "    \n",
    "    tweet = [tweet_text.lower().strip() for tweet_text in tweet]\n",
    "    tweet = map( lambda x: re.sub(remove_numbers, ' ', x) , tweet) \n",
    "    tweet = map( lambda x: re.sub(remove_url, ' ', x) , tweet) \n",
    "    tweet = map( lambda x: re.sub(remove_user_mention, ' ', x) , tweet)\n",
    "    tweet = map( lambda x: re.sub(remove_rt, ' ', x), tweet)\n",
    "    tweet = map( lambda x: re.sub(remove_hashtag, ' ', x),  tweet)\n",
    "    tweet = map( lambda x: re.sub(remove_appostrophe_b4, ' ', x) , tweet)\n",
    "    tweet = map( lambda x: re.sub(remove_appostrophe_after, ' ', x) , tweet)\n",
    "    tweet = map( lambda x: re.sub(remove_punctn_b4, ' ', x) , tweet)\n",
    "    tweet = map( lambda x: re.sub(remove_punctn_after, ' ', x) , tweet)\n",
    "    tweet = map( translate_non_alphanumerics , tweet)\n",
    "    tweet = map( lambda x: re.sub(remove_mutiple_spaces, ' ', x),  tweet)\n",
    "    tweet = map( lambda x: re.sub(remove_isolated_hash, ' ', x),  tweet)\n",
    "    tweet = map( lambda x: re.sub(remove_dollar, ' ', x),  tweet)\n",
    "    \n",
    "    return tweet\n",
    "    \n",
    "    \n",
    "    \n",
    "    \n",
    "    "
   ]
  },
  {
   "cell_type": "code",
   "execution_count": 44,
   "metadata": {
    "collapsed": false
   },
   "outputs": [
    {
     "name": "stdout",
     "output_type": "stream",
     "text": [
      "CPU times: user 1min 51s, sys: 744 ms, total: 1min 52s\n",
      "Wall time: 1min 51s\n"
     ]
    }
   ],
   "source": [
    "%time tweet_parsed = tweet_parser(tweets_deduplicated)"
   ]
  },
  {
   "cell_type": "code",
   "execution_count": null,
   "metadata": {
    "collapsed": true
   },
   "outputs": [],
   "source": [
    "%time tweet_tokens = map(preprocess_tfidf , tweet)\n"
   ]
  },
  {
   "cell_type": "code",
   "execution_count": null,
   "metadata": {
    "collapsed": true
   },
   "outputs": [],
   "source": [
    "\n",
    "from collections import Counter\n",
    "tweet_collections = []\n",
    "for i in tweet_tokens:\n",
    "    tweet_collections.extend(i)\n",
    "\n",
    "word_count = Counter(tweet_collections)\n",
    "rare_words = [word for word, count in word_count.iteritems() if count <= 3]"
   ]
  },
  {
   "cell_type": "code",
   "execution_count": 39,
   "metadata": {
    "collapsed": false
   },
   "outputs": [],
   "source": [
    "STOPWORDS = STOPWORDS + rare_words"
   ]
  },
  {
   "cell_type": "code",
   "execution_count": 37,
   "metadata": {
    "collapsed": true
   },
   "outputs": [],
   "source": [
    "# stop_twitter = [i for i in  tfidf_vectorizer.get_feature_names()[:17]]\n",
    "# stop_twitter_2 =  [i for i in tfidf_vectorizer.get_feature_names()[12:25]]\n",
    "# STOPWORDS = STOPWORDS + stop_twitter + stop_twitter_2\n",
    "\n",
    "def preprocess_tfidf(tweet):\n",
    "    \n",
    "    tweet_list = tweet.split()\n",
    "    tweet_list = [w for w in tweet_list if not w.isdigit()]\n",
    "    return tweet_list"
   ]
  },
  {
   "cell_type": "code",
   "execution_count": 14,
   "metadata": {
    "collapsed": false
   },
   "outputs": [
    {
     "name": "stdout",
     "output_type": "stream",
     "text": [
      "CPU times: user 1min 39s, sys: 636 ms, total: 1min 39s\n",
      "Wall time: 1min 38s\n"
     ]
    }
   ],
   "source": []
  },
  {
   "cell_type": "code",
   "execution_count": null,
   "metadata": {
    "collapsed": true
   },
   "outputs": [],
   "source": []
  },
  {
   "cell_type": "code",
   "execution_count": 45,
   "metadata": {
    "collapsed": false
   },
   "outputs": [
    {
     "name": "stdout",
     "output_type": "stream",
     "text": [
      "CPU times: user 15.7 s, sys: 212 ms, total: 15.9 s\n",
      "Wall time: 15.8 s\n",
      "(1380434, 64295)\n"
     ]
    }
   ],
   "source": [
    "#define vectorizer parameters\n",
    "tfidf_vectorizer = TfidfVectorizer(\n",
    "                                stop_words=STOPWORDS , analyzer='word', max_df = 0.9 , \n",
    "                                use_idf=True, tokenizer=preprocess_tfidf)\n",
    "\n",
    "%time tfidf_matrix = tfidf_vectorizer.fit_transform(tweet_parsed) #fit the vectorizer to synopses\n",
    "\n",
    "print(tfidf_matrix.shape)"
   ]
  },
  {
   "cell_type": "code",
   "execution_count": 47,
   "metadata": {
    "collapsed": false
   },
   "outputs": [
    {
     "name": "stdout",
     "output_type": "stream",
     "text": [
      "Initialization complete\n",
      "Initialization complete\n",
      "Initialization complete\n",
      "Initialization complete\n",
      "Iteration  0, inertia 1341588.077\n",
      "Iteration  0, inertia 1336310.738\n",
      "Iteration  0, inertia 1335755.316\n",
      "Iteration  0, inertia 1336907.761\n",
      "Iteration  1, inertia 1318982.907\n",
      "Iteration  1, inertia 1322973.460\n",
      "Iteration  1, inertia 1326269.823\n",
      "Iteration  1, inertia 1324117.392\n",
      "Iteration  2, inertia 1314599.946\n",
      "Iteration  2, inertia 1309793.589\n",
      "Iteration  2, inertia 1315207.500\n",
      "Iteration  2, inertia 1316138.917\n",
      "Iteration  3, inertia 1304179.527\n",
      "Iteration  3, inertia 1310076.645\n",
      "Iteration  3, inertia 1305588.057\n",
      "Iteration  3, inertia 1309714.104\n",
      "Iteration  4, inertia 1300603.805\n",
      "Iteration  4, inertia 1307622.688\n",
      "Iteration  4, inertia 1301265.540\n",
      "Iteration  4, inertia 1305106.231\n",
      "Iteration  5, inertia 1298299.737\n",
      "Iteration  5, inertia 1306429.150\n",
      "Iteration  5, inertia 1302532.935\n",
      "Iteration  5, inertia 1299428.550\n",
      "Iteration  6, inertia 1296815.289\n",
      "Iteration  6, inertia 1304966.321\n",
      "Iteration  6, inertia 1301007.767\n",
      "Iteration  6, inertia 1298813.987\n",
      "Iteration  7, inertia 1296404.531\n",
      "Iteration  7, inertia 1303417.637\n",
      "Iteration  7, inertia 1300232.433\n",
      "Iteration  7, inertia 1298625.314\n",
      "Iteration  8, inertia 1296187.451\n",
      "Iteration  8, inertia 1299651.129\n",
      "Iteration  8, inertia 1300398.327\n",
      "Iteration  8, inertia 1298462.732\n",
      "Iteration  9, inertia 1295304.590\n",
      "Iteration  9, inertia 1299091.541\n",
      "Iteration  9, inertia 1299107.924\n",
      "Iteration  9, inertia 1298275.911\n",
      "Iteration 10, inertia 1294724.623\n",
      "Iteration 10, inertia 1298625.978\n",
      "Iteration 10, inertia 1298961.236\n",
      "Iteration 10, inertia 1298185.886\n",
      "Iteration 11, inertia 1294580.285\n",
      "Iteration 11, inertia 1298383.550\n",
      "Iteration 11, inertia 1298054.513\n",
      "Iteration 11, inertia 1298930.587\n",
      "Iteration 12, inertia 1298318.293\n",
      "Iteration 12, inertia 1294352.151\n",
      "Iteration 12, inertia 1298902.104\n",
      "Iteration 12, inertia 1297793.984\n",
      "Iteration 13, inertia 1294278.045\n",
      "Iteration 13, inertia 1298290.797\n",
      "Iteration 13, inertia 1298881.198\n",
      "Iteration 13, inertia 1297574.996\n",
      "Iteration 14, inertia 1298275.604\n",
      "Iteration 14, inertia 1294215.281\n",
      "Iteration 14, inertia 1298871.764\n",
      "Iteration 14, inertia 1297538.001\n",
      "Iteration 15, inertia 1298267.833\n",
      "Iteration 15, inertia 1298868.189\n",
      "Iteration 15, inertia 1294102.528\n",
      "Iteration 15, inertia 1297481.756\n",
      "Iteration 16, inertia 1298262.277\n",
      "Iteration 16, inertia 1294048.907\n",
      "Iteration 16, inertia 1298865.466\n",
      "Iteration 16, inertia 1297399.722\n",
      "Iteration 17, inertia 1298258.037\n",
      "Iteration 17, inertia 1294044.259\n",
      "Iteration 17, inertia 1298864.683\n",
      "Iteration 17, inertia 1297344.231\n",
      "Iteration 18, inertia 1298255.733\n",
      "Iteration 18, inertia 1294041.060\n",
      "Iteration 18, inertia 1297250.881\n",
      "Iteration 18, inertia 1298864.432\n",
      "Iteration 19, inertia 1298254.202\n",
      "Iteration 19, inertia 1294035.455\n",
      "Iteration 19, inertia 1296850.016\n",
      "Iteration 19, inertia 1298864.338\n",
      "Iteration 20, inertia 1298253.124\n",
      "Iteration 20, inertia 1294018.726\n",
      "Iteration 20, inertia 1296591.013\n",
      "Iteration 20, inertia 1298864.290\n",
      "Iteration 21, inertia 1298252.020\n",
      "Iteration 21, inertia 1293986.813\n",
      "Iteration 21, inertia 1296582.532\n",
      "Iteration 21, inertia 1298864.277\n",
      "Iteration 22, inertia 1298250.232\n",
      "Iteration 22, inertia 1293948.865\n",
      "Iteration 22, inertia 1296582.394\n",
      "Iteration 22, inertia 1298864.267\n",
      "Iteration 23, inertia 1298247.133\n",
      "Iteration 23, inertia 1293918.838\n",
      "Iteration 23, inertia 1296582.392\n",
      "Converged at iteration 23\n",
      "Iteration 23, inertia 1298864.253\n",
      "Iteration 24, inertia 1298246.347\n",
      "Iteration 24, inertia 1293906.894\n",
      "Iteration 24, inertia 1298864.250\n",
      "Iteration 25, inertia 1293903.892\n",
      "Iteration 25, inertia 1298245.902\n",
      "Initialization complete\n",
      "Iteration 25, inertia 1298864.247\n",
      "Iteration 26, inertia 1298245.344\n",
      "Iteration 26, inertia 1293903.239\n",
      "Iteration  0, inertia 1342153.099\n",
      "Iteration 26, inertia 1298864.245\n",
      "Iteration 27, inertia 1298244.700\n",
      "Iteration 27, inertia 1293901.459\n",
      "Iteration  1, inertia 1330571.881\n",
      "Iteration 27, inertia 1298864.240\n",
      "Iteration 28, inertia 1298244.318\n",
      "Iteration 28, inertia 1293900.868\n",
      "Iteration  2, inertia 1320479.659\n",
      "Iteration 28, inertia 1298864.238\n",
      "Iteration 29, inertia 1298243.994\n",
      "Iteration 29, inertia 1293899.796\n",
      "Iteration  3, inertia 1312051.798\n",
      "Iteration 29, inertia 1298864.238\n",
      "Iteration 30, inertia 1298243.749\n",
      "Iteration 30, inertia 1293898.845\n",
      "Iteration  4, inertia 1306588.498\n",
      "Iteration 30, inertia 1298864.238\n",
      "Iteration 31, inertia 1298243.630\n",
      "Iteration 31, inertia 1293898.623\n",
      "Iteration  5, inertia 1303478.622\n",
      "Iteration 31, inertia 1298864.238\n",
      "Converged at iteration 31\n",
      "Iteration 32, inertia 1298243.557\n",
      "Iteration 32, inertia 1293898.580\n",
      "Iteration  6, inertia 1301835.581\n",
      "Initialization complete\n",
      "Iteration 33, inertia 1298243.496\n",
      "Iteration 33, inertia 1293898.573\n",
      "Iteration  7, inertia 1300121.249\n",
      "Iteration  0, inertia 1338015.537\n",
      "Iteration 34, inertia 1298243.452\n",
      "Iteration 34, inertia 1293898.571\n",
      "Converged at iteration 34\n",
      "Iteration  8, inertia 1298385.164\n",
      "Iteration  1, inertia 1323503.426\n",
      "Iteration 35, inertia 1298243.357\n",
      "Iteration  9, inertia 1297340.458\n",
      "Initialization complete\n",
      "Iteration  2, inertia 1314756.955\n",
      "Iteration 36, inertia 1298243.296\n",
      "Iteration  0, inertia 1339726.306\n",
      "Iteration 10, inertia 1296920.338\n",
      "Iteration  3, inertia 1309246.982\n",
      "Iteration 37, inertia 1298243.220\n",
      "Iteration  1, inertia 1324830.902\n",
      "Iteration 11, inertia 1296846.205\n",
      "Iteration  4, inertia 1305709.175\n",
      "Iteration 38, inertia 1298242.957\n",
      "Iteration  2, inertia 1317083.095\n",
      "Iteration 12, inertia 1296804.710\n",
      "Iteration  5, inertia 1303629.399\n",
      "Iteration 39, inertia 1298242.027\n",
      "Iteration  3, inertia 1310997.788\n",
      "Iteration 13, inertia 1296716.996\n",
      "Iteration  6, inertia 1301696.791\n",
      "Iteration 40, inertia 1298241.371\n",
      "Iteration  4, inertia 1306750.319\n",
      "Iteration 14, inertia 1296659.104\n",
      "Iteration  7, inertia 1299356.736\n",
      "Iteration 41, inertia 1298240.565\n",
      "Iteration  5, inertia 1304309.179\n",
      "Iteration 15, inertia 1296642.559\n",
      "Iteration  8, inertia 1297508.805\n",
      "Iteration 42, inertia 1298239.846\n",
      "Iteration  6, inertia 1303139.358\n",
      "Iteration 16, inertia 1296626.910\n",
      "Iteration  9, inertia 1296754.663\n",
      "Iteration 43, inertia 1298237.693\n",
      "Iteration  7, inertia 1302598.130\n",
      "Iteration 17, inertia 1296613.224\n",
      "Iteration 10, inertia 1296506.826\n",
      "Iteration 44, inertia 1298236.088\n",
      "Iteration  8, inertia 1302224.549\n",
      "Iteration 18, inertia 1296606.116\n",
      "Iteration 11, inertia 1296482.948\n",
      "Iteration 45, inertia 1298234.523\n",
      "Iteration  9, inertia 1301892.228\n",
      "Iteration 19, inertia 1296601.155\n",
      "Iteration 12, inertia 1296476.628\n",
      "Iteration 46, inertia 1298232.883\n",
      "Iteration 10, inertia 1301605.746\n",
      "Iteration 20, inertia 1296595.867\n",
      "Iteration 13, inertia 1296472.270\n",
      "Iteration 47, inertia 1298231.154\n",
      "Iteration 11, inertia 1301381.834\n",
      "Iteration 21, inertia 1296587.984\n",
      "Iteration 14, inertia 1296468.946\n",
      "Iteration 48, inertia 1298229.565\n",
      "Iteration 12, inertia 1301281.186\n",
      "Iteration 22, inertia 1296579.755\n",
      "Iteration 15, inertia 1296464.442\n",
      "Iteration 49, inertia 1298227.745\n",
      "Iteration 13, inertia 1301202.065\n",
      "Iteration 16, inertia 1296458.738\n",
      "Iteration 23, inertia 1296549.850\n",
      "Iteration 50, inertia 1298223.819\n",
      "Iteration 14, inertia 1301112.365\n",
      "Iteration 17, inertia 1296448.582\n",
      "Iteration 24, inertia 1296439.828\n",
      "Iteration 51, inertia 1298222.004\n",
      "Iteration 15, inertia 1301068.691\n",
      "Iteration 18, inertia 1296439.133\n",
      "Iteration 25, inertia 1296424.077\n",
      "Iteration 52, inertia 1298221.536\n",
      "Iteration 16, inertia 1301031.880\n",
      "Iteration 19, inertia 1296433.434\n",
      "Iteration 26, inertia 1296421.277\n",
      "Iteration 53, inertia 1298221.468\n",
      "Iteration 17, inertia 1300935.173\n",
      "Iteration 20, inertia 1296431.607\n",
      "Iteration 27, inertia 1296420.529\n",
      "Iteration 54, inertia 1298221.454\n",
      "Iteration 18, inertia 1300857.417\n",
      "Iteration 21, inertia 1296431.047\n",
      "Iteration 28, inertia 1296419.750\n",
      "Iteration 55, inertia 1298221.452\n",
      "Iteration 19, inertia 1300802.113\n",
      "Iteration 22, inertia 1296430.920\n",
      "Iteration 29, inertia 1296419.701\n",
      "Iteration 56, inertia 1298221.451\n",
      "Iteration 20, inertia 1300750.688\n",
      "Iteration 23, inertia 1296430.865\n",
      "Iteration 30, inertia 1296419.676\n",
      "Iteration 57, inertia 1298221.450\n",
      "Iteration 21, inertia 1300691.459\n",
      "Iteration 24, inertia 1296430.848\n",
      "Iteration 31, inertia 1296419.667\n",
      "Iteration 58, inertia 1298221.449\n",
      "Converged at iteration 58\n",
      "Iteration 22, inertia 1300480.503\n",
      "Iteration 25, inertia 1296430.733\n",
      "Iteration 32, inertia 1296419.597\n",
      "Iteration 23, inertia 1299982.141\n",
      "Initialization complete\n",
      "Iteration 26, inertia 1296430.531\n",
      "Iteration 33, inertia 1296419.396\n",
      "Iteration 24, inertia 1299801.142\n",
      "Iteration  0, inertia 1337961.824\n",
      "Iteration 27, inertia 1296430.292\n",
      "Iteration 34, inertia 1296419.344\n",
      "Iteration 25, inertia 1299794.225\n",
      "Iteration  1, inertia 1321193.323\n",
      "Iteration 28, inertia 1296430.108\n",
      "Iteration 35, inertia 1296419.322\n",
      "Iteration 26, inertia 1299793.929\n",
      "Iteration  2, inertia 1311381.807\n",
      "Iteration 29, inertia 1296430.065\n",
      "Iteration 36, inertia 1296419.319\n",
      "Iteration 27, inertia 1299793.901\n",
      "Iteration  3, inertia 1305298.041\n",
      "Iteration 30, inertia 1296430.032\n",
      "Iteration 37, inertia 1296419.319\n",
      "Iteration 28, inertia 1299793.897\n",
      "Iteration  4, inertia 1302722.014\n",
      "Iteration 31, inertia 1296430.013\n",
      "Iteration 38, inertia 1296419.318\n",
      "Iteration 29, inertia 1299793.868\n",
      "Iteration  5, inertia 1301270.424\n",
      "Iteration 32, inertia 1296430.000\n",
      "Iteration 39, inertia 1296419.318\n",
      "Iteration 30, inertia 1299793.864\n",
      "Iteration  6, inertia 1300035.933\n",
      "Iteration 33, inertia 1296429.996\n",
      "Iteration 40, inertia 1296419.318\n",
      "Converged at iteration 40\n",
      "Iteration  7, inertia 1297819.629\n",
      "Iteration 31, inertia 1299793.864\n",
      "Iteration 34, inertia 1296429.994\n",
      "Initialization complete\n",
      "Iteration  8, inertia 1296705.672\n",
      "Iteration 32, inertia 1299793.863\n",
      "Iteration 35, inertia 1296429.993\n",
      "Iteration  0, inertia 1337335.679\n",
      "Iteration  9, inertia 1296147.801\n",
      "Iteration 33, inertia 1299793.863\n",
      "Iteration 36, inertia 1296429.993\n",
      "Iteration  1, inertia 1327074.288\n",
      "Iteration 10, inertia 1295993.255\n",
      "Iteration 34, inertia 1299793.863\n",
      "Iteration 37, inertia 1296429.992\n",
      "Iteration  2, inertia 1318012.827\n",
      "Iteration 11, inertia 1295864.889\n",
      "Iteration 35, inertia 1299793.863\n",
      "Iteration 38, inertia 1296429.992\n",
      "Iteration  3, inertia 1309997.832\n",
      "Iteration 12, inertia 1295703.201\n",
      "Iteration 36, inertia 1299793.862\n",
      "Iteration 39, inertia 1296429.992\n",
      "Iteration 13, inertia 1295591.037\n",
      "Iteration  4, inertia 1305585.438\n",
      "Iteration 37, inertia 1299793.862\n",
      "Iteration 40, inertia 1296429.991\n",
      "Iteration 14, inertia 1295538.830\n",
      "Iteration  5, inertia 1302151.235\n",
      "Iteration 38, inertia 1299793.862\n",
      "Converged at iteration 38\n",
      "Iteration 41, inertia 1296429.991\n",
      "Converged at iteration 41\n",
      "Iteration  6, inertia 1300333.157\n",
      "Iteration 15, inertia 1295493.995\n",
      "Initialization complete\n",
      "Iteration 16, inertia 1295448.915\n",
      "Iteration  7, inertia 1299846.591\n",
      "Iteration  8, inertia 1299708.852\n",
      "Iteration 17, inertia 1295407.141\n",
      "Iteration  0, inertia 1341029.442\n",
      "Iteration  9, inertia 1299677.158\n",
      "Iteration 10, inertia 1299662.376\n",
      "Iteration 18, inertia 1295374.031\n",
      "Iteration  1, inertia 1329895.012\n",
      "Iteration 19, inertia 1295308.332\n",
      "Iteration 11, inertia 1299655.620\n",
      "Iteration  2, inertia 1320906.495\n",
      "Iteration 20, inertia 1295256.566\n",
      "Iteration 12, inertia 1299646.867\n",
      "Iteration  3, inertia 1312790.758\n",
      "Iteration 21, inertia 1295233.889\n",
      "Iteration 13, inertia 1299640.892\n",
      "Iteration  4, inertia 1306688.358\n",
      "Iteration 14, inertia 1299629.223\n",
      "Iteration 22, inertia 1295229.332\n",
      "Iteration 15, inertia 1299613.166\n",
      "Iteration  5, inertia 1302902.340\n",
      "Iteration 23, inertia 1295225.558\n",
      "Iteration 16, inertia 1299598.717\n",
      "Iteration  6, inertia 1300616.203\n",
      "Iteration 24, inertia 1295224.188\n",
      "Iteration 17, inertia 1299575.482\n",
      "Iteration  7, inertia 1299487.427\n",
      "Iteration 25, inertia 1295223.468\n",
      "Iteration  8, inertia 1299088.536\n",
      "Iteration 18, inertia 1299541.928\n",
      "Iteration 26, inertia 1295222.764\n",
      "Iteration 19, inertia 1299517.262\n",
      "Iteration  9, inertia 1299028.655\n",
      "Iteration 27, inertia 1295222.037\n",
      "Iteration 20, inertia 1299458.651\n",
      "Iteration 10, inertia 1299010.173\n",
      "Iteration 28, inertia 1295221.766\n",
      "Iteration 21, inertia 1299420.394\n",
      "Iteration 11, inertia 1298987.429\n",
      "Iteration 29, inertia 1295221.635\n",
      "Iteration 22, inertia 1299370.320\n",
      "Iteration 12, inertia 1298803.480\n",
      "Iteration 30, inertia 1295221.573\n",
      "Iteration 13, inertia 1298566.831\n",
      "Iteration 23, inertia 1299305.974\n",
      "Iteration 31, inertia 1295221.525\n",
      "Iteration 14, inertia 1298439.578\n",
      "Iteration 24, inertia 1299237.719\n",
      "Iteration 32, inertia 1295221.507\n",
      "Iteration 15, inertia 1298412.727\n",
      "Iteration 25, inertia 1299183.029\n",
      "Iteration 33, inertia 1295221.496\n",
      "Iteration 16, inertia 1298393.291\n",
      "Iteration 26, inertia 1299163.576\n",
      "Iteration 34, inertia 1295221.482\n",
      "Iteration 17, inertia 1298382.525\n",
      "Iteration 27, inertia 1299161.391\n",
      "Iteration 35, inertia 1295221.475\n",
      "Iteration 18, inertia 1298375.687\n",
      "Iteration 36, inertia 1295221.413\n",
      "Iteration 28, inertia 1299161.027\n",
      "Iteration 19, inertia 1298371.917\n",
      "Iteration 20, inertia 1298367.750\n",
      "Iteration 29, inertia 1299160.920\n",
      "Iteration 37, inertia 1295221.398\n",
      "Iteration 21, inertia 1298360.829\n",
      "Iteration 30, inertia 1299160.772\n",
      "Iteration 38, inertia 1295221.389\n",
      "Iteration 22, inertia 1298313.581\n",
      "Iteration 31, inertia 1299160.768\n",
      "Iteration 39, inertia 1295221.385\n",
      "Iteration 23, inertia 1298265.389\n",
      "Iteration 32, inertia 1299160.768\n",
      "Iteration 40, inertia 1295221.385\n",
      "Iteration 33, inertia 1299160.768\n",
      "Converged at iteration 33\n",
      "Iteration 24, inertia 1298238.994\n",
      "Iteration 41, inertia 1295221.384\n",
      "Iteration 25, inertia 1298213.562\n",
      "Iteration 42, inertia 1295221.384\n",
      "Iteration 26, inertia 1298186.977\n",
      "Iteration 43, inertia 1295221.383\n",
      "Converged at iteration 43\n",
      "Iteration 27, inertia 1298165.784\n",
      "Iteration 28, inertia 1298148.718\n",
      "Iteration 29, inertia 1298141.501\n",
      "Iteration 30, inertia 1298139.332\n",
      "Iteration 31, inertia 1298138.367\n",
      "Iteration 32, inertia 1298138.051\n",
      "Iteration 33, inertia 1298137.689\n",
      "Iteration 34, inertia 1298137.475\n",
      "Iteration 35, inertia 1298137.306\n",
      "Iteration 36, inertia 1298137.236\n",
      "Iteration 37, inertia 1298136.986\n",
      "Iteration 38, inertia 1298136.354\n",
      "Iteration 39, inertia 1298135.715\n",
      "Iteration 40, inertia 1298135.544\n",
      "Iteration 41, inertia 1298135.507\n",
      "Iteration 42, inertia 1298135.501\n",
      "Iteration 43, inertia 1298135.500\n",
      "Converged at iteration 43\n",
      "CPU times: user 5.46 s, sys: 796 ms, total: 6.26 s\n",
      "Wall time: 25min 34s\n"
     ]
    },
    {
     "data": {
      "text/plain": [
       "KMeans(copy_x=True, init='k-means++', max_iter=300, n_clusters=51, n_init=10,\n",
       "    n_jobs=-1, precompute_distances='auto', random_state=None, tol=0.0001,\n",
       "    verbose=1)"
      ]
     },
     "execution_count": 47,
     "metadata": {},
     "output_type": "execute_result"
    }
   ],
   "source": [
    "from sklearn.cluster import KMeans\n",
    "\n",
    "num_clusters = 51\n",
    "\n",
    "km = KMeans(n_clusters=num_clusters , verbose=1 , n_jobs=-1)\n",
    "\n",
    "%time km.fit(tfidf_matrix)\n",
    "\n"
   ]
  },
  {
   "cell_type": "code",
   "execution_count": 48,
   "metadata": {
    "collapsed": false
   },
   "outputs": [],
   "source": [
    "import cPickle\n",
    "cPickle.dump(km , open('../Data/kmeans_51.pkl' , 'wb') , protocol=2)"
   ]
  },
  {
   "cell_type": "code",
   "execution_count": 53,
   "metadata": {
    "collapsed": false,
    "scrolled": true
   },
   "outputs": [
    {
     "name": "stdout",
     "output_type": "stream",
     "text": [
      "Cluster 0 , words [u'private', u'prisons', u'contracts', u'prison', u'tell', u'end', u'took', u'student', u'action', u'loans', u'server']\n",
      "()\n",
      "Cluster 1 , words [u'baby', u'friend', u'new', u'like', u\"i'm\", u'football', u'rt', u'young', u's', u'@', u\"don't\"]\n",
      "()\n",
      "Cluster 2 , words [u'day', u'great', u'today', u\"it's\", u'friend', u'good', u'happy', u'football', u'trump', u'learning', u'like']\n",
      "()\n",
      "Cluster 3 , words [u'dell', u'inspiron', u'laptop', u'xps', u'emc', u'ultrabook', u'latitude', u'#', u'deals', u'technologies', u'giveaway']\n",
      "()\n",
      "Cluster 4 , words [u'hillary', u'clinton', u'trump', u'obama', u\"clinton's\", u's', u'campaign', u'donald', u'rt', u'birther', u'vote']\n",
      "()\n",
      "Cluster 5 , words [u'intel', u'core', u'i7', u'desktop', u'i3', u'hp', u'lenovo', u'#', u'ram', u'ssd', u'new']\n",
      "()\n",
      "Cluster 6 , words [u'lumia', u'nokia', u'windows', u'lte', u'smartphone', u'verizon', u'gsm', u'wireless', u'phones', u'deals', u'unlocked']\n",
      "()\n",
      "Cluster 7 , words [u'i5', u'core', u'intel', u'elitebook', u'gen', u'hp', u'notebook', u'g3', u'desktop', u'g1', u'i7']\n",
      "()\n",
      "Cluster 8 , words [u'golf', u'volkswagen', u'gti', u'tcr', u'alltrack', u'racecar', u'clubsport', u'co2', u'passat', u'built', u'changes']\n",
      "()\n",
      "Cluster 9 , words [u'perc6', u'imsourcing', u'raid', u'controller', u'sas', u'e', u'dell', u'date', u'end', u'deals', u'deal']\n",
      "()\n",
      "Cluster 10 , words [u'join', u'opening', u'team', u'latest', u'dell', u'free', u'come', u'tweet', u'group', u'growing', u'love']\n",
      "()\n",
      "Cluster 11 , words [u'encounter', u'surprise', u'cancer', u'way', u'know', u'#', u'throwing', u'fornication', u'fornicator', u'fortify', u'fortifies']\n",
      "()\n",
      "Cluster 12 , words [u'door', u'open', u'gti', u'transfers', u'volkswagen', u'fairy', u'cost', u'low', u'policy', u'merkel', u'baby']\n",
      "()\n",
      "Cluster 13 , words [u'love', u'baby', u'friend', u'best', u'happy', u'like', u'u', u'trump', u\"i'm\", u'football', u'thanks']\n",
      "()\n",
      "Cluster 14 , words [u'acutely', u'aware', u'exactly', u'cancer', u'\\x7f', u'fort', u'forte', u\"forte's\", u'fortem', u'fortenberry', u'forsure']\n",
      "()\n",
      "Cluster 15 , words [u'simone', u'biles', u'adhd', u'olympic', u'hackers', u'medical', u'leak', u'olympics', u'opens', u'russian', u'records']\n",
      "()\n",
      "Cluster 16 , words [u'fwc', u'duress', u'nosey', u'usda', u'perform', u'forced', u'ask', u'arthritis', u'hurts', u'dangerous', u'fortenberry']\n",
      "()\n",
      "Cluster 17 , words [u'feet', u'spotted', u'traveling', u'airlines', u'flight', u'miles', u'away', u'american', u'southwest', u'forth', u\"forte's\"]\n",
      "()\n",
      "Cluster 18 , words [u'reasons', u'trump', u\"shouldn't\", u'president', u'donald', u'gte', u'twilight', u'buy', u'golf', u'volkswagen', u'agree']\n",
      "()\n",
      "Cluster 19 , words [u'flip', u'kyocera', u'rugged', u'cell', u'flop', u'phone', u'verizon', u'e4520', u'flops', u'dura', u'xv']\n",
      "()\n",
      "Cluster 20 , words [u'windows', u'desktop', u'pc', u'core', u'duo', u'wifi', u'ram', u'dell', u'fast', u'dvd', u'lcd']\n",
      "()\n",
      "Cluster 21 , words [u'lies', u'trump', u'hillary', u\"trump's\", u'clinton', u'donald', u'birther', u'media', u'obama', u'racism', u'truth']\n",
      "()\n",
      "Cluster 22 , words [u'disease', u'heart', u\"parkinson's\", u'cancer', u'celiac', u'sugar', u'arthritis', u'hillary', u'harvard', u'clinton', u'fat']\n",
      "()\n",
      "Cluster 23 , words [u'planned', u'parenthood', u'funding', u'abortion', u'permanently', u'defund', u'protects', u'stroke', u'obama', u'pen', u'president']\n",
      "()\n",
      "Cluster 24 , words [u'fashion', u'week', u'york', u'new', u'london', u'runway', u'style', u'street', u'spring', u'day', u'@']\n",
      "()\n",
      "Cluster 25 , words [u'excited', u\"i'm\", u\"we're\", u'today', u'super', u'new', u'tomorrow', u'learning', u'tonight', u'baby', u'week']\n",
      "()\n",
      "Cluster 26 , words [u'r3', u'emmc', u'sky', u'hdmi', u'acer', u'screen', u'blue', u'touch', u'win', u'new', u'deals']\n",
      "()\n",
      "Cluster 27 , words [u'yes', u'trump', u'baby', u'like', u'obama', u\"it's\", u\"i'm\", u'oh', u'friend', u'know', u'rt']\n",
      "()\n",
      "Cluster 28 , words [u'verizon', u'samsung', u'wireless', u'galaxy', u'lte', u'smartphone', u'apple', u'android', u'deals', u'phones', u'wi']\n",
      "()\n",
      "Cluster 29 , words [u'fully', u'loaded', u'dvd', u'windows', u'burner', u'wifi', u'webcam', u'desktop', u'hp', u'pavilion', u'notebook']\n",
      "()\n",
      "Cluster 30 , words [u'rheumatism', u'remedy', u'joint', u'problems', u'arthritis', u'best', u'solutions', u'simple', u'got', u'fort', u'forte']\n",
      "()\n",
      "Cluster 31 , words [u'poorest', u'overcharging', u'donors', u'systematically', u'campaign', u'exclusive', u'hillary', u'clinton', u'observer', u'caught', u'stealing']\n",
      "()\n",
      "Cluster 32 , words [u'burberry', u'london', u'fashion', u'buy', u'week', u'chatbots', u'experimenting', u'cara', u'runway', u'lfw', u'september']\n",
      "()\n",
      "Cluster 33 , words [u'audi', u'r8', u'porsche', u'airbnb', u'suspended', u'scandal', u'tt', u\"vw's\", u'r', u'bild', u'emissions']\n",
      "()\n",
      "Cluster 34 , words [u'trump', u'donald', u'clinton', u's', u'rt', u'campaign', u'vote', u'media', u'obama', u'says', u'president']\n",
      "()\n",
      "Cluster 35 , words [u'making', u'decision', u'beca', u'challenging', u'tough', u'cancer', u'today', u'trump', u'great', u'like', u\"i'm\"]\n",
      "()\n",
      "Cluster 36 , words [u'bmw', u'volkswagen', u'highways', u'chargers', u'ev', u'chargepoint', u'blanket', u'charging', u'car', u'busy', u'electric']\n",
      "()\n",
      "Cluster 37 , words [u'humiliation', u'ritual', u'popular', u'media', u\"trump's\", u's', u'trump', u'milo', u'love', u'milos', u'enamored']\n",
      "()\n",
      "Cluster 38 , words [u'download', u'checked', u'today', u'wireless', u'distributor', u'mobile', u't', u'metropcs', u'cricket', u'verizon', u'nearest']\n",
      "()\n",
      "Cluster 39 , words [u'volkswagen', u'car', u'beetle', u'vw', u'amarok', u'firm', u'diesel', u'cybersecurity', u'cars', u'israeli', u'jetta']\n",
      "()\n",
      "Cluster 40 , words [u'desktop', u'dell', u'optiplex', u'core', u'pc', u'duo', u'fast', u'tower', u'#', u'windows', u'pro']\n",
      "()\n",
      "Cluster 41 , words [u'tmobile', u'iphone', u'phone', u'free', u'network', u'got', u'gained', u'service', u'access', u\"i'm\", u'lol']\n",
      "()\n",
      "Cluster 42 , words [u'rdx', u'disk', u'backup', u'external', u'removable', u'usb', u'cartridge', u'hp', u'deals', u'date', u'oct']\n",
      "()\n",
      "Cluster 43 , words [u\"it's\", u'time', u'like', u'trump', u\"i'm\", u\"don't\", u'good', u'racism', u'people', u'know', u'think']\n",
      "()\n",
      "Cluster 44 , words [u't', u'mobile', u'iphone', u'apple', u'ios', u'verizon', u'lte', u'unlocked', u'plus', u'smartphone', u'sprint']\n",
      "()\n",
      "Cluster 45 , words [u'supporters', u'trump', u'deplorable', u'hillary', u'clinton', u'half', u'racist', u'rt', u'deplorables', u\"trump's\", u'donald']\n",
      "()\n",
      "Cluster 46 , words [u'totally', u'trump', u'agree', u\"i'm\", u'unprepared', u'martha', u\"it's\", u'stewart', u'like', u'different', u'hillary']\n",
      "()\n",
      "Cluster 47 , words [u'audible', u'prime', u'amazon', u'free', u'channels', u'audiobooks', u'adds', u'benefit', u'members', u'burglary', u'alarm']\n",
      "()\n",
      "Cluster 48 , words [u'reward', u'bonus', u\"shouldn't\", u'fraud', u'million', u'sign', u'w', u\"gov't\", u'plz', u'outrageous', u'unacceptable']\n",
      "()\n",
      "Cluster 49 , words [u'check', u'new', u'deal', u'size', u'dress', u'vintage', u'hp', u'want', u'black', u'thanks', u'following']\n",
      "()\n",
      "Cluster 50 , words [u'hp', u'pavilion', u'laptop', u'deals', u'printer', u'end', u'monitor', u'lcd', u'date', u'led', u'#']\n",
      "()\n"
     ]
    }
   ],
   "source": [
    "tfidf_idx2vocab = {v:k for k,v in tfidf_vectorizer.vocabulary_.iteritems()}\n",
    "#sort cluster centers by proximity to centroid\n",
    "order_centroids = km.cluster_centers_.argsort()[:, ::-1] \n",
    "\n",
    "for i in range(num_clusters):\n",
    "    \n",
    "    cluster_words = order_centroids[i, :11]\n",
    "    words = [tfidf_idx2vocab[_] for _ in cluster_words]\n",
    "    \n",
    "    print(\"Cluster {} , words {}\".format(i, words))\n",
    "    print ()"
   ]
  },
  {
   "cell_type": "code",
   "execution_count": null,
   "metadata": {
    "collapsed": false
   },
   "outputs": [],
   "source": []
  },
  {
   "cell_type": "code",
   "execution_count": 63,
   "metadata": {
    "collapsed": true
   },
   "outputs": [],
   "source": [
    "def print_top_words(model, feature_names, n_top_words):\n",
    "    for topic_idx, topic in enumerate(model.components_):\n",
    "        print(\"Topic #%d:\" % topic_idx)\n",
    "        print(\" \".join([feature_names[i]\n",
    "                        for i in topic.argsort()[:-n_top_words - 1:-1]]))\n",
    "    print()"
   ]
  },
  {
   "cell_type": "code",
   "execution_count": 61,
   "metadata": {
    "collapsed": false
   },
   "outputs": [],
   "source": [
    "from sklearn.decomposition import NMF, LatentDirichletAllocation"
   ]
  },
  {
   "cell_type": "code",
   "execution_count": 62,
   "metadata": {
    "collapsed": false
   },
   "outputs": [
    {
     "name": "stdout",
     "output_type": "stream",
     "text": [
      "CPU times: user 27min 50s, sys: 9.82 s, total: 28min\n",
      "Wall time: 25min 25s\n"
     ]
    }
   ],
   "source": [
    "# Fit the NMF model\n",
    "\n",
    "%time nmf = NMF(n_components=51, random_state=1, alpha=.1, l1_ratio=.5).fit(tfidf_matrix)"
   ]
  },
  {
   "cell_type": "code",
   "execution_count": 64,
   "metadata": {
    "collapsed": false
   },
   "outputs": [
    {
     "name": "stdout",
     "output_type": "stream",
     "text": [
      "\n",
      "Topics in NMF model:\n",
      "Topic #0:\n",
      "trump donald vote media supporters tax president campaign says poll birther racist rally america said jr voters watch support deplorable foundation\n",
      "Topic #1:\n",
      "desktop core windows pc duo wifi fast ram tower dvd intel dual dell optiplex pro ghz lcd monitor hd i5 deals\n",
      "Topic #2:\n",
      "baby girl boy happy oh birthday cute little beautiful shower yeah come bridget miss got seat sweet blue toddler closer pull\n",
      "Topic #3:\n",
      "new fashion week york london style street runway spring nyfw collection models times ss17 looks trends hijabs september designer history city\n",
      "Topic #4:\n",
      "checked download mpoints donate distributor wireless today metropcs cricket mobile nearest earn hertz watchers app weight store depot rent avis official\n",
      "Topic #5:\n",
      "hillary clinton campaign poll clinton's birther health video pneumonia says voters vote started movement emails supporters trail foundation ohio sick email\n",
      "Topic #6:\n",
      "friend happy dear you're birthday old asking ur hello new close got partner tell friends lol lean comes scorpio beautiful girl\n",
      "Topic #7:\n",
      "apple ipad wi fi generation air mini verizon cellular retina display black unlocked ios mc763ll factory ebay tablet gray iphone gen\n",
      "Topic #8:\n",
      "it's time think stay september healthy marathon long going year hard isn't big amazing can't stop true years safe i've late\n",
      "Topic #9:\n",
      "hp intel pavilion i5 notebook core laptop elitebook led monitor gen hdmi deals i7 business w ips lcd g3 touch end\n",
      "Topic #10:\n",
      "love happy birthday d hate join switch gotta girl i'd beautiful absolutely guys skincare we'd life amazing showing cr shopping seeing\n",
      "Topic #11:\n",
      "@ center park london ram hdd stadium skylight tickets amc w vs arena posted moynihan site nyfw refurbished airlines photo t\n",
      "Topic #12:\n",
      "s comes convertible affordable x360 pavilion digital o plan news health tax women donald volkswagen nyfw time m tech abortion says\n",
      "Topic #13:\n",
      "like looks feel sounds lol feels shit i'd doesn't they're said guys you're sound guy going he's don't wendy's looked got\n",
      "Topic #14:\n",
      "right got that's you're alt way thing left can't yeah oh wendy's he's lol wing guys wrong live data we've ink\n",
      "Topic #15:\n",
      "football game night team watch live fantasy play season sunday tonight thursday watching monday league playing vs nfl club fans friday\n",
      "Topic #16:\n",
      "verizon wireless smartphone lte deals phones android motorola wifi cell iphone droid lg unlocked apple mobiles phone lumia htc black nokia\n",
      "Topic #17:\n",
      "day happy nyfw birthday beautiful tomorrow launch game start hope street london challenge morning long ready amazing come breakfast highlights style\n",
      "Topic #18:\n",
      "samsung galaxy sm tab android s6 note unlocked lte gsm edge tablet black deals phones smartphone t337v t537v s7 s5 s2\n",
      "Topic #19:\n",
      "i'm going sure gonna getting lol voting sorry ready excited wendy's can't trying glad sick think phone i've proud waiting tired\n",
      "Topic #20:\n",
      "airlines flight american spotted feet traveling away miles southwest traveled fitbit steps center hires accounting fires staff foreign african h book\n",
      "Topic #21:\n",
      "u ur r w n born guys think trillion cost tax can't fuck foreign dont b government lol says ties security\n",
      "Topic #22:\n",
      "great america cancer deal friends pleasure derive job work story way achievements night time article news read weekend works event awesome\n",
      "Topic #23:\n",
      "t mobile iphone ios apple unlocked plus users customers gsm update lte park wifi stadium smartphone install lg air warns service\n",
      "Topic #24:\n",
      "thanks following latest follow daily sharing having hey support awesome amazing team helping guys supporting grow know hi chance nail digital\n",
      "Topic #25:\n",
      "win lenovo enter tablet month visiting pc chance entered yoga book laptop i've thinkpad shopping gift card ideapad hd new inch\n",
      "Topic #26:\n",
      "sprint iphone cr pre switch phone plus cup apple order marathon store gold new upgrade got ebay orders service gray free\n",
      "Topic #27:\n",
      "young man vulgar video stars old women want thug neil guns lady age you're years liked girl meet woman learn men\n",
      "Topic #28:\n",
      "home depot work card store gift founder come woman sweepstakes missing beat body e michigan drain stewart tony elected america retirement\n",
      "Topic #29:\n",
      "racism black white wayne lil racist thing america hate doesn't can't exist bigotry trump's said stop isn't think experienced that's matter\n",
      "Topic #30:\n",
      "look ebay phone runway nyfw ready occasion create worthy special ll forward affordable collection spring we'll selection models they're nice beauty\n",
      "Topic #31:\n",
      "learning students machine school fun internet looking education learn forward work use life class kids teaching things new experience classroom based\n",
      "Topic #32:\n",
      "best deals style street weight thing looks loss beauty way world voting buy nyfw birthday practices smartphone arthritis worst rheumatism remedy\n",
      "Topic #33:\n",
      "burger king fries chicken cheetos video liked food cheeto king's eat wendy's review eating nuggets burgers mcdonald's fuck got taste way\n",
      "Topic #34:\n",
      "hunger strike games manning chelsea ends end gender surgery army agrees treatment world food fight action breaking ending dying approves video\n",
      "Topic #35:\n",
      "good morning luck news looking thing that's bad job life guys pretty idea balanced work read night choice wendy's performance sounds\n",
      "Topic #36:\n",
      "check deal new dress video size blog following phone post vintage item black shirt volkswagen listing fact blue hey tips lot\n",
      "Topic #37:\n",
      "obama president born michelle barack america birther says campaign muslim said years states black administration united pardon insult isis refugees american\n",
      "Topic #38:\n",
      "airport way london city international manchester heathrow flight gatwick time hours security plane scans cancelled waiting body leaked stansted i've delayed\n",
      "Topic #39:\n",
      "help weight loss tips lose phone better arthritis watchers fight business let plan can't cancer new simple little grow support ways\n",
      "Topic #40:\n",
      "people think white american vote going black saying stop adhd working lot makes country won't can't believe tell shouldn't things hold\n",
      "Topic #41:\n",
      "today cancer download beca discount challenging making decision crazy tough come scorpio lean join campus partner close got excited store shopping\n",
      "Topic #42:\n",
      "mcdonalds got h hires fires accounting foreign staff american eat breakfast breitbart fries want eating food drive lol nuggets im work\n",
      "Topic #43:\n",
      "college free student loans debt pay plan going students business school education audible save shipping life amazon university prime you're loan\n",
      "Topic #44:\n",
      "dhs immigration report border damning sitting accused issue race drives presidential illegal security news citizenship app buried study immigrants hiding fox\n",
      "Topic #45:\n",
      "thank support god amazing hey following supporting dear having service awesome proud mr sharing follow choosing slut sponsors appreciate goodness beautiful\n",
      "Topic #46:\n",
      "dell xps inspiron laptop ultrabook emc giveaway international latitude technologies optiplex deals keyboard touch cover i5 hd team new battery venue\n",
      "Topic #47:\n",
      "don't know want let think work care miss you're things vote didn't we're forget doesn't click wendy's understand details vulgar tell\n",
      "Topic #48:\n",
      "need know stop adderall shopping business education asap things life vote alltrack digital change estate businesses social golf talk start going\n",
      "Topic #49:\n",
      "rt says follow trump's said pls htt ht plz sign called deplorable let's president campaign h deplorables going f share vote\n",
      "Topic #50:\n",
      "# laptop end offers hot lenovo deals antique lot date new i7 camera optiplex custom ddr4 digital intel lens thinkpad kids\n",
      "()\n"
     ]
    }
   ],
   "source": [
    "print(\"\\nTopics in NMF model:\")\n",
    "tfidf_feature_names = tfidf_vectorizer.get_feature_names()\n",
    "print_top_words(nmf, tfidf_feature_names, 21)"
   ]
  },
  {
   "cell_type": "code",
   "execution_count": 66,
   "metadata": {
    "collapsed": false
   },
   "outputs": [
    {
     "name": "stdout",
     "output_type": "stream",
     "text": [
      "CPU times: user 13.2 s, sys: 144 ms, total: 13.3 s\n",
      "Wall time: 13.2 s\n",
      "(1380434, 64295)\n"
     ]
    }
   ],
   "source": [
    "#define vectorizer parameters\n",
    "from gensim.parsing.preprocessing import STOPWORDS as sp\n",
    "tfidf_vectorizer_new = TfidfVectorizer(\n",
    "                                stop_words=sp , analyzer='word', max_df = 0.9 , min_df = 11 ,\n",
    "                                use_idf=True, tokenizer=preprocess_tfidf)\n",
    "\n",
    "%time tfidf_matrix_new = tfidf_vectorizer_new.fit_transform(tweet_parsed) #fit the vectorizer to synopses\n",
    "\n",
    "print(tfidf_matrix_new.shape)"
   ]
  },
  {
   "cell_type": "code",
   "execution_count": 67,
   "metadata": {
    "collapsed": false
   },
   "outputs": [
    {
     "name": "stdout",
     "output_type": "stream",
     "text": [
      "(1380434, 35528)\n"
     ]
    }
   ],
   "source": [
    "print(tfidf_matrix_new.shape)"
   ]
  },
  {
   "cell_type": "code",
   "execution_count": 71,
   "metadata": {
    "collapsed": false
   },
   "outputs": [
    {
     "name": "stdout",
     "output_type": "stream",
     "text": [
      "CPU times: user 2h 3min 29s, sys: 2.14 s, total: 2h 3min 32s\n",
      "Wall time: 2h 3min 31s\n"
     ]
    },
    {
     "data": {
      "text/plain": [
       "LatentDirichletAllocation(batch_size=128, doc_topic_prior=None,\n",
       "             evaluate_every=-1, learning_decay=0.7,\n",
       "             learning_method='online', learning_offset=50.0,\n",
       "             max_doc_update_iter=100, max_iter=5, mean_change_tol=0.001,\n",
       "             n_jobs=1, n_topics=51, perp_tol=0.1, random_state=0,\n",
       "             topic_word_prior=None, total_samples=1000000.0, verbose=0)"
      ]
     },
     "execution_count": 71,
     "metadata": {},
     "output_type": "execute_result"
    }
   ],
   "source": [
    "lda = LatentDirichletAllocation(n_topics=51, max_iter=5,\n",
    "                                learning_method='online',  learning_offset=50.,\n",
    "                                random_state=0 )\n",
    "%time lda.fit(tfidf_matrix_new)"
   ]
  },
  {
   "cell_type": "code",
   "execution_count": 72,
   "metadata": {
    "collapsed": true
   },
   "outputs": [],
   "source": [
    "cPickle.dump(lda , open('../Data/lda_51.pkl', 'wb') , protocol=2)"
   ]
  },
  {
   "cell_type": "code",
   "execution_count": 74,
   "metadata": {
    "collapsed": false
   },
   "outputs": [
    {
     "name": "stdout",
     "output_type": "stream",
     "text": [
      "Topic #0:\n",
      "education run special literally account results talks diet wake road boost\n",
      "Topic #1:\n",
      "trump donald president obama you're things hillary rt clinton racist trump's\n",
      "Topic #2:\n",
      "love today download college checked join guys hey learn story family\n",
      "Topic #3:\n",
      "hillary clinton history chicken action fries trump lying death foreign s\n",
      "Topic #4:\n",
      "great getting tips better phone pay stay try awesome event proud\n",
      "Topic #5:\n",
      "right party campaign wendy's school trump birther data high book gop\n",
      "Topic #6:\n",
      "hours second golf enjoy protect sent foods mistakes sit lit creating\n",
      "Topic #7:\n",
      "thanks think racism i'm doesn't follow having supporters friends anti makes\n",
      "Topic #8:\n",
      "look check hear color mass shirt hand guns tmobile glad dont\n",
      "Topic #9:\n",
      "i'll audible problem free yesterday fix amazon pm uk mlk gone\n",
      "Topic #10:\n",
      "end ready date lose friday sunday saturday sep tuesday outside semester\n",
      "Topic #11:\n",
      "come team support thing women play let's app group rugby men\n",
      "Topic #12:\n",
      "vote americans r d deal eat pretty e trump en seriously\n",
      "Topic #13:\n",
      "know thank going bad good morning hope it's god mean issues\n",
      "Topic #14:\n",
      "airport that's read lol night he's service oh feel won't city\n",
      "Topic #15:\n",
      "mcdonalds yes gold apple latest wi food fi ipad air taking\n",
      "Topic #16:\n",
      "happy hate talk porsche weekend birthday i'd opening omg north seeing\n",
      "Topic #17:\n",
      "best little beautiful tomorrow wants friend meet discrimination experience red beauty\n",
      "Topic #18:\n",
      "learning big trying shit platform month talking miss ask goes tv\n",
      "Topic #19:\n",
      "health buy needs skincare skin point discount sales amc products states\n",
      "Topic #20:\n",
      "football live game money vs tell listen watching playing super fucking\n",
      "Topic #21:\n",
      "can't people voters wait fuck here's trump future believe place person\n",
      "Topic #22:\n",
      "adhd days htt children steps classroom l guess monday eating fitbit\n",
      "Topic #23:\n",
      "week fashion new york london let collection spring police shows runway\n",
      "Topic #24:\n",
      "throwing o season sorry fact thinking challenge stories nation legal created\n",
      "Topic #25:\n",
      "news digital man tech save marketing daily international millennials n retirement\n",
      "Topic #26:\n",
      "business student small loans die debt non airline bonus legacy alive\n",
      "Topic #27:\n",
      "@ words building proof totally station skills basketball handle meng jesus\n",
      "Topic #28:\n",
      "work life way long x comes details link welcome stand following\n",
      "Topic #29:\n",
      "day immigration dhs report race open issue security line travel share\n",
      "Topic #30:\n",
      "start campus change bring hot easy reason girls shot walk y'all\n",
      "Topic #31:\n",
      "nyfw body andy wish murray breaking illegals photos wall success mr\n",
      "Topic #32:\n",
      "cancer weight old fun loss arthritis there's release plans turn program\n",
      "Topic #33:\n",
      "hunger games state true dr strike seen minutes chelsea ends oz\n",
      "Topic #34:\n",
      "verizon t iphone mobile wireless samsung lte smartphone galaxy deals phones\n",
      "Topic #35:\n",
      "video watch liked young returns fans added movie prison continues met\n",
      "Topic #36:\n",
      "white amazing working house we're isn't september add mt jumping works\n",
      "Topic #37:\n",
      "american away flight abortion airlines sign wrong miles spotted low feet\n",
      "Topic #38:\n",
      "baby king said burger years looks use girl kids order set\n",
      "Topic #39:\n",
      "making social offer age sad stars drop feeling common tough decision\n",
      "Topic #40:\n",
      "real post face woman photo lies trump rally important saying question\n",
      "Topic #41:\n",
      "help year friend students need ur canada customers u yeah sale\n",
      "Topic #42:\n",
      "hp got case i've cover online b pavilion led twitter touch\n",
      "Topic #43:\n",
      "sprint car lot perfect cup tickets war size forward st match\n",
      "Topic #44:\n",
      "dell laptop power notebook hp time i7 gen republicans inspiron battery\n",
      "Topic #45:\n",
      "world looking series h yoga records study understand taxes medical chase\n",
      "Topic #46:\n",
      "win plan job walgreens care chance enter child lie lead nyc\n",
      "Topic #47:\n",
      "offers hard drive update gb ios tells oct box upgrade services\n",
      "Topic #48:\n",
      "stop shopping thought available blue healthy local michelle government walking light\n",
      "Topic #49:\n",
      "core desktop pc dell windows # intel hp fast pro ram\n",
      "Topic #50:\n",
      "want america home tax sure store million volkswagen democrats depot credit\n",
      "()\n"
     ]
    }
   ],
   "source": [
    "tf_feature_names = tfidf_vectorizer_new.get_feature_names()\n",
    "print_top_words(lda, tf_feature_names, 11)"
   ]
  },
  {
   "cell_type": "code",
   "execution_count": null,
   "metadata": {
    "collapsed": true
   },
   "outputs": [],
   "source": []
  }
 ],
 "metadata": {
  "kernelspec": {
   "display_name": "Python 2",
   "language": "python",
   "name": "python2"
  },
  "language_info": {
   "codemirror_mode": {
    "name": "ipython",
    "version": 2
   },
   "file_extension": ".py",
   "mimetype": "text/x-python",
   "name": "python",
   "nbconvert_exporter": "python",
   "pygments_lexer": "ipython2",
   "version": "2.7.11"
  }
 },
 "nbformat": 4,
 "nbformat_minor": 0
}
