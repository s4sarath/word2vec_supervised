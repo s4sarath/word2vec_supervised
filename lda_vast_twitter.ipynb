{
 "cells": [
  {
   "cell_type": "code",
   "execution_count": 43,
   "metadata": {
    "collapsed": false
   },
   "outputs": [],
   "source": [
    "from collections import Counter\n",
    "from gensim.parsing.preprocessing import STOPWORDS\n",
    "STOPWORDS = list(set(STOPWORDS))\n",
    "STOPWORDS = STOPWORDS + ['rt' , \"it's\" , 'says' , \"doesn't\" , \"shes\" ,\"hes\" , \"she's\" ,\"he's\"]\n",
    "import re\n",
    "import matplotlib.pyplot as plt \n",
    "%matplotlib inline\n",
    "import numpy as np\n",
    "import seaborn\n",
    "import graphlab as gl\n"
   ]
  },
  {
   "cell_type": "code",
   "execution_count": 2,
   "metadata": {
    "collapsed": false
   },
   "outputs": [
    {
     "name": "stdout",
     "output_type": "stream",
     "text": [
      "current file is: ../Data/twitter_categ_data/Travel.json\n",
      "current file is: ../Data/twitter_categ_data/technology & computing.json\n",
      "current file is: ../Data/twitter_categ_data/Style&Fashion.json\n",
      "current file is: ../Data/twitter_categ_data/Health & Fitness.json\n",
      "current file is: ../Data/twitter_categ_data/Classifieds.json\n",
      "current file is: ../Data/twitter_categ_data/Telecom.json\n",
      "current file is: ../Data/twitter_categ_data/Food & Drink.json\n",
      "current file is: ../Data/twitter_categ_data/Arts&Entertainment.json\n",
      "current file is: ../Data/twitter_categ_data/automobile.json\n",
      "current file is: ../Data/twitter_categ_data/Personal Finance.json\n",
      "current file is: ../Data/twitter_categ_data/Sports.json\n",
      "current file is: ../Data/twitter_categ_data/Business.json\n",
      "current file is: ../Data/twitter_categ_data/Shopping.json\n",
      "current file is: ../Data/twitter_categ_data/Real Estate.json\n",
      "current file is: ../Data/twitter_categ_data/Government.json\n",
      "current file is: ../Data/twitter_categ_data/Charity.json\n"
     ]
    }
   ],
   "source": [
    "import os\n",
    "import glob\n",
    "import json\n",
    "path = '../Data/twitter_categ_data/'\n",
    "data_holder_dict = {}\n",
    "for infile in glob.glob( os.path.join(path, '*.json') ):\n",
    "    data_holder_dict[infile.split('/')[-1].split('.')[0]] = json.load(open(infile))\n",
    "    print \"current file is: \" + infile"
   ]
  },
  {
   "cell_type": "code",
   "execution_count": 3,
   "metadata": {
    "collapsed": true
   },
   "outputs": [],
   "source": [
    "\n",
    "tweet_holder = []\n",
    "for key_ in data_holder_dict.iterkeys():\n",
    "    sub_key_ = data_holder_dict[key_].keys()[0]\n",
    "    tweet_data = data_holder_dict[key_][sub_key_]\n",
    "    for tweet_dict in tweet_data:\n",
    "        tweet_holder.append(tweet_dict[u'twitter_text'])"
   ]
  },
  {
   "cell_type": "code",
   "execution_count": 4,
   "metadata": {
    "collapsed": false
   },
   "outputs": [
    {
     "name": "stdout",
     "output_type": "stream",
     "text": [
      "The total length of tweets is 28683\n"
     ]
    }
   ],
   "source": [
    "print 'The total length of tweets is {}'.format(len(tweet_holder))"
   ]
  },
  {
   "cell_type": "code",
   "execution_count": 5,
   "metadata": {
    "collapsed": false
   },
   "outputs": [
    {
     "name": "stdout",
     "output_type": "stream",
     "text": [
      "The length of data is 2027707\n"
     ]
    }
   ],
   "source": [
    "data = json.load(open('../Data/gnip_sample2m.json'))\n",
    "print \"The length of data is {}\".format(len(data))\n",
    "twitter_2m = [item[u'twitter_text'] for item in data]"
   ]
  },
  {
   "cell_type": "code",
   "execution_count": 6,
   "metadata": {
    "collapsed": true
   },
   "outputs": [],
   "source": [
    "########### Clubbing together\n",
    "\n",
    "tweet_holder = tweet_holder + twitter_2m"
   ]
  },
  {
   "cell_type": "code",
   "execution_count": 10,
   "metadata": {
    "collapsed": false
   },
   "outputs": [],
   "source": [
    "\n",
    "def deduplication_tweets(tweets):\n",
    "    '''\n",
    "    tweets: should be a list of text\n",
    "    '''\n",
    "    tweets_deduplicated = list(set(tweets))\n",
    "    return tweets_deduplicated"
   ]
  },
  {
   "cell_type": "code",
   "execution_count": 12,
   "metadata": {
    "collapsed": false
   },
   "outputs": [
    {
     "name": "stdout",
     "output_type": "stream",
     "text": [
      "CPU times: user 1.05 s, sys: 8 ms, total: 1.06 s\n",
      "Wall time: 1.06 s\n",
      "The length of new set of tweets is 1405117\n"
     ]
    }
   ],
   "source": [
    "%time tweets_deduplicated = deduplication_tweets(tweet_holder)\n",
    "print \"The length of new set of tweets is {}\".format(len(tweets_deduplicated))"
   ]
  },
  {
   "cell_type": "code",
   "execution_count": 13,
   "metadata": {
    "collapsed": true
   },
   "outputs": [],
   "source": [
    "remove_numbers = re.compile(ur'(\\b\\d\\S+)' , re.IGNORECASE | re.MULTILINE)\n",
    "remove_numbers = re.compile(ur'\\b\\d+\\b' , re.IGNORECASE | re.MULTILINE)\n",
    "remove_url = re.compile(ur\"(\\bhttp\\S+)\", re.IGNORECASE | re.MULTILINE)\n",
    "remove_user_mention = re.compile(ur'(\\B@\\S+)', re.IGNORECASE | re.MULTILINE)\n",
    "remove_rt = re.compile(ur'(^rt\\s+)', re.IGNORECASE | re.MULTILINE)\n",
    "remove_mutiple_spaces = re.compile( ur'\\s+', re.IGNORECASE | re.MULTILINE)\n",
    "remove_isolated_hash = re.compile(ur'(\\s+#\\s+)', re.MULTILINE | re.IGNORECASE)\n",
    "# remove_hashtag = re.compile(ur'(\\B#\\S+)', re.IGNORECASE | re.MULTILINE)\n",
    "remove_appostrophe_b4 = re.compile(ur'\\'(?![a-z])', re.MULTILINE | re.IGNORECASE)\n",
    "remove_appostrophe_after = re.compile(ur'(?<![a-z])\\'', re.MULTILINE | re.IGNORECASE)\n",
    "remove_punctn_b4 = re.compile(ur'\"(?![a-z])', re.MULTILINE | re.IGNORECASE)\n",
    "remove_punctn_after = re.compile(ur'(?<![a-z])\"', re.MULTILINE | re.IGNORECASE)\n",
    "remove_dollar = re.compile(ur'\\$(?![a-z])', re.MULTILINE | re.IGNORECASE)\n",
    "\n",
    "def translate_non_alphanumerics(to_translate, translate_to=u' '):\n",
    "    not_letters_or_digits = u'!\"%\\()&*+,-/:;<=>?[\\]^_.`{|}~'\n",
    "    if not isinstance(to_translate, unicode):\n",
    "        to_translate = unicode(to_translate)\n",
    "        \n",
    "    if isinstance(to_translate, unicode):\n",
    "        translate_table = dict((ord(char), unicode(translate_to))\n",
    "                               for char in not_letters_or_digits)\n",
    "    else:\n",
    "        assert isinstance(to_translate, str)\n",
    "        translate_table = string.maketrans(not_letters_or_digits,\n",
    "                                           translate_to\n",
    "                                              *len(not_letters_or_digits))\n",
    "    return to_translate.translate(translate_table)\n",
    "\n",
    "\n",
    "def tweet_parser(tweet):\n",
    "    \n",
    "    tweet = [tweet_text.lower().strip() for tweet_text in tweet]\n",
    "    tweet = map( lambda x: re.sub(remove_numbers, ' ', x) , tweet) \n",
    "    tweet = map( lambda x: re.sub(remove_url, ' ', x) , tweet) \n",
    "    tweet = map( lambda x: re.sub(remove_user_mention, ' ', x) , tweet)\n",
    "    tweet = map( lambda x: re.sub(remove_rt, ' ', x), tweet)\n",
    "#     tweet = map( lambda x: re.sub(remove_hashtag, ' ', x),  tweet)\n",
    "    tweet = map( lambda x: re.sub(remove_appostrophe_b4, ' ', x) , tweet)\n",
    "    tweet = map( lambda x: re.sub(remove_appostrophe_after, ' ', x) , tweet)\n",
    "    tweet = map( lambda x: re.sub(remove_punctn_b4, ' ', x) , tweet)\n",
    "    tweet = map( lambda x: re.sub(remove_punctn_after, ' ', x) , tweet)\n",
    "    tweet = map( translate_non_alphanumerics , tweet)\n",
    "    tweet = map( lambda x: re.sub(remove_mutiple_spaces, ' ', x),  tweet)\n",
    "    tweet = map( lambda x: re.sub(remove_isolated_hash, ' ', x),  tweet)\n",
    "    tweet = map( lambda x: re.sub(remove_dollar, ' ', x),  tweet)\n",
    "    \n",
    "    return tweet\n",
    "    "
   ]
  },
  {
   "cell_type": "code",
   "execution_count": 14,
   "metadata": {
    "collapsed": true
   },
   "outputs": [],
   "source": [
    "def plot_barchart(data_to_plot):\n",
    "  \n",
    "    seaborn.set(style=\"white\", context=\"talk\")\n",
    "     \n",
    "    fig, ax = plt.subplots(1, figsize=(30, 10))\n",
    "\n",
    "    # save the names and their respective scores separately\n",
    "    # reverse the tuples to go from most frequent to least frequent \n",
    "    x_data = zip(*data_to_plot)[0]\n",
    "    y_data = zip(*data_to_plot)[1]\n",
    "    x_pos = np.arange(len(x_data)) \n",
    "\n",
    "    # calculate slope and intercept for the linear trend line\n",
    "    slope, intercept = np.polyfit(x_pos, y_data, 1)\n",
    "#     trendline = intercept + (slope * x_pos)\n",
    "\n",
    "#     plt.plot(x_pos, trendline, color='red', linestyle='--')    \n",
    "    plt.bar(x_pos, y_data,align='edge')\n",
    "    plt.xticks(x_pos, x_data , rotation='vertical') \n",
    "    plt.ylabel('Frequency')\n",
    "    plt.show()"
   ]
  },
  {
   "cell_type": "code",
   "execution_count": 15,
   "metadata": {
    "collapsed": false
   },
   "outputs": [
    {
     "name": "stdout",
     "output_type": "stream",
     "text": [
      "CPU times: user 1min 47s, sys: 800 ms, total: 1min 48s\n",
      "Wall time: 1min 47s\n"
     ]
    }
   ],
   "source": [
    "%time tweet_parsed = tweet_parser(tweets_deduplicated)"
   ]
  },
  {
   "cell_type": "code",
   "execution_count": 16,
   "metadata": {
    "collapsed": false
   },
   "outputs": [
    {
     "name": "stdout",
     "output_type": "stream",
     "text": [
      "Length of tweets after basic pre-processing is 1405117\n"
     ]
    }
   ],
   "source": [
    "print \"Length of tweets after basic pre-processing is {}\".format(len(tweet_parsed))"
   ]
  },
  {
   "cell_type": "code",
   "execution_count": 17,
   "metadata": {
    "collapsed": true
   },
   "outputs": [],
   "source": [
    "def get_the_count(text_data , inside_list = False):\n",
    "    \n",
    "    text_splitted = []\n",
    "    if not inside_list:\n",
    "        for text_ in text_data:\n",
    "            text_splitted.extend(text_.split())\n",
    "    else:\n",
    "        for text_ in text_data:\n",
    "            text_splitted.extend(text_)\n",
    "    counter = Counter(text_splitted)\n",
    "    return counter"
   ]
  },
  {
   "cell_type": "code",
   "execution_count": 18,
   "metadata": {
    "collapsed": true
   },
   "outputs": [],
   "source": [
    "count_with_stopwords = get_the_count(text_data=tweet_parsed)"
   ]
  },
  {
   "cell_type": "code",
   "execution_count": 19,
   "metadata": {
    "collapsed": true
   },
   "outputs": [],
   "source": [
    "get_top_50 = sorted( count_with_stopwords.items() , key=lambda x: x[1] , reverse = True)[:50]"
   ]
  },
  {
   "cell_type": "code",
   "execution_count": 20,
   "metadata": {
    "collapsed": false
   },
   "outputs": [
    {
     "name": "stdout",
     "output_type": "stream",
     "text": [
      "Top 50 words\n"
     ]
    },
    {
     "data": {
      "text/plain": [
       "[(u'the', 447705),\n",
       " (u'to', 398414),\n",
       " (u'a', 306521),\n",
       " (u'for', 230113),\n",
       " (u'and', 225314),\n",
       " (u'in', 223750),\n",
       " (u'of', 213781),\n",
       " (u'is', 186130),\n",
       " (u'i', 172735),\n",
       " (u'you', 155183),\n",
       " (u'on', 149594),\n",
       " (u'at', 136760),\n",
       " (u'trump', 124148),\n",
       " (u'with', 111411),\n",
       " (u'this', 97019),\n",
       " (u'my', 91604),\n",
       " (u'it', 88953),\n",
       " (u'your', 77939),\n",
       " (u'that', 77443),\n",
       " (u'new', 73465),\n",
       " (u'are', 68894),\n",
       " (u'from', 68484),\n",
       " (u'be', 65970),\n",
       " (u'have', 59507),\n",
       " (u'not', 56460),\n",
       " (u'out', 54901),\n",
       " (u'via', 54243),\n",
       " (u'by', 53880),\n",
       " (u'we', 53447),\n",
       " (u'just', 52696),\n",
       " (u'about', 49078),\n",
       " (u'all', 49017),\n",
       " (u'me', 48690),\n",
       " (u'so', 47171),\n",
       " (u's', 47071),\n",
       " (u't', 45658),\n",
       " (u'get', 44389),\n",
       " (u'was', 43930),\n",
       " (u'as', 43913),\n",
       " (u'how', 43807),\n",
       " (u'up', 43784),\n",
       " (u'will', 42327),\n",
       " (u'but', 42239),\n",
       " (u'what', 41278),\n",
       " (u'more', 41144),\n",
       " (u'hp', 40887),\n",
       " (u'can', 40085),\n",
       " (u'if', 39994),\n",
       " (u'like', 38633),\n",
       " (u'an', 38086)]"
      ]
     },
     "execution_count": 20,
     "metadata": {},
     "output_type": "execute_result"
    }
   ],
   "source": [
    "print \"Top 50 words\"\n",
    "get_top_50"
   ]
  },
  {
   "cell_type": "code",
   "execution_count": 21,
   "metadata": {
    "collapsed": false
   },
   "outputs": [
    {
     "data": {
      "image/png": "[encoded data removed]",
      "text/plain": [
       "<matplotlib.figure.Figure at 0x7f3aa5dbb1d0>"
      ]
     },
     "metadata": {},
     "output_type": "display_data"
    }
   ],
   "source": [
    "plot_barchart(get_top_50)"
   ]
  },
  {
   "cell_type": "code",
   "execution_count": 22,
   "metadata": {
    "collapsed": false
   },
   "outputs": [
    {
     "name": "stdout",
     "output_type": "stream",
     "text": [
      "Least occuring 50 words\n"
     ]
    },
    {
     "data": {
      "text/plain": [
       "[(u'#bigbrowntruck', 1),\n",
       " (u'bonced', 1),\n",
       " (u'trawling', 1),\n",
       " (u'hennings', 1),\n",
       " (u'caney', 1),\n",
       " (u'quikfix', 1),\n",
       " (u'caned', 1),\n",
       " (u'fundation', 1),\n",
       " (u'canei', 1),\n",
       " (u'braga10', 1),\n",
       " (u'#thanksforplaying', 1),\n",
       " (u'g850w', 1),\n",
       " (u'jrpc', 1),\n",
       " (u'#tavares', 1),\n",
       " (u\"fwd'd\", 1),\n",
       " (u'liquidityweb', 1),\n",
       " (u'clnton', 1),\n",
       " (u'the#nutrisystem', 1),\n",
       " (u'#3dsystems', 1),\n",
       " (u'uflood', 1),\n",
       " (u'tred', 1),\n",
       " (u'videodrome', 1),\n",
       " (u'radykalna', 1),\n",
       " (u'dayumm', 1),\n",
       " (u'#iamnyfw', 1),\n",
       " (u'shandling', 1),\n",
       " (u'topography', 1),\n",
       " (u'#corporatetools', 1),\n",
       " (u'#onetoughmothers', 1),\n",
       " (u'#vascandal', 1),\n",
       " (u'libataire', 1),\n",
       " (u\"obutthole's\", 1),\n",
       " (u'#runforthetrees', 1),\n",
       " (u'umbuchen', 1),\n",
       " (u'dno', 1),\n",
       " (u'dnn', 1),\n",
       " (u'dnk', 1),\n",
       " (u'dnj', 1),\n",
       " (u'dnv', 1),\n",
       " (u'#kundalini', 1),\n",
       " (u'csnchicago', 1),\n",
       " (u'#emigration', 1),\n",
       " (u'#car#petrolhead', 1),\n",
       " (u'iguaz', 1),\n",
       " (u'chumpster', 1),\n",
       " (u'jumbling', 1),\n",
       " (u'#giantsvscard', 1),\n",
       " (u'tofigureout', 1),\n",
       " (u\"fand's\", 1),\n",
       " (u'#proofmsm', 1)]"
      ]
     },
     "execution_count": 22,
     "metadata": {},
     "output_type": "execute_result"
    }
   ],
   "source": [
    "get_last_50 = sorted( count_with_stopwords.items() , key=lambda x: x[1] )[:50]\n",
    "print \"Least occuring 50 words\"\n",
    "get_last_50"
   ]
  },
  {
   "cell_type": "code",
   "execution_count": 23,
   "metadata": {
    "collapsed": false
   },
   "outputs": [
    {
     "name": "stdout",
     "output_type": "stream",
     "text": [
      "Total words with frequnecy 1\n",
      "190045\n",
      "Percentage is 0.531053696376\n",
      "\n",
      "Total words with frequnecy 2\n",
      "51591\n",
      "Percentage is 0.144163704648\n",
      "\n",
      "Total words with frequnecy 3\n",
      "22297\n",
      "Percentage is 0.0623057921445\n",
      "\n",
      "Total words with frequnecy 4\n",
      "13814\n",
      "Percentage is 0.0386012563432\n",
      "\n",
      "Total words with frequnecy 5\n",
      "9191\n",
      "Percentage is 0.0256829410055\n",
      "\n"
     ]
    }
   ],
   "source": [
    "################ Total no of words and their percentage\n",
    "\n",
    "total_word_freq = np.sum(count_with_stopwords.values())\n",
    "total_unique_word = len(count_with_stopwords)\n",
    "\n",
    "total_word_count = np.array(count_with_stopwords.values())\n",
    "word_count = []\n",
    "word_prob = []\n",
    "for i in range(1,6):\n",
    "    print \"Total words with frequnecy {}\".format(i)\n",
    "    sub_count = np.where( total_word_count == i)[0]\n",
    "    print len(sub_count)\n",
    "    print \"Percentage is {}\".format(float(len(sub_count)) / total_unique_word)\n",
    "    print \n",
    "    word_count.append(i)\n",
    "    word_prob.append(float(len(sub_count)) / total_unique_word)\n",
    "    \n",
    "word_to_prob = zip(word_count , word_prob)\n",
    "    "
   ]
  },
  {
   "cell_type": "code",
   "execution_count": 24,
   "metadata": {
    "collapsed": false
   },
   "outputs": [
    {
     "data": {
      "image/png": "[encoded data removed]",
      "text/plain": [
       "<matplotlib.figure.Figure at 0x7f3a834a38d0>"
      ]
     },
     "metadata": {},
     "output_type": "display_data"
    }
   ],
   "source": [
    "plot_barchart(word_to_prob)"
   ]
  },
  {
   "cell_type": "code",
   "execution_count": 25,
   "metadata": {
    "collapsed": true
   },
   "outputs": [],
   "source": [
    "########## Find the length of words\n",
    "\n",
    "counter_len = {}\n",
    "for k, v in count_with_stopwords.iteritems():\n",
    "    counter_len[k] = len(k)\n",
    "counter_len_max = sorted(counter_len.items() , key=lambda x: x[1] , reverse=True)\n",
    "counter_len_min = sorted(counter_len.items() , key=lambda x: x[1] )"
   ]
  },
  {
   "cell_type": "code",
   "execution_count": 26,
   "metadata": {
    "collapsed": false
   },
   "outputs": [
    {
     "name": "stdout",
     "output_type": "stream",
     "text": [
      "Max length is (u'hahahahahahahahahahahahahahahahahahahahahahahahahahahahahahahahahahahahahahahahahahahahahahahahahahahahahahahahahaha', 116)\n"
     ]
    }
   ],
   "source": [
    "print \"Max length is {}\".format(counter_len_max[0])"
   ]
  },
  {
   "cell_type": "code",
   "execution_count": 27,
   "metadata": {
    "collapsed": false
   },
   "outputs": [
    {
     "name": "stdout",
     "output_type": "stream",
     "text": [
      "Top 50\n"
     ]
    },
    {
     "data": {
      "text/plain": [
       "[(u'hahahahahahahahahahahahahahahahahahahahahahahahahahahahahahahahahahahahahahahahahahahahahahahahahahahahahahahahahaha',\n",
       "  116),\n",
       " (u'hahahhahahhahahahahahahhahahahahahaahhahahahahahahaahahahhaahhahahahaahahahahahahhahaahhaahhahahahahaahhahahahahaha',\n",
       "  115),\n",
       " (u'#sundaymotivation#lasuiteskincare#bestrong#facials#aesthetician#women#skincare#greenwichct#beauty#girls#men#sunday',\n",
       "  114),\n",
       " (u'#redcarpet#beauty#fashion#skincare#glowingskin#lasuiteskincare#mondaymotivation#lasuiteskincare#greenwichct',\n",
       "  107),\n",
       " (u'xoxoxoxoxoxoxoxoxoxoxoxoxoxoxoxoxoxoxoxoxoxoxoxoxoxoxoxoxoxoxoxoxoxoxoxooxoxoxoxoxoxoxoxoxoxoxoxoxoxoxoxoxo',\n",
       "  107),\n",
       " (u'aaaaaaaaaaaaaaaaaaaaaaaaaaaaaaaaaaaaannnnnnnnnnnnnnnnnnnnnnnnnnnnnnnddddddddddddddddddddddddddddddddddddd',\n",
       "  105),\n",
       " (u'fuckyoufuckyoufuckyoufuckyoufuckyoufuckyoufuckyoufuckyoufuckyoufuckyoufuckyoufuckyoufuckyoufuckyoufuckyo',\n",
       "  104),\n",
       " (u'#model#mame#fashion#love#nolchashows#newyork#nyc#fashiondesign#city#influence#nyfw#womenswear#jim',\n",
       "  97),\n",
       " (u'#thrivewithme#healthylifestyle#premiumnutrition#weightmanagement#increasemetabolism#leanmuscle#su',\n",
       "  97),\n",
       " (u'#winorlose#gains#motivation#teach#eatclean#traindirty#allday#everyday#npc#onedayatatime#1phorm',\n",
       "  94),\n",
       " (u'ahahahahahahahahahahahahahahhahahahahahahahahahahahahahahahahahahahahhahahahahahahahahaha',\n",
       "  89),\n",
       " (u'early#bolt#track#race#run#sport#speed#athlete#lane1#sprint#fast#wings#nike#teamburton',\n",
       "  85),\n",
       " (u'hahahahahahahahahahahahahautofillbrokenhahahahahahahahahahahahahahahahahafixedhahto',\n",
       "  83),\n",
       " (u'#skincare#plasticsurgury#funny#humor#jokes#skin#esthetics#besuty#cosmetics#grooming',\n",
       "  83),\n",
       " (u'#aestheticsbyjennifer#healthyliving#iloveavocados#veganlife#prettyskin#healthyskin',\n",
       "  82),\n",
       " (u'meetthebiasedunethicalmsmwhorefusestoreportonelectioninaprofessionalmannerpress',\n",
       "  79),\n",
       " (u'#hairstylist#nyfw#fallfashion#fashionblogger#love#style#summer16#ootd#september',\n",
       "  79),\n",
       " (u'jajajajaajajajajajajajjajaajjajajajajajajajajajajajajajajajajajajajajajajajaja',\n",
       "  78),\n",
       " (u'#nyfw#armani#redcarpet#fashion#prada#gucci#rolex#vogue#harrods#dior#theritz#',\n",
       "  76),\n",
       " (u'#zeniibyinez#choice#beauty#skincare#essential#wax#magichands#blackgirlmagic#',\n",
       "  76),\n",
       " (u'nooooooooooooooooooooooooooooooooooooooooooooooooooooooooooooooooooooooooooo',\n",
       "  76),\n",
       " (u'#fashionisalifestyle#rockyourindependentstyle#alwaysworking#whatsyoursecret',\n",
       "  75),\n",
       " (u'#nyfw#armani#redcarpet#fashion#prada#gucci#rolex#vogue#harrods#dior#theritz',\n",
       "  75),\n",
       " (u'portobellomushroom#capess#video#recipe#helthy#glutenfree#vegetarian#salad#',\n",
       "  74),\n",
       " (u'#dontgotothecosmeticscounterwithoutmedontgotothecosmeticcounterwithoutme',\n",
       "  72),\n",
       " (u'#deplorableblackrifleslibertyconstitutionjusticeflaganthemamericamatters',\n",
       "  72),\n",
       " (u'nollywoodnollywoodnollywoodnollywoodnollywoodnollywoodnollywoodnollywood',\n",
       "  72),\n",
       " (u'#makeup#justinejenkins#crueltyfree#mua#beauty#london#fashion#week#bts',\n",
       "  69),\n",
       " (u'formaryandcuntrymiamibeachpolicemoreimportantthangodmoreimportantthan',\n",
       "  69),\n",
       " (u'#happiness#lifeisgood#instadaily#friends#shopping#yolo#quoteoftheday', 68),\n",
       " (u'jajajajjajajajjajajajjajajaujajajjjauajajaujajajajajajauajjajajajaj', 67),\n",
       " (u'#nyfw#armani#redcarpet#fashion#prada#gucci#rolex#vogue#harrods#dior', 67),\n",
       " (u'education##wendsday##workday##productivity##cbprestigerealty##coalh', 67),\n",
       " (u'#fcbarcelona#celtic#football#campnou#match#barca#barcelona#fcbarca', 66),\n",
       " (u'#makeup#me#mua#crueltyfree#makeupartist#beauty#london#fashion#show', 66),\n",
       " (u'ivankatrumpisanawesomebusinessladywhoisverybeautifulandwellspoken', 65),\n",
       " (u'#cheflife#eatclean#lookclean#youarewhatyoueat#getlean#iam1stphorm', 65),\n",
       " (u'boys#gfc#04boys#leadership#football#opdl#richmondhilltournament#', 64),\n",
       " (u'#alamohillslaser#facials#skincare#botox#simivalley#hydrafacialmd', 64),\n",
       " (u'zoooooooooooooooooooooooooooooooooooooooooooooooooooooooooooooom', 64),\n",
       " (u'#day132ofthemizneverendingintercontinentalchampionshipworldtour', 63),\n",
       " (u'dark#fellingbrave#scared#jumping#needsomeonetocheckundermybed', 61),\n",
       " (u'#cbdrubs#healthypets#pain#cancer#arthritis#seizures#veterans', 60),\n",
       " (u'#thecowardlylyingracistwizardshowingyourmedicalrecordstodroz', 60),\n",
       " (u'sooooooooooooooooooooooooooooooooooooooooooooooooooooooooo', 58),\n",
       " (u'#kroyalbeauty101#kroyalbeauty#new#product#action#marketing', 58),\n",
       " (u'godwantsallofmykindtotakecyanidecapsulesandjustfuckingdie', 57),\n",
       " (u'#zombiehillary#zombiehillary#zombiehillary#zombiehillary', 56),\n",
       " (u'fashionweek#officialfloridalaunching#lessthan10hourstogo', 56),\n",
       " (u'hjjkzjdjslwkspeifwosoakdjrsjskdoasdfgjss@wnekelslmzmxpii', 56),\n",
       " (u'#iphone#tips#tricks#apple#apps#applications#iphone7#news', 56),\n",
       " (u'#lenovoreleasessisleys90smartphoneforselfiefansatrs20000', 56),\n",
       " (u'#gridedgenetworkingamiefficiencylightingsoftwareappsnews', 56),\n",
       " (u'hahahahahahahahhahahahahahahahhaahhahahahahahahahahahah', 55),\n",
       " (u'noprayersforthewickedsinnersextinguishedallinhellnelson', 55),\n",
       " (u'want#gucci#prada#armani#gucci#prada#armani#materialist', 54),\n",
       " (u'hahahahahahahahahahahahahahahahahahahahahahahahahahaha', 54),\n",
       " (u'#thingsmyraiderswaitingonmetohitlevel110dontwanttohear', 54),\n",
       " (u'hahahahahahahahahahaahahaahahahhahahahahahahahahahaah', 53),\n",
       " (u'#releasemelaniabirthcertificateandcollegetranscripts', 52),\n",
       " (u'#syusyuhan#nolcha#ss2017#belts#black#nyfw#distracttv', 52),\n",
       " (u'#grahamslawnmaintenance#landscaping#beautifyyourlawn', 52),\n",
       " (u'#ladysenatorscommunityserviceproject#fhclinicgradesk', 52),\n",
       " (u'#larme#love#kawaii#kirakira#girly#girl#pink#flower#', 51),\n",
       " (u'#stopplayinyougonfuckaroundnmakemecatchthisltwitter', 51),\n",
       " (u'pandebono#colombian#recipe#cooking#glutenfree#bread', 51),\n",
       " (u'#notfittoleadagirlscouttroopletaloneusaindicthernow', 51),\n",
       " (u'#obamaurgeshisbackerstohelphillaryclintonandignore', 50),\n",
       " (u'rrrrrrrrrrrrrrrrrrrrrrrrrrrrrrrrrrrrrrrrrrrrrrrrrr', 50),\n",
       " (u'#cbd#cbdhealthy#ironhorseorganics#hemp#cbdcapsules', 50),\n",
       " (u'needtospeak2commandaloudlaterjoel10undertreealone', 49),\n",
       " (u'#taketheraceroutofracecarcanttakeracingoutofracer', 49),\n",
       " (u'#paralympicsp#rio20162#teamcanadan#paratoughohttp', 49),\n",
       " (u'#maga#tcot#trumptrain#latinosfortrump#women4trump', 49),\n",
       " (u'finals#childhoodcancerawareness#horse#kids#cancer', 49),\n",
       " (u'#mischievousanddeceitfulchicanerousanddeplorable', 48),\n",
       " (u'#makeup#mua#crueltyfree#makeupartist#purple#lips', 48),\n",
       " (u'#bethiswatchingmondayfootballfromtheskyhighseats', 48),\n",
       " (u'#ladysenators9sussexcentral0#shouldabeenasenator', 48),\n",
       " (u'ahahahahahahahahahahahahahahahahahahahahahahaha', 47),\n",
       " (u'#hiddentrailsequestrianhorsebackridingvacations', 47),\n",
       " (u'#irespecteveryonesopinionifexpressedwithrespect', 47),\n",
       " (u'herbodyguardsshoulddisarmletsseewhathappens2her', 47),\n",
       " (u'bringstaceyhomelookatmyevidencefamilycomesfirst', 47),\n",
       " (u'#registertovote#plannedparenthood#vote#vote2016', 47),\n",
       " (u'#clinton#trump#leader#president#daughters#sons', 46),\n",
       " (u'baaaaaaaaaaaaaaaaaaaaaaaaaaaaaaahhahahahahahaa', 46),\n",
       " (u'#last#days#of#summer#fashion#style#inspiration', 46),\n",
       " (u'nelsonnotdeadyetmajornelsonandtonyhealyaredead', 46),\n",
       " (u'#mediaistoofocusedondonaldtrumpdroppingtheball', 46),\n",
       " (u'#ireallyreallyreallywant2elect@hillaryclinton', 45),\n",
       " (u\"#ruthie'sbirthdaycelebration@tgifcoventgarden\", 45),\n",
       " (u'#yougotmoneysothisshouldnthurtyourbankaccount', 45),\n",
       " (u'#hidingsomethingbiginthetaxesbelievemebigtime', 45),\n",
       " (u'thoselittletrumpiessureractinglikebrownshirts', 45),\n",
       " (u'keemmmmmmmoooooooooonnnannnnnnnnnnnnnnnnnnnnn', 45),\n",
       " (u'#interstatevoterregistrationcrosscheckprogram', 45),\n",
       " (u'#mobility#ise#pm2net#devops#automation#cloudc', 45),\n",
       " (u'hahahahahahahahahahahahahahahahahahhahaahhaha', 45),\n",
       " (u'launchingofmybrand#inflorida#lifeisgood#happ', 44),\n",
       " (u'chiefoatescommittedsuicidebyjesusareunextmon', 44),\n",
       " (u'#idkaboutyoubutidonthavextra350dollarsamonth', 44),\n",
       " (u'billwouldallowhospitals2letwomendieinsteadof', 44),\n",
       " (u'#doyouhaveanydangerousitemsinyourhandluggage', 44),\n",
       " (u'#aaelevate#aateam#kyleklausner#goingforgreat', 44),\n",
       " (u'notonepoliceofficerkilledinheavenprhellgone', 43),\n",
       " (u'#republicansattempt2banabortioninorder2save', 43),\n",
       " (u'#evilhillarystartedthebirtheron2008campaign', 43),\n",
       " (u'ati#atiglobal#tmobile#sandiego#sw#westcoast', 43),\n",
       " (u'mindyourbusinessandletmecrackmydamnnuckles', 42),\n",
       " (u'#skinbrighteninggel#skinbrightner#skingel#', 42),\n",
       " (u'#yourenottheonlyonewhocanposttravelupdates', 42),\n",
       " (u'#youneverknowwhatsomeoneelseisgoingthrough', 42),\n",
       " (u'#keepyourfriendsclosekeepyourenemiescloser', 42),\n",
       " (u'wetrulycarewhoreplacesjusticeantoninscalia', 42),\n",
       " (u'ipimpmymonkeysfortheblackdemonskinneddevil', 42),\n",
       " (u'#veganchocolatecupcakeswithstrawberryicing', 42),\n",
       " (u'#neverspendyourmoneywhereitsnotappreciated', 42),\n",
       " (u'#londonfashionweek#houseofikons#savitakaye', 42),\n",
       " (u'#nofxandthehepatitisbathtubandotherstories', 42),\n",
       " (u'#losabrigadosresortandspabydiamondresorts', 41),\n",
       " (u'#model#citylife#nyfw#nyc#fashion#designer', 41),\n",
       " (u'winnnnnnnnnnnnnnnnnnnnnnnnnnnnnnnnnnnnnnn', 41),\n",
       " (u'#msnbc#abc#cbs@cnn@nbc#fox#hardball#chris', 41),\n",
       " (u'#samanthaleibowitzny#nolcha#nyfw#nyfw2016', 41),\n",
       " (u'#canyoupleasestopwiththeindiancallcenters', 41),\n",
       " (u'#cashreportersifyoustandupandcallhimaliar', 41),\n",
       " (u'amdeferringpeoplewhodo2clasetheiraccounts', 41),\n",
       " (u'#hetweetsashegrabshiscarkeysandheadsforbk', 41),\n",
       " (u'#maybeucanfixthatorrthismeesfromlastnight', 41),\n",
       " (u'#mymindstellingmenobutmybodyistellingmeya', 41)]"
      ]
     },
     "execution_count": 27,
     "metadata": {},
     "output_type": "execute_result"
    }
   ],
   "source": [
    "print \"Top 50\" \n",
    "counter_len_max[:131]"
   ]
  },
  {
   "cell_type": "code",
   "execution_count": 28,
   "metadata": {
    "collapsed": false
   },
   "outputs": [
    {
     "name": "stdout",
     "output_type": "stream",
     "text": [
      "Min length is (u'r', 1)\n",
      "Top 50\n"
     ]
    },
    {
     "data": {
      "text/plain": [
       "[(u'r', 1),\n",
       " (u'd', 1),\n",
       " (u'h', 1),\n",
       " (u's', 1),\n",
       " (u'e', 1),\n",
       " (u'9', 1),\n",
       " (u't', 1),\n",
       " (u'f', 1),\n",
       " (u'g', 1),\n",
       " (u'7', 1),\n",
       " (u'4', 1),\n",
       " (u'v', 1),\n",
       " (u'0', 1),\n",
       " (u'u', 1),\n",
       " (u'w', 1),\n",
       " (u'i', 1),\n",
       " (u'1', 1),\n",
       " (u'5', 1),\n",
       " (u'j', 1),\n",
       " (u'6', 1),\n",
       " (u'2', 1),\n",
       " (u'y', 1),\n",
       " (u'k', 1),\n",
       " (u'3', 1),\n",
       " (u'z', 1),\n",
       " (u'l', 1),\n",
       " (u'm', 1),\n",
       " (u'n', 1),\n",
       " (u'#', 1),\n",
       " (u'o', 1),\n",
       " (u'a', 1),\n",
       " (u'@', 1),\n",
       " (u'x', 1),\n",
       " (u'p', 1),\n",
       " (u'q', 1),\n",
       " (u'b', 1),\n",
       " (u'\\x7f', 1),\n",
       " (u'c', 1),\n",
       " (u'va', 2),\n",
       " (u'vv', 2),\n",
       " (u'v2', 2),\n",
       " (u'v8', 2),\n",
       " (u'hz', 2),\n",
       " (u'hj', 2),\n",
       " (u'hk', 2),\n",
       " (u'hi', 2),\n",
       " (u'ho', 2),\n",
       " (u'hg', 2),\n",
       " (u'aa', 2),\n",
       " (u'ac', 2),\n",
       " (u'ae', 2),\n",
       " (u'ad', 2),\n",
       " (u'ag', 2),\n",
       " (u'af', 2),\n",
       " (u'ai', 2),\n",
       " (u'ah', 2),\n",
       " (u'aj', 2),\n",
       " (u'am', 2),\n",
       " (u'al', 2),\n",
       " (u'ao', 2),\n",
       " (u'an', 2),\n",
       " (u'aq', 2),\n",
       " (u'ap', 2),\n",
       " (u'as', 2),\n",
       " (u'ar', 2),\n",
       " (u'au', 2),\n",
       " (u'aw', 2),\n",
       " (u'av', 2),\n",
       " (u'ay', 2),\n",
       " (u'ax', 2),\n",
       " (u'a@', 2),\n",
       " (u'a#', 2),\n",
       " (u'6m', 2),\n",
       " (u'a1', 2),\n",
       " (u'a0', 2),\n",
       " (u'a3', 2),\n",
       " (u'a2', 2),\n",
       " (u'a5', 2),\n",
       " (u'a4', 2),\n",
       " (u'a7', 2),\n",
       " (u'a6', 2),\n",
       " (u'a9', 2),\n",
       " (u'a8', 2),\n",
       " (u'w0', 2),\n",
       " (u'ty', 2),\n",
       " (u'iy', 2),\n",
       " (u'ix', 2),\n",
       " (u'iz', 2),\n",
       " (u'iq', 2),\n",
       " (u'ip', 2),\n",
       " (u'is', 2),\n",
       " (u'iu', 2),\n",
       " (u'it', 2),\n",
       " (u'iw', 2),\n",
       " (u'iv', 2),\n",
       " (u'ik', 2),\n",
       " (u'ij', 2),\n",
       " (u'im', 2),\n",
       " (u'il', 2),\n",
       " (u'in', 2),\n",
       " (u'ia', 2),\n",
       " (u'ic', 2),\n",
       " (u'ib', 2),\n",
       " (u'ie', 2),\n",
       " (u'id', 2),\n",
       " (u'ig', 2),\n",
       " (u'i5', 2),\n",
       " (u'i4', 2),\n",
       " (u'q1', 2),\n",
       " (u'q3', 2),\n",
       " (u'q2', 2),\n",
       " (u'q5', 2),\n",
       " (u'q4', 2),\n",
       " (u'q7', 2),\n",
       " (u'q6', 2),\n",
       " (u'q9', 2),\n",
       " (u'q8', 2),\n",
       " (u'q#', 2),\n",
       " (u'qq', 2),\n",
       " (u'qp', 2),\n",
       " (u'qs', 2),\n",
       " (u'qr', 2),\n",
       " (u'qu', 2),\n",
       " (u'qt', 2),\n",
       " (u'qx', 2),\n",
       " (u'qz', 2),\n",
       " (u'qa', 2),\n",
       " (u'qc', 2),\n",
       " (u'qb', 2),\n",
       " (u'qe', 2),\n",
       " (u'qd', 2)]"
      ]
     },
     "execution_count": 28,
     "metadata": {},
     "output_type": "execute_result"
    }
   ],
   "source": [
    "print \"Min length is {}\".format(counter_len_min[0])\n",
    "print \"Top 50\" \n",
    "counter_len_min[:131]"
   ]
  },
  {
   "cell_type": "code",
   "execution_count": 29,
   "metadata": {
    "collapsed": false
   },
   "outputs": [
    {
     "name": "stdout",
     "output_type": "stream",
     "text": [
      "Average length is 9.04849887108\n"
     ]
    }
   ],
   "source": [
    "print \"Average length is {}\".format(np.mean(counter_len.values()))"
   ]
  },
  {
   "cell_type": "code",
   "execution_count": 30,
   "metadata": {
    "collapsed": true
   },
   "outputs": [],
   "source": [
    "################ Total no of words and their percentage\n",
    "\n",
    "def get_count_stat(counter_data):\n",
    "    total_word_freq = np.sum(counter_data.values())\n",
    "    total_unique_word = len(counter_data)\n",
    "\n",
    "    total_word_count = np.array(counter_data.values())\n",
    "    word_count = []\n",
    "    word_prob = []\n",
    "    for i in range(1,6):\n",
    "        print \"Total words with frequnecy {}\".format(i)\n",
    "        sub_count = np.where( total_word_count == i)[0]\n",
    "        print len(sub_count)\n",
    "        print \"Percentage is {}\".format(float(len(sub_count)) / total_unique_word)\n",
    "        print \n",
    "        word_count.append(i)\n",
    "        word_prob.append(float(len(sub_count)) / total_unique_word)\n",
    "\n",
    "    word_to_prob = zip(word_count , word_prob)\n",
    "    return word_to_prob\n",
    "    "
   ]
  },
  {
   "cell_type": "code",
   "execution_count": 31,
   "metadata": {
    "collapsed": false
   },
   "outputs": [
    {
     "name": "stdout",
     "output_type": "stream",
     "text": [
      "Total words with frequnecy 1\n",
      "38\n",
      "Percentage is 0.000106185590057\n",
      "\n",
      "Total words with frequnecy 2\n",
      "1213\n",
      "Percentage is 0.00338955580891\n",
      "\n",
      "Total words with frequnecy 3\n",
      "11458\n",
      "Percentage is 0.0320177497597\n",
      "\n",
      "Total words with frequnecy 4\n",
      "24782\n",
      "Percentage is 0.0692497708627\n",
      "\n",
      "Total words with frequnecy 5\n",
      "35208\n",
      "Percentage is 0.098383743545\n",
      "\n"
     ]
    },
    {
     "data": {
      "image/png": "[encoded data removed]",
      "text/plain": [
       "<matplotlib.figure.Figure at 0x7f3a8ac77550>"
      ]
     },
     "metadata": {},
     "output_type": "display_data"
    }
   ],
   "source": [
    "len_stat = get_count_stat(counter_len)\n",
    "plot_barchart(len_stat)"
   ]
  },
  {
   "cell_type": "code",
   "execution_count": 32,
   "metadata": {
    "collapsed": false
   },
   "outputs": [
    {
     "name": "stdout",
     "output_type": "stream",
     "text": [
      "New tweet length is 1405117\n"
     ]
    }
   ],
   "source": [
    "tweet_list = [tweet.split() for tweet in tweet_parsed if tweet]\n",
    "print \"New tweet length is {}\".format(len(tweet_list))\n",
    "counter_tweet_len = [len(tweet_) for tweet_ in tweet_list]"
   ]
  },
  {
   "cell_type": "code",
   "execution_count": 33,
   "metadata": {
    "collapsed": false
   },
   "outputs": [
    {
     "name": "stdout",
     "output_type": "stream",
     "text": [
      "Max tweet length 41\n",
      "Min tweet length 0\n",
      "Average tweet length 13.0581837669\n"
     ]
    }
   ],
   "source": [
    "print \"Max tweet length {}\".format(np.max(counter_tweet_len))\n",
    "print \"Min tweet length {}\".format(np.min(counter_tweet_len))\n",
    "print \"Average tweet length {}\".format(np.mean(counter_tweet_len))"
   ]
  },
  {
   "cell_type": "code",
   "execution_count": 34,
   "metadata": {
    "collapsed": true
   },
   "outputs": [],
   "source": [
    "MAX_TWEET_LENGTH = 50 # WORDS\n",
    "MIN_TWEET_LENGTH = 3\n",
    "\n",
    "MAX_WORD_LENGTH = 15\n",
    "MIN_WORD_LENGTH = 4\n",
    "\n",
    "FREQ_THRESHOLD = 2\n",
    "def preprocess_tweets(tweet):\n",
    "    temp_store = []\n",
    "    \n",
    "    for word_ in tweet:\n",
    "        if word_ not in STOPWORDS:\n",
    "            if len(word_) < MAX_WORD_LENGTH and len(word_) >= MIN_WORD_LENGTH and count_with_stopwords[word_] > 2:\n",
    "                temp_store.append(word_)\n",
    "    if len(temp_store) > MIN_TWEET_LENGTH and len(temp_store) <= MAX_TWEET_LENGTH:\n",
    "        return temp_store"
   ]
  },
  {
   "cell_type": "code",
   "execution_count": 35,
   "metadata": {
    "collapsed": false
   },
   "outputs": [
    {
     "name": "stdout",
     "output_type": "stream",
     "text": [
      "CPU times: user 13min 4s, sys: 3.9 s, total: 13min 8s\n",
      "Wall time: 12min 15s\n"
     ]
    }
   ],
   "source": [
    "tweet_list = [t.split() for t in tweet_parsed]\n",
    "%time tweet_preprocess_list = map(preprocess_tweets , tweet_list)"
   ]
  },
  {
   "cell_type": "code",
   "execution_count": 36,
   "metadata": {
    "collapsed": true
   },
   "outputs": [],
   "source": [
    "######### Remove any null tweets\n",
    "final_tweets = []\n",
    "no_tweet_index = []\n",
    "for i,t in enumerate(tweet_preprocess_list):\n",
    "    if t:\n",
    "        final_tweets.append(t)\n",
    "    else:\n",
    "        no_tweet_index.append(i)\n",
    "    "
   ]
  },
  {
   "cell_type": "code",
   "execution_count": null,
   "metadata": {
    "collapsed": false
   },
   "outputs": [],
   "source": []
  },
  {
   "cell_type": "code",
   "execution_count": 38,
   "metadata": {
    "collapsed": false
   },
   "outputs": [
    {
     "name": "stdout",
     "output_type": "stream",
     "text": [
      "No of tweets before preprocessing 1405117 and after preprocessing 1229964 \n"
     ]
    }
   ],
   "source": [
    "print \"No of tweets before preprocessing {} and after preprocessing {} \".format(len(tweet_list) , len(final_tweets))"
   ]
  },
  {
   "cell_type": "code",
   "execution_count": 39,
   "metadata": {
    "collapsed": true
   },
   "outputs": [],
   "source": [
    "count_with_out_stopwords = get_the_count(text_data=final_tweets , inside_list=True)\n",
    "get_top_50 = sorted( count_with_out_stopwords.items() , key=lambda x: x[1] , reverse = True)[:50]"
   ]
  },
  {
   "cell_type": "code",
   "execution_count": 40,
   "metadata": {
    "collapsed": false
   },
   "outputs": [
    {
     "data": {
      "text/plain": [
       "[(u'trump', 118943),\n",
       " (u'like', 37015),\n",
       " (u'hillary', 35943),\n",
       " (u'dell', 34084),\n",
       " (u'verizon', 31503),\n",
       " (u'clinton', 31326),\n",
       " (u'#deals', 30496),\n",
       " (u'obama', 30365),\n",
       " (u\"it's\", 29106),\n",
       " (u'baby', 28891),\n",
       " (u'friend', 28406),\n",
       " (u'today', 27672),\n",
       " (u'week', 26310),\n",
       " (u'#nyfw', 25685),\n",
       " (u\"don't\", 24810),\n",
       " (u'time', 24235),\n",
       " (u'people', 23566),\n",
       " (u'donald', 23528),\n",
       " (u'fashion', 23473),\n",
       " (u'football', 22724),\n",
       " (u'deals', 22359),\n",
       " (u'best', 22108),\n",
       " (u'black', 22014),\n",
       " (u'#usa', 21838),\n",
       " (u'sprint', 21645),\n",
       " (u'great', 21196),\n",
       " (u'young', 20776),\n",
       " (u'core', 20398),\n",
       " (u'good', 20122),\n",
       " (u'know', 20095),\n",
       " (u'check', 19709),\n",
       " (u'#weightloss', 19368),\n",
       " (u'free', 19100),\n",
       " (u'#smallbiz', 18732),\n",
       " (u'want', 18316),\n",
       " (u'hunger', 17896),\n",
       " (u'love', 17775),\n",
       " (u'help', 17439),\n",
       " (u'need', 17362),\n",
       " (u'airport', 17093),\n",
       " (u'mobile', 16787),\n",
       " (u'racism', 16705),\n",
       " (u'digital', 16418),\n",
       " (u'#ebay', 16394),\n",
       " (u'#lfw', 16068),\n",
       " (u'iphone', 15808),\n",
       " (u'video', 15684),\n",
       " (u'york', 15634),\n",
       " (u'says', 15485),\n",
       " (u'#smallbusiness', 15450)]"
      ]
     },
     "execution_count": 40,
     "metadata": {},
     "output_type": "execute_result"
    }
   ],
   "source": [
    "get_top_50"
   ]
  },
  {
   "cell_type": "code",
   "execution_count": 41,
   "metadata": {
    "collapsed": false
   },
   "outputs": [
    {
     "data": {
      "image/png": "[encoded data removed]",
      "text/plain": [
       "<matplotlib.figure.Figure at 0x7f3a7a478dd0>"
      ]
     },
     "metadata": {},
     "output_type": "display_data"
    }
   ],
   "source": [
    "plot_barchart(get_top_50)"
   ]
  },
  {
   "cell_type": "code",
   "execution_count": 44,
   "metadata": {
    "collapsed": false
   },
   "outputs": [
    {
     "name": "stdout",
     "output_type": "stream",
     "text": [
      "Least occuring 50 words\n"
     ]
    },
    {
     "data": {
      "text/plain": [
       "[(u'raceroom', 1),\n",
       " (u'oldu', 1),\n",
       " (u'#cellfina', 1),\n",
       " (u'#skye', 1),\n",
       " (u'photocredit', 1),\n",
       " (u'#westlake', 1),\n",
       " (u'#campkindle', 1),\n",
       " (u'staan', 1),\n",
       " (u'#whatyazay', 1),\n",
       " (u'#dpweewonder', 1),\n",
       " (u'mehrwert', 1),\n",
       " (u'#selfietime', 1),\n",
       " (u'citradelic', 1),\n",
       " (u'flaute', 1),\n",
       " (u'#doctory', 1),\n",
       " (u'fuuuck', 1),\n",
       " (u'malparida', 1),\n",
       " (u'gales', 1),\n",
       " (u'#imwithamerica', 1),\n",
       " (u'#csisdchat', 1),\n",
       " (u'adri', 1),\n",
       " (u'#flushots', 1),\n",
       " (u'voom', 1),\n",
       " (u'#vds', 1),\n",
       " (u\"jeh's\", 1),\n",
       " (u'#soslow', 1),\n",
       " (u'#dontforget', 1),\n",
       " (u'oooooo', 1),\n",
       " (u'#fuckthepolice', 1),\n",
       " (u'#therow', 1),\n",
       " (u'phasers', 1),\n",
       " (u'tellem', 1),\n",
       " (u'carrion', 1),\n",
       " (u'feliciap', 1),\n",
       " (u'brandys', 1),\n",
       " (u'#geauxtigers', 1),\n",
       " (u'cravin', 1),\n",
       " (u'#defendfreedom', 1),\n",
       " (u'niiiiiiice', 1),\n",
       " (u'alrededor', 1),\n",
       " (u'#damnit', 1),\n",
       " (u'karris', 1),\n",
       " (u'achin', 1),\n",
       " (u'teradatavoice', 1),\n",
       " (u'progresso', 1),\n",
       " (u'portrayals', 1),\n",
       " (u'bellanger', 1),\n",
       " (u'cratianam', 1),\n",
       " (u'pyschoishps', 1),\n",
       " (u'#chanyeol', 1)]"
      ]
     },
     "execution_count": 44,
     "metadata": {},
     "output_type": "execute_result"
    }
   ],
   "source": [
    "get_last_50 = sorted( count_with_out_stopwords.items() , key=lambda x: x[1] )[:50]\n",
    "print \"Least occuring 50 words\"\n",
    "get_last_50"
   ]
  },
  {
   "cell_type": "code",
   "execution_count": 45,
   "metadata": {
    "collapsed": false
   },
   "outputs": [
    {
     "name": "stdout",
     "output_type": "stream",
     "text": [
      "Max length is (u\"naeemkhannyc's\", 14)\n",
      "Min length is (u'fawn', 4)\n"
     ]
    }
   ],
   "source": [
    "########## Find the length of words\n",
    "\n",
    "counter_len = {}\n",
    "for k, v in count_with_out_stopwords.iteritems():\n",
    "    counter_len[k] = len(k)\n",
    "counter_len_max = sorted(counter_len.items() , key=lambda x: x[1] , reverse=True)\n",
    "counter_len_min = sorted(counter_len.items() , key=lambda x: x[1] )\n",
    "print \"Max length is {}\".format(counter_len_max[0])\n",
    "print \"Min length is {}\".format(counter_len_min[0])"
   ]
  },
  {
   "cell_type": "code",
   "execution_count": 46,
   "metadata": {
    "collapsed": false
   },
   "outputs": [
    {
     "name": "stdout",
     "output_type": "stream",
     "text": [
      "New tweet length is 1229964\n",
      "Max tweet length 24\n",
      "Min tweet length 4\n",
      "Average tweet length 7.64221635755\n"
     ]
    }
   ],
   "source": [
    "tweet_list = [tweet for tweet in tweet_preprocess_list if tweet]\n",
    "print \"New tweet length is {}\".format(len(tweet_list))\n",
    "counter_tweet_len = [len(tweet_) for tweet_ in tweet_list]\n",
    "print \"Max tweet length {}\".format(np.max(counter_tweet_len))\n",
    "print \"Min tweet length {}\".format(np.min(counter_tweet_len))\n",
    "print \"Average tweet length {}\".format(np.mean(counter_tweet_len))"
   ]
  },
  {
   "cell_type": "code",
   "execution_count": 47,
   "metadata": {
    "collapsed": false
   },
   "outputs": [
    {
     "name": "stdout",
     "output_type": "stream",
     "text": [
      "This non-commercial license of GraphLab Create for academic use is assigned to sarath@mediaiqdigital.com and will expire on July 06, 2017.\n"
     ]
    },
    {
     "name": "stderr",
     "output_type": "stream",
     "text": [
      "[INFO] graphlab.cython.cy_server: GraphLab Create v2.1 started. Logging: /tmp/graphlab_server_1476438467.log\n"
     ]
    },
    {
     "data": {
      "text/html": [
       "<div style=\"max-height:1000px;max-width:1500px;overflow:auto;\"><table frame=\"box\" rules=\"cols\">\n",
       "    <tr>\n",
       "        <th style=\"padding-left: 1em; padding-right: 1em; text-align: center\">X1</th>\n",
       "    </tr>\n",
       "    <tr>\n",
       "        <td style=\"padding-left: 1em; padding-right: 1em; text-align: center; vertical-align: top\">[checked, #mplaces,<br>donate, mpoints] ...</td>\n",
       "    </tr>\n",
       "    <tr>\n",
       "        <td style=\"padding-left: 1em; padding-right: 1em; text-align: center; vertical-align: top\">[yass, love, bofa,<br>welcome, home, andy] ...</td>\n",
       "    </tr>\n",
       "    <tr>\n",
       "        <td style=\"padding-left: 1em; padding-right: 1em; text-align: center; vertical-align: top\">[today's, tell, talking,<br>muslim, american, ...</td>\n",
       "    </tr>\n",
       "    <tr>\n",
       "        <td style=\"padding-left: 1em; padding-right: 1em; text-align: center; vertical-align: top\">[token, mention,<br>ignoring, history, ...</td>\n",
       "    </tr>\n",
       "    <tr>\n",
       "        <td style=\"padding-left: 1em; padding-right: 1em; text-align: center; vertical-align: top\">[#trump2016, want,<br>america, safe] ...</td>\n",
       "    </tr>\n",
       "    <tr>\n",
       "        <td style=\"padding-left: 1em; padding-right: 1em; text-align: center; vertical-align: top\">[wait, thinks, shades,<br>series, worst, thing, ...</td>\n",
       "    </tr>\n",
       "    <tr>\n",
       "        <td style=\"padding-left: 1em; padding-right: 1em; text-align: center; vertical-align: top\">[#wakeupamerica,<br>#teamtrump, #ccot, #m ...</td>\n",
       "    </tr>\n",
       "    <tr>\n",
       "        <td style=\"padding-left: 1em; padding-right: 1em; text-align: center; vertical-align: top\">[springen, tier, mensch,<br>blick] ...</td>\n",
       "    </tr>\n",
       "    <tr>\n",
       "        <td style=\"padding-left: 1em; padding-right: 1em; text-align: center; vertical-align: top\">[trump's, picture, prbly,<br>word, dictionary, trump, ...</td>\n",
       "    </tr>\n",
       "    <tr>\n",
       "        <td style=\"padding-left: 1em; padding-right: 1em; text-align: center; vertical-align: top\">[#bill, #deplorable,<br>#mcdonalds, favorite, ...</td>\n",
       "    </tr>\n",
       "</table>\n",
       "[1229964 rows x 1 columns]<br/>Note: Only the head of the SFrame is printed.<br/>You can use print_rows(num_rows=m, num_columns=n) to print more rows and columns.\n",
       "</div>"
      ],
      "text/plain": [
       "Columns:\n",
       "\tX1\tlist\n",
       "\n",
       "Rows: 1229964\n",
       "\n",
       "Data:\n",
       "+-------------------------------+\n",
       "|               X1              |\n",
       "+-------------------------------+\n",
       "| [checked, #mplaces, donate... |\n",
       "| [yass, love, bofa, welcome... |\n",
       "| [today's, tell, talking, m... |\n",
       "| [token, mention, ignoring,... |\n",
       "| [#trump2016, want, america... |\n",
       "| [wait, thinks, shades, ser... |\n",
       "| [#wakeupamerica, #teamtrum... |\n",
       "| [springen, tier, mensch, b... |\n",
       "| [trump's, picture, prbly, ... |\n",
       "| [#bill, #deplorable, #mcdo... |\n",
       "+-------------------------------+\n",
       "[1229964 rows x 1 columns]\n",
       "Note: Only the head of the SFrame is printed.\n",
       "You can use print_rows(num_rows=m, num_columns=n) to print more rows and columns."
      ]
     },
     "execution_count": 47,
     "metadata": {},
     "output_type": "execute_result"
    }
   ],
   "source": [
    "# import wiki data\n",
    "sf_tweet = gl.SFrame(final_tweets)\n",
    "sf_tweet"
   ]
  },
  {
   "cell_type": "code",
   "execution_count": 48,
   "metadata": {
    "collapsed": true
   },
   "outputs": [],
   "source": [
    "tweet_docs = gl.text_analytics.count_words(sf_tweet['X1'])"
   ]
  },
  {
   "cell_type": "code",
   "execution_count": 49,
   "metadata": {
    "collapsed": false
   },
   "outputs": [
    {
     "data": {
      "text/html": [
       "<pre>Learning a topic model</pre>"
      ],
      "text/plain": [
       "Learning a topic model"
      ]
     },
     "metadata": {},
     "output_type": "display_data"
    },
    {
     "data": {
      "text/html": [
       "<pre>       Number of documents   1229964</pre>"
      ],
      "text/plain": [
       "       Number of documents   1229964"
      ]
     },
     "metadata": {},
     "output_type": "display_data"
    },
    {
     "data": {
      "text/html": [
       "<pre>           Vocabulary size    102294</pre>"
      ],
      "text/plain": [
       "           Vocabulary size    102294"
      ]
     },
     "metadata": {},
     "output_type": "display_data"
    },
    {
     "data": {
      "text/html": [
       "<pre>   Running collapsed Gibbs sampling</pre>"
      ],
      "text/plain": [
       "   Running collapsed Gibbs sampling"
      ]
     },
     "metadata": {},
     "output_type": "display_data"
    },
    {
     "data": {
      "text/html": [
       "<pre>+-----------+---------------+----------------+-----------------+</pre>"
      ],
      "text/plain": [
       "+-----------+---------------+----------------+-----------------+"
      ]
     },
     "metadata": {},
     "output_type": "display_data"
    },
    {
     "data": {
      "text/html": [
       "<pre>| Iteration | Elapsed Time  | Tokens/Second  | Est. Perplexity |</pre>"
      ],
      "text/plain": [
       "| Iteration | Elapsed Time  | Tokens/Second  | Est. Perplexity |"
      ]
     },
     "metadata": {},
     "output_type": "display_data"
    },
    {
     "data": {
      "text/html": [
       "<pre>+-----------+---------------+----------------+-----------------+</pre>"
      ],
      "text/plain": [
       "+-----------+---------------+----------------+-----------------+"
      ]
     },
     "metadata": {},
     "output_type": "display_data"
    },
    {
     "data": {
      "text/html": [
       "<pre>| 10        | 15.04s        | 6.73699e+06    | 0               |</pre>"
      ],
      "text/plain": [
       "| 10        | 15.04s        | 6.73699e+06    | 0               |"
      ]
     },
     "metadata": {},
     "output_type": "display_data"
    },
    {
     "data": {
      "text/html": [
       "<pre>| 20        | 28.84s        | 6.32496e+06    | 0               |</pre>"
      ],
      "text/plain": [
       "| 20        | 28.84s        | 6.32496e+06    | 0               |"
      ]
     },
     "metadata": {},
     "output_type": "display_data"
    },
    {
     "data": {
      "text/html": [
       "<pre>| 30        | 45.54s        | 5.3659e+06     | 0               |</pre>"
      ],
      "text/plain": [
       "| 30        | 45.54s        | 5.3659e+06     | 0               |"
      ]
     },
     "metadata": {},
     "output_type": "display_data"
    },
    {
     "data": {
      "text/html": [
       "<pre>| 40        | 1m 2s         | 5.53361e+06    | 0               |</pre>"
      ],
      "text/plain": [
       "| 40        | 1m 2s         | 5.53361e+06    | 0               |"
      ]
     },
     "metadata": {},
     "output_type": "display_data"
    },
    {
     "data": {
      "text/html": [
       "<pre>| 50        | 1m 20s        | 4.61085e+06    | 0               |</pre>"
      ],
      "text/plain": [
       "| 50        | 1m 20s        | 4.61085e+06    | 0               |"
      ]
     },
     "metadata": {},
     "output_type": "display_data"
    },
    {
     "data": {
      "text/html": [
       "<pre>| 60        | 1m 39s        | 4.91064e+06    | 0               |</pre>"
      ],
      "text/plain": [
       "| 60        | 1m 39s        | 4.91064e+06    | 0               |"
      ]
     },
     "metadata": {},
     "output_type": "display_data"
    },
    {
     "data": {
      "text/html": [
       "<pre>| 70        | 1m 57s        | 5.10276e+06    | 0               |</pre>"
      ],
      "text/plain": [
       "| 70        | 1m 57s        | 5.10276e+06    | 0               |"
      ]
     },
     "metadata": {},
     "output_type": "display_data"
    },
    {
     "data": {
      "text/html": [
       "<pre>| 80        | 2m 15s        | 5.17963e+06    | 0               |</pre>"
      ],
      "text/plain": [
       "| 80        | 2m 15s        | 5.17963e+06    | 0               |"
      ]
     },
     "metadata": {},
     "output_type": "display_data"
    },
    {
     "data": {
      "text/html": [
       "<pre>| 90        | 2m 32s        | 5.37546e+06    | 0               |</pre>"
      ],
      "text/plain": [
       "| 90        | 2m 32s        | 5.37546e+06    | 0               |"
      ]
     },
     "metadata": {},
     "output_type": "display_data"
    },
    {
     "data": {
      "text/html": [
       "<pre>| 100       | 2m 50s        | 5.45012e+06    | 0               |</pre>"
      ],
      "text/plain": [
       "| 100       | 2m 50s        | 5.45012e+06    | 0               |"
      ]
     },
     "metadata": {},
     "output_type": "display_data"
    },
    {
     "data": {
      "text/html": [
       "<pre>| 110       | 3m 8s         | 5.11256e+06    | 0               |</pre>"
      ],
      "text/plain": [
       "| 110       | 3m 8s         | 5.11256e+06    | 0               |"
      ]
     },
     "metadata": {},
     "output_type": "display_data"
    },
    {
     "data": {
      "text/html": [
       "<pre>| 120       | 3m 25s        | 5.15286e+06    | 0               |</pre>"
      ],
      "text/plain": [
       "| 120       | 3m 25s        | 5.15286e+06    | 0               |"
      ]
     },
     "metadata": {},
     "output_type": "display_data"
    },
    {
     "data": {
      "text/html": [
       "<pre>| 130       | 3m 42s        | 5.37239e+06    | 0               |</pre>"
      ],
      "text/plain": [
       "| 130       | 3m 42s        | 5.37239e+06    | 0               |"
      ]
     },
     "metadata": {},
     "output_type": "display_data"
    },
    {
     "data": {
      "text/html": [
       "<pre>| 140       | 4m 0s         | 5.50297e+06    | 0               |</pre>"
      ],
      "text/plain": [
       "| 140       | 4m 0s         | 5.50297e+06    | 0               |"
      ]
     },
     "metadata": {},
     "output_type": "display_data"
    },
    {
     "data": {
      "text/html": [
       "<pre>| 150       | 4m 17s        | 5.52481e+06    | 0               |</pre>"
      ],
      "text/plain": [
       "| 150       | 4m 17s        | 5.52481e+06    | 0               |"
      ]
     },
     "metadata": {},
     "output_type": "display_data"
    },
    {
     "data": {
      "text/html": [
       "<pre>| 160       | 4m 34s        | 5.32621e+06    | 0               |</pre>"
      ],
      "text/plain": [
       "| 160       | 4m 34s        | 5.32621e+06    | 0               |"
      ]
     },
     "metadata": {},
     "output_type": "display_data"
    },
    {
     "data": {
      "text/html": [
       "<pre>| 170       | 4m 52s        | 5.18926e+06    | 0               |</pre>"
      ],
      "text/plain": [
       "| 170       | 4m 52s        | 5.18926e+06    | 0               |"
      ]
     },
     "metadata": {},
     "output_type": "display_data"
    },
    {
     "data": {
      "text/html": [
       "<pre>| 180       | 5m 9s         | 5.32559e+06    | 0               |</pre>"
      ],
      "text/plain": [
       "| 180       | 5m 9s         | 5.32559e+06    | 0               |"
      ]
     },
     "metadata": {},
     "output_type": "display_data"
    },
    {
     "data": {
      "text/html": [
       "<pre>| 190       | 5m 26s        | 5.37977e+06    | 0               |</pre>"
      ],
      "text/plain": [
       "| 190       | 5m 26s        | 5.37977e+06    | 0               |"
      ]
     },
     "metadata": {},
     "output_type": "display_data"
    },
    {
     "data": {
      "text/html": [
       "<pre>| 200       | 5m 43s        | 5.33703e+06    | 0               |</pre>"
      ],
      "text/plain": [
       "| 200       | 5m 43s        | 5.33703e+06    | 0               |"
      ]
     },
     "metadata": {},
     "output_type": "display_data"
    },
    {
     "data": {
      "text/html": [
       "<pre>+-----------+---------------+----------------+-----------------+</pre>"
      ],
      "text/plain": [
       "+-----------+---------------+----------------+-----------------+"
      ]
     },
     "metadata": {},
     "output_type": "display_data"
    }
   ],
   "source": [
    "topic_model = gl.topic_model.create(tweet_docs, num_topics=21, num_iterations=200, alpha=5.0)"
   ]
  },
  {
   "cell_type": "code",
   "execution_count": 50,
   "metadata": {
    "collapsed": false
   },
   "outputs": [
    {
     "data": {
      "text/plain": [
       "[['#ebay',\n",
       "  '#usa',\n",
       "  '#deals',\n",
       "  '#trump',\n",
       "  'watch',\n",
       "  '#maga',\n",
       "  'live',\n",
       "  'shopping',\n",
       "  '#news',\n",
       "  '#imwithher'],\n",
       " ['today',\n",
       "  'check',\n",
       "  'case',\n",
       "  'date',\n",
       "  'cover',\n",
       "  '#tcot',\n",
       "  'checked',\n",
       "  'download',\n",
       "  'month',\n",
       "  'deal'],\n",
       " ['#glutenfree',\n",
       "  'stop',\n",
       "  'like',\n",
       "  'people',\n",
       "  'come',\n",
       "  'free',\n",
       "  'walgreens',\n",
       "  'love',\n",
       "  'days',\n",
       "  'store'],\n",
       " ['week',\n",
       "  'fashion',\n",
       "  'video',\n",
       "  'york',\n",
       "  'london',\n",
       "  'best',\n",
       "  'times',\n",
       "  'liked',\n",
       "  '#paralympics',\n",
       "  '#rio2016'],\n",
       " ['verizon',\n",
       "  'black',\n",
       "  'sprint',\n",
       "  'mobile',\n",
       "  'deals',\n",
       "  'iphone',\n",
       "  'apple',\n",
       "  'wireless',\n",
       "  '16gb',\n",
       "  'samsung'],\n",
       " ['trump',\n",
       "  'obama',\n",
       "  'college',\n",
       "  'vote',\n",
       "  'student',\n",
       "  'president',\n",
       "  'voters',\n",
       "  'america',\n",
       "  'high',\n",
       "  'loans'],\n",
       " ['#weightloss',\n",
       "  'young',\n",
       "  '#health',\n",
       "  '#diet',\n",
       "  'weight',\n",
       "  '#fitness',\n",
       "  'health',\n",
       "  'stay',\n",
       "  'loss',\n",
       "  'lose'],\n",
       " ['#smallbiz',\n",
       "  '#smallbusiness',\n",
       "  'learning',\n",
       "  'business',\n",
       "  'help',\n",
       "  'read',\n",
       "  'small',\n",
       "  '#entrepreneur',\n",
       "  'post',\n",
       "  'online'],\n",
       " ['like',\n",
       "  \"it's\",\n",
       "  'good',\n",
       "  'time',\n",
       "  'right',\n",
       "  'said',\n",
       "  'going',\n",
       "  'trump',\n",
       "  'thing',\n",
       "  \"didn't\"],\n",
       " ['dell',\n",
       "  'core',\n",
       "  '#deals',\n",
       "  'desktop',\n",
       "  'intel',\n",
       "  'windows',\n",
       "  'lenovo',\n",
       "  'laptop',\n",
       "  '#sales',\n",
       "  'wifi'],\n",
       " ['baby',\n",
       "  \"can't\",\n",
       "  'friend',\n",
       "  'love',\n",
       "  'like',\n",
       "  'mcdonalds',\n",
       "  'king',\n",
       "  'burger',\n",
       "  'kids',\n",
       "  \"you're\"],\n",
       " ['hunger',\n",
       "  'airport',\n",
       "  'city',\n",
       "  'campus',\n",
       "  'games',\n",
       "  'world',\n",
       "  'strike',\n",
       "  'breaking',\n",
       "  'chelsea',\n",
       "  'international'],\n",
       " ['trump',\n",
       "  'hillary',\n",
       "  'clinton',\n",
       "  'donald',\n",
       "  'campaign',\n",
       "  'birther',\n",
       "  'obama',\n",
       "  'adhd',\n",
       "  'medical',\n",
       "  'supporters'],\n",
       " ['#nyfw',\n",
       "  '#lfw',\n",
       "  'look',\n",
       "  'nyfw',\n",
       "  '#fashion',\n",
       "  'ready',\n",
       "  'looks',\n",
       "  'collection',\n",
       "  '#ss17',\n",
       "  'shows'],\n",
       " ['football',\n",
       "  'home',\n",
       "  'game',\n",
       "  'team',\n",
       "  'family',\n",
       "  'play',\n",
       "  'card',\n",
       "  'million',\n",
       "  'good',\n",
       "  'depot'],\n",
       " ['digital',\n",
       "  'news',\n",
       "  'offers',\n",
       "  'join',\n",
       "  'tech',\n",
       "  \"we're\",\n",
       "  'work',\n",
       "  'latest',\n",
       "  'platform',\n",
       "  'want'],\n",
       " [\"don't\",\n",
       "  'racism',\n",
       "  'people',\n",
       "  'think',\n",
       "  'want',\n",
       "  'know',\n",
       "  \"it's\",\n",
       "  'hate',\n",
       "  'white',\n",
       "  \"he's\"],\n",
       " ['free',\n",
       "  'time',\n",
       "  'know',\n",
       "  'plan',\n",
       "  \"it's\",\n",
       "  'money',\n",
       "  \"trump's\",\n",
       "  'real',\n",
       "  'need',\n",
       "  \"doesn't\"],\n",
       " ['american',\n",
       "  'education',\n",
       "  'service',\n",
       "  'away',\n",
       "  'help',\n",
       "  'flight',\n",
       "  'support',\n",
       "  'need',\n",
       "  'tell',\n",
       "  'rights'],\n",
       " ['friend',\n",
       "  'great',\n",
       "  'cancer',\n",
       "  'thanks',\n",
       "  'night',\n",
       "  'young',\n",
       "  'today',\n",
       "  'hard',\n",
       "  'drive',\n",
       "  'looking'],\n",
       " ['immigration',\n",
       "  '#skincare',\n",
       "  'care',\n",
       "  'volkswagen',\n",
       "  'report',\n",
       "  'race',\n",
       "  'save',\n",
       "  'skincare',\n",
       "  'issue',\n",
       "  'security']]"
      ]
     },
     "execution_count": 50,
     "metadata": {},
     "output_type": "execute_result"
    }
   ],
   "source": [
    "[x['words'] for x in topic_model.get_topics(output_type='topic_words', num_words=10)]"
   ]
  },
  {
   "cell_type": "code",
   "execution_count": 51,
   "metadata": {
    "collapsed": false
   },
   "outputs": [
    {
     "data": {
      "text/plain": [
       "<matplotlib.text.Text at 0x7f399bf47fd0>"
      ]
     },
     "execution_count": 51,
     "metadata": {},
     "output_type": "execute_result"
    },
    {
     "data": {
      "image/png": "[encoded data removed]",
      "text/plain": [
       "<matplotlib.figure.Figure at 0x7f39a1d8e4d0>"
      ]
     },
     "metadata": {},
     "output_type": "display_data"
    }
   ],
   "source": [
    "for i in range(20):\n",
    "    plt.plot(range(100), topic_model.get_topics(topic_ids=[i], num_words=100)['score'])\n",
    "plt.xlabel('Word rank')\n",
    "plt.ylabel('Probability')\n",
    "plt.title('Probabilities of Top 100 Words in each Topic')"
   ]
  },
  {
   "cell_type": "code",
   "execution_count": 83,
   "metadata": {
    "collapsed": false
   },
   "outputs": [
    {
     "data": {
      "image/png": "[encoded data removed]",
      "text/plain": [
       "<matplotlib.figure.Figure at 0x7f3995267d90>"
      ]
     },
     "metadata": {},
     "output_type": "display_data"
    }
   ],
   "source": [
    "top_probs = [sum(topic_model.get_topics(topic_ids=[i], num_words=10)['score']) for i in range(20)]\n",
    "\n",
    "ind = np.arange(20)\n",
    "width = 0.5\n",
    "\n",
    "fig, ax = plt.subplots()\n",
    "\n",
    "ax.bar(ind-(width/2),top_probs,width)\n",
    "ax.set_xticks(ind)\n",
    "\n",
    "plt.xlabel('Topic')\n",
    "plt.ylabel('Probability')\n",
    "plt.title('Total Probability of Top 10 Words in each Topic')\n",
    "plt.xlim(-0.5,19.5)\n",
    "plt.ylim(0,0.30)\n",
    "plt.show()"
   ]
  },
  {
   "cell_type": "code",
   "execution_count": 105,
   "metadata": {
    "collapsed": false
   },
   "outputs": [
    {
     "data": {
      "text/html": [
       "<div style=\"max-height:1000px;max-width:1500px;overflow:auto;\"><table frame=\"box\" rules=\"cols\">\n",
       "    <tr>\n",
       "        <th style=\"padding-left: 1em; padding-right: 1em; text-align: center\">average predictions</th>\n",
       "        <th style=\"padding-left: 1em; padding-right: 1em; text-align: center\">topics</th>\n",
       "    </tr>\n",
       "    <tr>\n",
       "        <td style=\"padding-left: 1em; padding-right: 1em; text-align: center; vertical-align: top\">0.047619047619</td>\n",
       "        <td style=\"padding-left: 1em; padding-right: 1em; text-align: center; vertical-align: top\">0</td>\n",
       "    </tr>\n",
       "    <tr>\n",
       "        <td style=\"padding-left: 1em; padding-right: 1em; text-align: center; vertical-align: top\">0.047619047619</td>\n",
       "        <td style=\"padding-left: 1em; padding-right: 1em; text-align: center; vertical-align: top\">1</td>\n",
       "    </tr>\n",
       "    <tr>\n",
       "        <td style=\"padding-left: 1em; padding-right: 1em; text-align: center; vertical-align: top\">0.047619047619</td>\n",
       "        <td style=\"padding-left: 1em; padding-right: 1em; text-align: center; vertical-align: top\">2</td>\n",
       "    </tr>\n",
       "    <tr>\n",
       "        <td style=\"padding-left: 1em; padding-right: 1em; text-align: center; vertical-align: top\">0.047619047619</td>\n",
       "        <td style=\"padding-left: 1em; padding-right: 1em; text-align: center; vertical-align: top\">3</td>\n",
       "    </tr>\n",
       "    <tr>\n",
       "        <td style=\"padding-left: 1em; padding-right: 1em; text-align: center; vertical-align: top\">0.047619047619</td>\n",
       "        <td style=\"padding-left: 1em; padding-right: 1em; text-align: center; vertical-align: top\">4</td>\n",
       "    </tr>\n",
       "    <tr>\n",
       "        <td style=\"padding-left: 1em; padding-right: 1em; text-align: center; vertical-align: top\">0.047619047619</td>\n",
       "        <td style=\"padding-left: 1em; padding-right: 1em; text-align: center; vertical-align: top\">5</td>\n",
       "    </tr>\n",
       "    <tr>\n",
       "        <td style=\"padding-left: 1em; padding-right: 1em; text-align: center; vertical-align: top\">0.047619047619</td>\n",
       "        <td style=\"padding-left: 1em; padding-right: 1em; text-align: center; vertical-align: top\">6</td>\n",
       "    </tr>\n",
       "    <tr>\n",
       "        <td style=\"padding-left: 1em; padding-right: 1em; text-align: center; vertical-align: top\">0.047619047619</td>\n",
       "        <td style=\"padding-left: 1em; padding-right: 1em; text-align: center; vertical-align: top\">7</td>\n",
       "    </tr>\n",
       "    <tr>\n",
       "        <td style=\"padding-left: 1em; padding-right: 1em; text-align: center; vertical-align: top\">0.047619047619</td>\n",
       "        <td style=\"padding-left: 1em; padding-right: 1em; text-align: center; vertical-align: top\">8</td>\n",
       "    </tr>\n",
       "    <tr>\n",
       "        <td style=\"padding-left: 1em; padding-right: 1em; text-align: center; vertical-align: top\">0.047619047619</td>\n",
       "        <td style=\"padding-left: 1em; padding-right: 1em; text-align: center; vertical-align: top\">9</td>\n",
       "    </tr>\n",
       "</table>\n",
       "[21 rows x 2 columns]<br/>Note: Only the head of the SFrame is printed.<br/>You can use print_rows(num_rows=m, num_columns=n) to print more rows and columns.\n",
       "</div>"
      ],
      "text/plain": [
       "Columns:\n",
       "\taverage predictions\tfloat\n",
       "\ttopics\tint\n",
       "\n",
       "Rows: 21\n",
       "\n",
       "Data:\n",
       "+---------------------+--------+\n",
       "| average predictions | topics |\n",
       "+---------------------+--------+\n",
       "|    0.047619047619   |   0    |\n",
       "|    0.047619047619   |   1    |\n",
       "|    0.047619047619   |   2    |\n",
       "|    0.047619047619   |   3    |\n",
       "|    0.047619047619   |   4    |\n",
       "|    0.047619047619   |   5    |\n",
       "|    0.047619047619   |   6    |\n",
       "|    0.047619047619   |   7    |\n",
       "|    0.047619047619   |   8    |\n",
       "|    0.047619047619   |   9    |\n",
       "+---------------------+--------+\n",
       "[21 rows x 2 columns]\n",
       "Note: Only the head of the SFrame is printed.\n",
       "You can use print_rows(num_rows=m, num_columns=n) to print more rows and columns."
      ]
     },
     "execution_count": 105,
     "metadata": {},
     "output_type": "execute_result"
    }
   ],
   "source": [
    "\n",
    "def average_predictions(model, test_document, n_topics = 21 , num_trials=100):\n",
    "    avg_preds = np.zeros((model.num_topics))\n",
    "    for i in range(num_trials):\n",
    "        avg_preds += model.predict(test_document, output_type='probability')[0]\n",
    "    avg_preds = avg_preds/num_trials\n",
    "    result = gl.SFrame({'topics':range(n_topics), 'average predictions':avg_preds})\n",
    "    result = result.sort('average predictions', ascending=False)\n",
    "    return result\n",
    "sample_res =average_predictions(topic_model, gl.SArray([s]), topic_model.num_topics , 100)\n",
    "\n",
    "sample_res"
   ]
  },
  {
   "cell_type": "code",
   "execution_count": 104,
   "metadata": {
    "collapsed": false
   },
   "outputs": [],
   "source": [
    "s = {'Was':2 , 'IS':1}"
   ]
  },
  {
   "cell_type": "code",
   "execution_count": 97,
   "metadata": {
    "collapsed": false
   },
   "outputs": [
    {
     "data": {
      "text/html": [
       "<div style=\"max-height:1000px;max-width:1500px;overflow:auto;\"><table frame=\"box\" rules=\"cols\">\n",
       "    <tr>\n",
       "        <th style=\"padding-left: 1em; padding-right: 1em; text-align: center\">topic</th>\n",
       "        <th style=\"padding-left: 1em; padding-right: 1em; text-align: center\">word</th>\n",
       "        <th style=\"padding-left: 1em; padding-right: 1em; text-align: center\">score</th>\n",
       "    </tr>\n",
       "    <tr>\n",
       "        <td style=\"padding-left: 1em; padding-right: 1em; text-align: center; vertical-align: top\">14</td>\n",
       "        <td style=\"padding-left: 1em; padding-right: 1em; text-align: center; vertical-align: top\">football</td>\n",
       "        <td style=\"padding-left: 1em; padding-right: 1em; text-align: center; vertical-align: top\">0.0483656222664</td>\n",
       "    </tr>\n",
       "    <tr>\n",
       "        <td style=\"padding-left: 1em; padding-right: 1em; text-align: center; vertical-align: top\">14</td>\n",
       "        <td style=\"padding-left: 1em; padding-right: 1em; text-align: center; vertical-align: top\">home</td>\n",
       "        <td style=\"padding-left: 1em; padding-right: 1em; text-align: center; vertical-align: top\">0.031390572234</td>\n",
       "    </tr>\n",
       "    <tr>\n",
       "        <td style=\"padding-left: 1em; padding-right: 1em; text-align: center; vertical-align: top\">14</td>\n",
       "        <td style=\"padding-left: 1em; padding-right: 1em; text-align: center; vertical-align: top\">game</td>\n",
       "        <td style=\"padding-left: 1em; padding-right: 1em; text-align: center; vertical-align: top\">0.0182913347623</td>\n",
       "    </tr>\n",
       "    <tr>\n",
       "        <td style=\"padding-left: 1em; padding-right: 1em; text-align: center; vertical-align: top\">14</td>\n",
       "        <td style=\"padding-left: 1em; padding-right: 1em; text-align: center; vertical-align: top\">team</td>\n",
       "        <td style=\"padding-left: 1em; padding-right: 1em; text-align: center; vertical-align: top\">0.0141216009321</td>\n",
       "    </tr>\n",
       "    <tr>\n",
       "        <td style=\"padding-left: 1em; padding-right: 1em; text-align: center; vertical-align: top\">14</td>\n",
       "        <td style=\"padding-left: 1em; padding-right: 1em; text-align: center; vertical-align: top\">family</td>\n",
       "        <td style=\"padding-left: 1em; padding-right: 1em; text-align: center; vertical-align: top\">0.0140645714321</td>\n",
       "    </tr>\n",
       "    <tr>\n",
       "        <td style=\"padding-left: 1em; padding-right: 1em; text-align: center; vertical-align: top\">14</td>\n",
       "        <td style=\"padding-left: 1em; padding-right: 1em; text-align: center; vertical-align: top\">play</td>\n",
       "        <td style=\"padding-left: 1em; padding-right: 1em; text-align: center; vertical-align: top\">0.0131608732006</td>\n",
       "    </tr>\n",
       "    <tr>\n",
       "        <td style=\"padding-left: 1em; padding-right: 1em; text-align: center; vertical-align: top\">14</td>\n",
       "        <td style=\"padding-left: 1em; padding-right: 1em; text-align: center; vertical-align: top\">card</td>\n",
       "        <td style=\"padding-left: 1em; padding-right: 1em; text-align: center; vertical-align: top\">0.0126454142579</td>\n",
       "    </tr>\n",
       "    <tr>\n",
       "        <td style=\"padding-left: 1em; padding-right: 1em; text-align: center; vertical-align: top\">14</td>\n",
       "        <td style=\"padding-left: 1em; padding-right: 1em; text-align: center; vertical-align: top\">million</td>\n",
       "        <td style=\"padding-left: 1em; padding-right: 1em; text-align: center; vertical-align: top\">0.012241820873</td>\n",
       "    </tr>\n",
       "    <tr>\n",
       "        <td style=\"padding-left: 1em; padding-right: 1em; text-align: center; vertical-align: top\">14</td>\n",
       "        <td style=\"padding-left: 1em; padding-right: 1em; text-align: center; vertical-align: top\">good</td>\n",
       "        <td style=\"padding-left: 1em; padding-right: 1em; text-align: center; vertical-align: top\">0.0107985358334</td>\n",
       "    </tr>\n",
       "    <tr>\n",
       "        <td style=\"padding-left: 1em; padding-right: 1em; text-align: center; vertical-align: top\">14</td>\n",
       "        <td style=\"padding-left: 1em; padding-right: 1em; text-align: center; vertical-align: top\">depot</td>\n",
       "        <td style=\"padding-left: 1em; padding-right: 1em; text-align: center; vertical-align: top\">0.0107831817372</td>\n",
       "    </tr>\n",
       "</table>\n",
       "[50 rows x 3 columns]<br/>Note: Only the head of the SFrame is printed.<br/>You can use print_rows(num_rows=m, num_columns=n) to print more rows and columns.\n",
       "</div>"
      ],
      "text/plain": [
       "Columns:\n",
       "\ttopic\tint\n",
       "\tword\tstr\n",
       "\tscore\tfloat\n",
       "\n",
       "Rows: 50\n",
       "\n",
       "Data:\n",
       "+-------+----------+-----------------+\n",
       "| topic |   word   |      score      |\n",
       "+-------+----------+-----------------+\n",
       "|   14  | football | 0.0483656222664 |\n",
       "|   14  |   home   |  0.031390572234 |\n",
       "|   14  |   game   | 0.0182913347623 |\n",
       "|   14  |   team   | 0.0141216009321 |\n",
       "|   14  |  family  | 0.0140645714321 |\n",
       "|   14  |   play   | 0.0131608732006 |\n",
       "|   14  |   card   | 0.0126454142579 |\n",
       "|   14  | million  |  0.012241820873 |\n",
       "|   14  |   good   | 0.0107985358334 |\n",
       "|   14  |  depot   | 0.0107831817372 |\n",
       "+-------+----------+-----------------+\n",
       "[50 rows x 3 columns]\n",
       "Note: Only the head of the SFrame is printed.\n",
       "You can use print_rows(num_rows=m, num_columns=n) to print more rows and columns."
      ]
     },
     "execution_count": 97,
     "metadata": {},
     "output_type": "execute_result"
    }
   ],
   "source": [
    "topic_model.get_topics([14],50)"
   ]
  },
  {
   "cell_type": "code",
   "execution_count": 98,
   "metadata": {
    "collapsed": false
   },
   "outputs": [
    {
     "name": "stdout",
     "output_type": "stream",
     "text": [
      "Canvas is accessible via web browser at the URL: http://localhost:34318/index.html\n",
      "Opening Canvas in default web browser.\n"
     ]
    }
   ],
   "source": [
    "topic_model.show()"
   ]
  },
  {
   "cell_type": "code",
   "execution_count": 100,
   "metadata": {
    "collapsed": false
   },
   "outputs": [],
   "source": [
    "topic_model.save('../Data/topic_model_v_1.0_gl')"
   ]
  },
  {
   "cell_type": "code",
   "execution_count": null,
   "metadata": {
    "collapsed": true
   },
   "outputs": [],
   "source": []
  }
 ],
 "metadata": {
  "kernelspec": {
   "display_name": "Python 2",
   "language": "python",
   "name": "python2"
  },
  "language_info": {
   "codemirror_mode": {
    "name": "ipython",
    "version": 2
   },
   "file_extension": ".py",
   "mimetype": "text/x-python",
   "name": "python",
   "nbconvert_exporter": "python",
   "pygments_lexer": "ipython2",
   "version": "2.7.11"
  }
 },
 "nbformat": 4,
 "nbformat_minor": 0
}
