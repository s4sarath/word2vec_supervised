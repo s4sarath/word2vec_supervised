{
 "cells": [
  {
   "cell_type": "code",
   "execution_count": 9,
   "metadata": {
    "collapsed": false
   },
   "outputs": [],
   "source": [
    "import numpy as np\n",
    "import pandas as pd\n",
    "import nltk\n",
    "import re\n",
    "import os\n",
    "import codecs\n",
    "from sklearn import feature_extraction\n",
    "import mpld3\n",
    "import json \n",
    "\n",
    "from gensim.parsing.preprocessing import STOPWORDS\n"
   ]
  },
  {
   "cell_type": "code",
   "execution_count": 5,
   "metadata": {
    "collapsed": false
   },
   "outputs": [],
   "source": [
    "STOPWORDS = set(STOPWORDS)"
   ]
  },
  {
   "cell_type": "code",
   "execution_count": 11,
   "metadata": {
    "collapsed": false
   },
   "outputs": [],
   "source": [
    "def remove_username(tweet):\n",
    "    p = re.compile(ur'(@[A-Za-z0-9_-]+)', re.MULTILINE | re.IGNORECASE)\n",
    "    return re.sub(p, ' ', tweet)\n",
    "def remove_hashtag(tweet):\n",
    "    p = re.compile(ur'(#[A-Za-z0-9_-]+)', re.MULTILINE | re.IGNORECASE)\n",
    "    return re.sub(p, ' ', tweet)\n",
    "\n",
    "def preprocess(tweet):\n",
    "    tweet = tweet.lower()\n",
    "    tweet = remove_username(tweet)\n",
    "    tweet = remove_hashtag(tweet)\n",
    "    tweet = re.sub(r\"https?:\\/\\/\\S+\\b|www\\.(\\w+\\.)+\\S*\", \" \", tweet)\n",
    "    tweet = re.sub(ur\"\\s+\",\" \", tweet)\n",
    "    tweet = tweet.split()\n",
    "    tweet = [a for a in tweet if a not in STOPWORDS]\n",
    "    return tweet\n",
    "    "
   ]
  },
  {
   "cell_type": "code",
   "execution_count": 10,
   "metadata": {
    "collapsed": false
   },
   "outputs": [
    {
     "name": "stdout",
     "output_type": "stream",
     "text": [
      "'The length of data is 2027707\n"
     ]
    }
   ],
   "source": [
    "data = json.load(open('../Data/gnip_sample2m.json'))\n",
    "print \"'The length of data is {}\".format(len(data))\n",
    "### Extract the twitter text from the lists of data\n",
    "text = [item[u'twitter_text'] for item in data]"
   ]
  },
  {
   "cell_type": "code",
   "execution_count": 15,
   "metadata": {
    "collapsed": false
   },
   "outputs": [
    {
     "name": "stdout",
     "output_type": "stream",
     "text": [
      "CPU times: user 2min 29s, sys: 2.89 s, total: 2min 32s\n",
      "Wall time: 2min 31s\n",
      "(2027707, 200000)\n"
     ]
    }
   ],
   "source": [
    "from sklearn.feature_extraction.text import TfidfVectorizer\n",
    "\n",
    "#define vectorizer parameters\n",
    "tfidf_vectorizer = TfidfVectorizer(max_features=200000,\n",
    "                                 stop_words='english',\n",
    "                                 use_idf=True, tokenizer=preprocess, ngram_range=(1,2))\n",
    "\n",
    "%time tfidf_matrix = tfidf_vectorizer.fit_transform(text) #fit the vectorizer to synopses\n",
    "\n",
    "print(tfidf_matrix.shape)"
   ]
  },
  {
   "cell_type": "code",
   "execution_count": 18,
   "metadata": {
    "collapsed": false
   },
   "outputs": [
    {
     "name": "stdout",
     "output_type": "stream",
     "text": [
      "CPU times: user 5h 9min 4s, sys: 10min 28s, total: 5h 19min 32s\n",
      "Wall time: 5h 15min 33s\n"
     ]
    }
   ],
   "source": [
    "from sklearn.cluster import KMeans\n",
    "\n",
    "num_clusters = 100\n",
    "\n",
    "km = KMeans(n_clusters=num_clusters)\n",
    "\n",
    "%time km.fit(tfidf_matrix)\n",
    "\n",
    "clusters = km.labels_.tolist()"
   ]
  },
  {
   "cell_type": "code",
   "execution_count": 19,
   "metadata": {
    "collapsed": true
   },
   "outputs": [],
   "source": [
    "import cPickle\n",
    "cPickle.dump(km , open('kmean_2m_tweets.pkl' , 'wb') , protocol = 2)"
   ]
  },
  {
   "cell_type": "code",
   "execution_count": 48,
   "metadata": {
    "collapsed": false
   },
   "outputs": [
    {
     "name": "stdout",
     "output_type": "stream",
     "text": [
      "Top terms per cluster:\n",
      "\n",
      "Cluster 0 words:Cluster 0 , [u'cancer', u'ovarian', u'signs', u'silent', u'ovarian cancer', u'... cancer', u'signs \"\"the', u'\"\"the silent', u'silent killer\"\"', u'killer\"\"', u'\"\"the']\n",
      "\n",
      "Cluster 1 words:Cluster 1 , [u\"wendy's\", u\": wendy's\", u'4', u\"wendy's ?\", u':', u'rt', u'?', u'rt :', u\"want wendy's\", u'4 4', u'want']\n",
      "\n",
      "Cluster 2 words:Cluster 2 , [u'rt', u'rt :', u':', u': ?', u'?', u'https:?', u': :', u'http?', u'htt?', u'https?', u': rt']\n",
      "\n",
      "Cluster 3 words:Cluster 3 , [u'word', u'create word', u'. word', u'word is.', u'protip :', u': protip', u'protip', u'called racism.', u'need create', u'word .', u\"didn't need\"]\n",
      "\n",
      "Cluster 4 words:Cluster 4 , [u'hug', u'?', u'about. ?', u'care about.', u'? listen', u'tree.', u'friend. ?', u'more. ?', u': ways', u'depression', u'about.']\n",
      "\n",
      "Cluster 5 words:Cluster 5 , [u'ns-15t8lte 8gb', u'8\"\" ns-15t8lte', u'ns-15t8lte', u'flex 8\"\"', u'8gb wi-fi', u'verizon android', u'4g verizon', u'8\"\"', u'flex', u'insignia flex', u'insignia']\n",
      "\n",
      "Cluster 6 words:Cluster 6 , [u'refreshes xps', u'chips,', u'chips, better', u'battery life,', u'13 new', u'refreshes', u'better battery', u'life, rose', u'intel chips,', u'dell refreshes', u'new intel']\n",
      "\n",
      "Cluster 7 words:Cluster 7 , [u'airport', u'rt', u'rt :', u':', u'?', u'international airport', u'international', u'manchester', u'manchester airport', u'heathrow', u'@']\n",
      "\n",
      "Cluster 8 words:Cluster 8 , [u',', u'ricostruzione dei', u'fatti .', u'mia ricostruzione', u'dei fatti', u'ricostruzione', u'fatti', u'la mia', u'dei', u', :', u'mia']\n",
      "\n",
      "Cluster 9 words:Cluster 9 , [u'friend', u'1: friend', u'turn me:', u'2: quick', u'quick turn', u': *the', u'*the office', u'office comes', u'*the', u'on* friend', u'comes on*']\n",
      "\n",
      "Cluster 10 words:Cluster 10 , [u'obama cvs', u'cvs teach', u'ellen took', u'took michelle', u': ellen', u'cvs', u'ellen', u'teach', u'michelle obama', u'michelle', u'took']\n",
      "\n",
      "Cluster 11 words:Cluster 11 , [u'galaxy', u'samsung galaxy', u'samsung', u': samsung', u'verizon', u'4g', u'tab', u'lte', u'galaxy tab', u'16gb', u'unlocked']\n",
      "\n",
      "Cluster 12 words:Cluster 12 , [u'students came', u'outside house,', u'400+ students', u'cancer 400+', u'house,', u'teacher cancer', u'400+', u': teacher', u'came worship', u'worship outside', u'worship']\n",
      "\n",
      "Cluster 13 words:Cluster 13 , [u'got', u':', u'rt', u'rt :', u': got', u'mcdonalds', u'?', u'mcdonalds jeans', u'got mcdonalds', u'jeans', u'finally got']\n",
      "\n",
      "Cluster 14 words:Cluster 14 , [u'supporters', u'trump supporters', u'trump', u':', u'rt', u'rt :', u'hillary', u'clinton', u': trump', u'?', u'half']\n",
      "\n",
      "Cluster 15 words:Cluster 15 , [u'man potential', u'young man', u': young', u'potential', u'young', u'man', u'rt :', u'rt', u':', u'\"\"catch', u'can\"\"']\n",
      "\n",
      "Cluster 16 words:Cluster 16 , [u'resources:', u'tv shows', u'& tv', u'shows ?', u': biggest', u'movies', u'biggest', u'tv', u'shows', u'learning', u'&']\n",
      "\n",
      "Cluster 17 words:Cluster 17 , [u'speech miami.', u'miami. said', u'false things.', u'said false', u'miami.', u'trump speech', u'things.', u'false', u'speech', u': donald', u'said']\n",
      "\n",
      "Cluster 18 words:Cluster 18 , [u'.', u': .', u':', u'rt', u'rt :', u'?', u'. :', u'. .', u'. ?', u'&', u\"'s\"]\n",
      "\n",
      "Cluster 19 words:Cluster 19 , [u'-', u':', u'...', u'rt', u'rt :', u'... -', u'?', u'hp', u'\"', u'- intel', u'intel']\n",
      "\n",
      "Cluster 20 words:Cluster 20 , [u'iphone', u'iphone 7', u'7', u'7 plus', u't-mobile', u'plus', u'$0', u'7 $0', u'trade', u'sprint', u'gen network.']\n",
      "\n",
      "Cluster 21 words:Cluster 21 , [u'traffic,', u'gabbert', u'football fan', u'shitty', u'negative', u'fan', u'huge', u'twitter', u'night', u'having', u'football']\n",
      "\n",
      "Cluster 22 words:Cluster 22 , [u'travels', u'integrated', u'dell.', u'compact', u'features', u'audio', u'handle', u'notebook', u'office', u'long', u'laptop']\n",
      "\n",
      "Cluster 23 words:Cluster 23 , [u'u', u'ur', u': u', u':', u'rt', u'rt :', u'r', u'&', u'?', u'u r', u'friend']\n",
      "\n",
      "Cluster 24 words:Cluster 24 , [u'mistaken', u'time!', u'donations', u'prison', u'signed', u\": i'm\", u'https:/?', u'need', u\"i'm\", u'rt :', u'rt']\n",
      "\n",
      "Cluster 25 words:Cluster 25 , [u'>>>', u'grow >>>', u'>>> .', u'new grow', u'help new', u'grow', u'thanks', u'help', u'>>> ?', u'.', u'rt :']\n",
      "\n",
      "Cluster 26 words:Cluster 26 , [u'!', u'rt', u'rt :', u':', u'! ?', u'?', u'&', u'win', u'entered', u'thank', u': !']\n",
      "\n",
      "Cluster 27 words:Cluster 27 , [u'fur', u'fur baby', u'baby', u'. fur', u'faux fur', u'faux', u'?', u'.', u'coat', u'fur coat', u'beanbag']\n",
      "\n",
      "Cluster 28 words:Cluster 28 , [u'matter.', u'trump?', u'point', u'afraid', u'.?', u'rt :', u'rt', u':', u'delivered door', u'deliver?', u'delivered']\n",
      "\n",
      "Cluster 29 words:Cluster 29 , [u'| watch', u'sunday 18th', u'2017 |', u'september,', u'bst', u'live .', u'18th', u'spring summer', u'summer 2017', u'watch live', u': spring']\n",
      "\n",
      "Cluster 30 words:Cluster 30 , [u'encounter surprise', u'surprise way', u'way ...', u'encounter', u'... cancer', u'surprise', u'way', u'cancer', u'...', u': encounter', u'rt :']\n",
      "\n",
      "Cluster 31 words:Cluster 31 , [u'wireless download', u'checked', u'download', u'wireless', u'checked verizon', u'download today!', u'today!', u'checked cricket', u'cricket wireless', u'cricket', u'verizon wireless']\n",
      "\n",
      "Cluster 32 words:Cluster 32 , [u'black', u':', u'rt', u'rt :', u': black', u'black ppl', u'throw grapes', u'grapes black', u'mcdonalds throw', u'snap said', u'girl roommates']\n",
      "\n",
      "Cluster 33 words:Cluster 33 , [u'who?', u'imaan truly', u'truly dominating', u'hadid who?', u'jenner who?', u'dominating nyfw', u'who? jenner', u'who? imaan', u': hadid', u'dominating', u'imaan']\n",
      "\n",
      "Cluster 34 words:Cluster 34 , [u'oh', u': oh', u':', u'rt', u'rt :', u'baby', u'tcr 330-hp', u'oh gti!', u'built for...', u'330-hp', u'volkswagen tcr']\n",
      "\n",
      "Cluster 35 words:Cluster 35 , [u'hair', u':', u'fallon', u'jimmy fallon', u'rt', u'rt :', u'jimmy', u\"trump's hair\", u'?', u'mess hair', u\"'s hair\"]\n",
      "\n",
      "Cluster 36 words:Cluster 36 , [u'profiling', u'racial profiling', u'racial', u'trump', u'rt', u'rt :', u'calls', u':', u'profiling necessary', u'trump: racial', u'calls racial']\n",
      "\n",
      "Cluster 37 words:Cluster 37 , [u'adhd!', u'hours!', u'cd', u'sit', u'policies', u'it!', u\"doesn't\", u'4', u'~~ advanced', u\"deliver sister's\", u'delivered door']\n",
      "\n",
      "Cluster 38 words:Cluster 38 , [u'vote, ask', u'debt have.', u\"have. there's\", u\"friends won't\", u\"won't vote,\", u'ask student', u\"there's candidate\", u'candidate col?', u'col?', u'have.', u'vote,']\n",
      "\n",
      "Cluster 39 words:Cluster 39 , [u'?', u'? ?', u': ?', u'rt', u':', u'rt :', u'?? ?', u'??', u': ??', u'[ ?', u'? ??']\n",
      "\n",
      "Cluster 40 words:Cluster 40 , [u'sprint', u'sprint cup', u'cup', u':', u'rt', u'rt :', u': sprint', u'?', u'4g sprint', u'16gb wi-fi', u'phone']\n",
      "\n",
      "Cluster 41 words:Cluster 41 , [u'major pro-trump', u'pro-trump art', u'pro-trump', u'york city', u'conservative', u': gay', u'? new', u'gay', u'major', u'art', u'announces major']\n",
      "\n",
      "Cluster 42 words:Cluster 42 , [u'fashion', u'fashion week', u'week', u'york', u'new york', u'york fashion', u'new', u'london fashion', u'london', u'rt', u'rt :']\n",
      "\n",
      "Cluster 43 words:Cluster 43 , [u'learning', u'rt', u'rt :', u':', u': learning', u'?', u'machine learning', u'&', u'machine', u'great', u\"i'm learning\"]\n",
      "\n",
      "Cluster 44 words:Cluster 44 , [u'baby pull', u'pull closer', u'closer', u'pull', u': baby', u'closer like', u'kid enclosure', u'like kid', u'enclosure', u'baby', u'kid']\n",
      "\n",
      "Cluster 45 words:Cluster 45 , [u'$gpdb partners', u'clean, non-gmo', u'bringing clean,', u'non-gmo foods', u'partners bringing', u'foods america', u'$gpdb', u'non-gmo', u': $gpdb', u'clean,', u'partners']\n",
      "\n",
      "Cluster 46 words:Cluster 46 , [u'talk', u'people talk', u'swear people', u'talk mlk', u'died sleep', u'like died', u'mlk like', u'old age.', u'sleep kindly', u'kindly old', u': swear']\n",
      "\n",
      "Cluster 47 words:Cluster 47 , [u'simone', u'biles', u'simone biles', u'adhd', u'olympic', u'hackers', u'medical', u': simone', u'opens', u'leak', u'williams']\n",
      "\n",
      "Cluster 48 words:Cluster 48 , [u'parking', u'parking lot', u'lot', u\"wendy's parking\", u'lot ???', u'airport parking', u\": wendy's\", u\"wendy's\", u'airport', u'rt', u'rt :']\n",
      "\n",
      "Cluster 49 words:Cluster 49 , [u'weight', u'weight loss', u'loss', u'weight watchers', u'watchers', u'lose weight', u'lose', u'oprah', u'help', u'help lose', u'>> https:?']\n",
      "\n",
      "Cluster 50 words:Cluster 50 , [u'poppe', u'poppe -', u'rick poppe', u'president\"\" rick', u'check \"\"donald', u'trump president\"\"', u'president\"\"', u'rick', u'\"\"donald trump', u'\"\"donald', u': check']\n",
      "\n",
      "Cluster 51 words:Cluster 51 , [u'democrats need', u'republicans democrats', u'names.', u': 15.', u'need', u'15.', u'an?', u'thing.', u'bs', u'black voters', u'us.']\n",
      "\n",
      "Cluster 52 words:Cluster 52 , [u'sitting damning', u'accused sitting', u'damning border', u'damning', u'dhs accused', u'accused', u'sitting', u'border', u'border report', u'issue drives', u'report immigration']\n",
      "\n",
      "Cluster 53 words:Cluster 53 , [u'jumping', u'rt', u'rt :', u':', u': jumping', u'jumping conclusions', u'conclusions', u'?', u'like', u\"i'm\", u'bandwagon']\n",
      "\n",
      "Cluster 54 words:Cluster 54 , [u'2a', u':', u'rt', u'rt :', u': 2a', u'class 2a', u'2a rights', u'support 2a', u'weapons. expect', u'expect support', u'2a valuing']\n",
      "\n",
      "Cluster 55 words:Cluster 55 , [u'jump', u'jump conclusions', u\"don't jump\", u'conclusions', u'long jump', u'high jump', u'long', u\"don't\", u'high', u'mass shooti?', u'conclusions mass']\n",
      "\n",
      "Cluster 56 words:Cluster 56 , [u'vote', u'rt', u':', u'rt :', u'vote trump', u'trump', u'baby gorilla', u'gorilla', u'harambe mcharambeface', u'mcharambeface', u'gorilla named']\n",
      "\n",
      "Cluster 57 words:Cluster 57 , [u\"tell he's\", u'life,', u're?', u'apologize', u\": you're\", u'ahead', u'birtherism', u'. :', u'tell', u\"he's\", u\"you're\"]\n",
      "\n",
      "Cluster 58 words:Cluster 58 , [u'donald', u'donald trump', u'trump', u': donald', u':', u'rt', u'rt :', u'inconvenient', u'pregnancy', u'hillary', u'trump said']\n",
      "\n",
      "Cluster 59 words:Cluster 59 , [u'rickpoppe ?', u\"president' rickpoppe\", u\"heard 'donald\", u'rickpoppe', u\"trump president'\", u\"president'\", u\"'donald trump\", u\"'donald\", u': heard', u'heard', u'trump']\n",
      "\n",
      "Cluster 60 words:Cluster 60 , [u'able drowning', u'college able', u'wants college', u'\"\"everyone wants', u'drowning debt.\"\"', u'debt.\"\" ?hillary', u'debt.\"\"', u'\"\"everyone', u': \"\"everyone', u'drowning', u'?hillary \"']\n",
      "\n",
      "Cluster 61 words:Cluster 61 , [u':', u'rt', u'rt :', u'?', u'trump', u'&', u'\"', u'\"rt', u'\"rt :', u'new', u'like']\n",
      "\n",
      "Cluster 62 words:Cluster 62 , [u'comes', u'friend', u'2: oh', u'no, comes', u\"1: don't\", u'oh no,', u\"don't friend\", u'*chainsmokers comes', u'*chainsmokers', u': *chainsmokers', u'on* friend']\n",
      "\n",
      "Cluster 63 words:Cluster 63 , [u\"18. we'll\", u'ask one:', u\"we'll let\", u'let ask', u': 18.', u'18.', u'one:', u\"we'll\", u'ask', u'let', u'rt :']\n",
      "\n",
      "Cluster 64 words:Cluster 64 , [u'pinkett smith', u'pinkett', u'jada pinkett', u'beauty, jada', u'passionate ageless', u'birthday talented,', u'talented, passionate', u'happy 45th', u'45th birthday', u'jada', u'ageless beauty,']\n",
      "\n",
      "Cluster 65 words:Cluster 65 , [u'apple iphone', u'iphone', u'apple', u'smartphone', u'-', u'6s', u'iphone 6s', u'iphone 6', u': apple', u'16gb', u'gold']\n",
      "\n",
      "Cluster 66 words:Cluster 66 , [u'like obama.', u'obama.', u': like', u'like', u'rt :', u'rt', u':', u'education', u'trump!', u'twice', u'?']\n",
      "\n",
      "Cluster 67 words:Cluster 67 , [u'man, (accurate)', u'headline times.', u'(accurate) headline', u\"times. we're\", u'territory here:', u'new territory', u'(accurate)', u\"we're new\", u'territory', u': man,', u'headline']\n",
      "\n",
      "Cluster 68 words:Cluster 68 , [u'flight spotted', u'feet!', u'airlines flight', u'spotted', u'airlines', u'traveling', u'flight', u'miles away', u'away traveling', u'american airlines', u'miles']\n",
      "\n",
      "Cluster 69 words:Cluster 69 , [u'activity tracking', u'pill reminder,', u'reminder, activity', u'pill', u'reminder,', u'tracking', u'tracking improved', u'activity', u'walgreens pill', u'improved', u'walgreens']\n",
      "\n",
      "Cluster 70 words:Cluster 70 , [u'reviews,awesome thrill', u'thrill ride', u'brian e.', u'rhinehoth brian', u'great reviews,awesome', u'e. niskala', u'reviews,awesome', u'bored? listen', u'niskala great', u'niskala', u'bored?']\n",
      "\n",
      "Cluster 71 words:Cluster 71 , [u'racism taught', u'taught', u'taught racism', u'racism', u': racism', u'rt :', u'rt', u':', u'stupidly', u'? ?', u'?']\n",
      "\n",
      "Cluster 72 words:Cluster 72 , [u'manning', u'hunger', u'chelsea manning', u'chelsea', u'hunger strike', u'strike', u'ends hunger', u'manning ends', u'ends', u'army', u': chelsea']\n",
      "\n",
      "Cluster 73 words:Cluster 73 , [u'adhd, taking', u'medicine ashamed', u'afraid let', u'taking medicine', u\"ashamed i'm\", u'having adhd,', u'people know.', u\"i'm afraid\", u'let people', u'adhd,', u'medicine']\n",
      "\n",
      "Cluster 74 words:Cluster 74 , [u'hrs policies', u'choice let', u'$10mm charity', u'interview 4', u'let interview', u'subst?', u'policies subst?', u'.1)', u'.1) $10mm', u': .1)', u'4 hrs']\n",
      "\n",
      "Cluster 75 words:Cluster 75 , [u'- remarkable.', u'making canadians', u\"remarkable. you're\", u'canadians proud', u'proud single', u'remarkable.', u'single day.', u'athletes -', u': athletes', u\"you're making\", u'day. ?']\n",
      "\n",
      "Cluster 76 words:Cluster 76 , [u'550-150qe', u'pavilion 550-150qe', u'i7-4790 3.6ghz', u'3.6ghz 8gb', u'550-150qe desktop', u'3.6ghz', u'core i7-4790', u'i7-4790', u'desktop intel', u'8gb 1tb', u'hp pavilion']\n",
      "\n",
      "Cluster 77 words:Cluster 77 , [u'voting best', u'best football', u'voting', u'best', u'football', u'football blog', u'blog', u': voting', u'football blogger.', u'blogger.', u\"i'm voting\"]\n",
      "\n",
      "Cluster 78 words:Cluster 78 , [u'& parole/probation', u'parole/probation', u'us. prison', u'talk mass', u'people us.', u'prison &', u'parole/probation than?', u'incarceration black', u'2 talk', u'time 2', u'than?']\n",
      "\n",
      "Cluster 79 words:Cluster 79 , [u'verizon', u'verizon wireless', u'wireless', u'4g', u'4g lte', u'lte', u'wireless 4g', u'android', u'phones', u'deals :', u'deals']\n",
      "\n",
      "Cluster 80 words:Cluster 80 , [u'time bombs', u'cartridges working', u'bombs unofficial', u'allegedly time', u'unofficial ink', u'unofficial', u'cartridges', u'bombs', u'working printers', u'ink cartridges', u'allegedly']\n",
      "\n",
      "Cluster 81 words:Cluster 81 , [u\"it's\", u\"it's deplorable.\", u'courting white', u\"it's normalizing\", u'courting', u\"isn't game:\", u\"supremacists isn't\", u\"game: it's\", u\"racism. it's\", u\"trump pence's\", u\"pence's courting\"]\n",
      "\n",
      "Cluster 82 words:Cluster 82 , [u'presentation??', u'loved things.', u'things. shirt?', u'day presentation??', u'presentation?? loved', u'second day', u'shirt?', u': second', u'things.', u'loved', u'second']\n",
      "\n",
      "Cluster 83 words:Cluster 83 , [u'download today!', u'download', u'checked', u'today!', u'checked download', u'distributor download', u'distributor', u'checked t-mobile', u't-mobile', u't-mobile distributor', u'checked metropcs']\n",
      "\n",
      "Cluster 84 words:Cluster 84 , [u'bm058a00r0-00', u'bm058a00r0-00 hp', u'bezel envy', u'6070b0660902 bm058a00r0-00', u'6070b0660902', u'touch bezel', u'display touch', u'envy m6-n', u'hp lcd', u'bezel', u'm6-n']\n",
      "\n",
      "Cluster 85 words:Cluster 85 , [u'philly fop', u'?blew police', u'?blew', u'clinton ?blew', u'endorsement: clinton', u'endorsement:', u'chief presidential', u'fop chief', u'fop', u'presidential endorsement:', u\"police off'\"]\n",
      "\n",
      "Cluster 86 words:Cluster 86 , [u'backstage', u': backstage', u'rt', u'rt :', u':', u'backstage .', u'?', u'.', u'hadid backstage', u'. ???', u'show.']\n",
      "\n",
      "Cluster 87 words:Cluster 87 , [u'shenanigans september', u'- 5:46am', u'5:46am', u'5:46am ?', u': shenanigans', u'september 18,', u'18, 2016', u'shenanigans', u'18,', u'2016 -', u'september']\n",
      "\n",
      "Cluster 88 words:Cluster 88 , [u'health trump', u'coverage clinton', u'cable news', u'clinton health', u'cable', u'coverage', u'trump foundation', u'times coverage', u'devotes 13', u'news devotes', u'13 times']\n",
      "\n",
      "Cluster 89 words:Cluster 89 , [u'??', u'rt', u'rt :', u':', u': ??', u'?', u'?? ?', u'baby', u'?? ??', u'&', u'? ??']\n",
      "\n",
      "Cluster 90 words:Cluster 90 , [u'share photo', u'photo help', u'awareness https:?', u'help raise', u'raise awareness', u': share', u'awareness', u'raise', u'photo', u'share', u'help']\n",
      "\n",
      "Cluster 91 words:Cluster 91 , [u'whites', u'whites think', u'2016: 70%', u'1966: 85%', u'70% whites', u\"kaepernick's stance\", u'stance 1966:', u\"w kaepernick's\", u'1966:', u'whites disagree', u'85% whites']\n",
      "\n",
      "Cluster 92 words:Cluster 92 , [u'namaste yoga', u'yoga dvds', u'namaste', u'dvds', u'yoga', u'delivered live', u'delivered door', u'delivered ,', u'delivered', u'deliver?', u'deliver.']\n",
      "\n",
      "Cluster 93 words:Cluster 93 , [u\"shouldn't reward\", u'reward fraud', u'million bonus!', u'fraud $125', u'bonus!', u'$125 million', u'$125', u\". shouldn't\", u'reward', u'fraud', u\"shouldn't\"]\n",
      "\n",
      "Cluster 94 words:Cluster 94 , [u'prouder mom', u'mom watching', u\"couldn't prouder\", u'prouder', u'runway: ?', u'runway:', u'michaelkors', u'kendalljenner', u\"couldn't\", u'walk', u'instyle:']\n",
      "\n",
      "Cluster 95 words:Cluster 95 , [u'happy called', u'man long', u'called man', u\"long he's\", u'trump happy', u\"he's good\", u'long', u'called', u\"he's\", u'man', u'happy']\n",
      "\n",
      "Cluster 96 words:Cluster 96 , [u': .?', u'.?', u'rt', u'rt :', u':', u'misunderstood', u': is?', u'educate', u'happy !', u'is?', u'https:/?']\n",
      "\n",
      "Cluster 97 words:Cluster 97 , [u'mola', u'nurturing', u'evolved', u'man!', u'game', u'free', u'young man!', u'young', u'dell dell', u'deliver evil', u'delivered ,']\n",
      "\n",
      "Cluster 98 words:Cluster 98 , [u'jag says', u'years jag', u'otherwise. htt?', u'... 25', u'court ...', u'says military', u'military court', u'says otherwise.', u'jag', u'otherwise.', u'says']\n",
      "\n",
      "Cluster 99 words:Cluster 99 , [u\"tv we'd\", u'behead dozen', u'studios behead', u\"we'd lectured\", u'dozen people', u'invade studios', u'literally invade', u'lectured', u'muslims literally', u'behead', u'people live']\n",
      "\n"
     ]
    }
   ],
   "source": [
    "from __future__ import print_function\n",
    "\n",
    "print(\"Top terms per cluster:\")\n",
    "print()\n",
    "#sort cluster centers by proximity to centroid\n",
    "order_centroids = km.cluster_centers_.argsort()[:, ::-1] \n",
    "\n",
    "for i in range(num_clusters):\n",
    "    print(\"Cluster %d words:\" % i, end='')\n",
    "    \n",
    "    cluster_words = order_centroids[i, :11]\n",
    "    words = [tfidf_idx2vocab[_] for _ in cluster_words]\n",
    "    \n",
    "    print (\"Cluster {} , {}\".format(i, words))\n",
    "    print ()\n",
    "    \n",
    "    "
   ]
  },
  {
   "cell_type": "code",
   "execution_count": 52,
   "metadata": {
    "collapsed": false
   },
   "outputs": [
    {
     "data": {
      "text/plain": [
       "array([61, 58], dtype=int32)"
      ]
     },
     "execution_count": 52,
     "metadata": {},
     "output_type": "execute_result"
    }
   ],
   "source": [
    "km.predict(tfidf_vectorizer.transform(preprocess('i support trump')))"
   ]
  },
  {
   "cell_type": "code",
   "execution_count": 31,
   "metadata": {
    "collapsed": false
   },
   "outputs": [],
   "source": [
    "tfidf_idx2vocab = {v:k for k,v in tfidf_vectorizer.vocabulary_.iteritems()}"
   ]
  },
  {
   "cell_type": "code",
   "execution_count": 108,
   "metadata": {
    "collapsed": false
   },
   "outputs": [
    {
     "name": "stdout",
     "output_type": "stream",
     "text": [
      "count of cluster 0 is 30\n",
      "count of cluster 1 is 30\n",
      "count of cluster 2 is 30\n",
      "count of cluster 3 is 30\n",
      "count of cluster 4 is 1\n"
     ]
    }
   ],
   "source": [
    "#### Get cluster labels which are 0\n",
    "\n",
    "tweet_index = {}\n",
    "cluster_index = []\n",
    "for i in xrange(5):\n",
    "    a = np.where(km.labels_ == i)\n",
    "    clusters_list = a[0][:30].tolist()\n",
    "    print (\"count of cluster {} is {}\".format(i, len(clusters_list)))\n",
    "    cluster_index.extend(clusters_list)\n",
    "    tweet_index[i] = clusters_list\n"
   ]
  },
  {
   "cell_type": "code",
   "execution_count": null,
   "metadata": {
    "collapsed": false
   },
   "outputs": [],
   "source": []
  },
  {
   "cell_type": "code",
   "execution_count": 98,
   "metadata": {
    "collapsed": false
   },
   "outputs": [
    {
     "data": {
      "text/plain": [
       "<function print>"
      ]
     },
     "execution_count": 98,
     "metadata": {},
     "output_type": "execute_result"
    }
   ],
   "source": [
    "from sklearn.metrics.pairwise import cosine_similarity\n",
    "dist = 1 - cosine_similarity(tfidf_matrix[cluster_index])\n",
    "print\n",
    "print"
   ]
  },
  {
   "cell_type": "code",
   "execution_count": 99,
   "metadata": {
    "collapsed": false
   },
   "outputs": [
    {
     "name": "stdout",
     "output_type": "stream",
     "text": [
      "\n",
      "\n"
     ]
    }
   ],
   "source": [
    "import os  # for os.path.basename\n",
    "\n",
    "import matplotlib.pyplot as plt\n",
    "import matplotlib as mpl\n",
    "\n",
    "from sklearn.manifold import MDS\n",
    "\n",
    "MDS()\n",
    "\n",
    "# convert two components as we're plotting points in a two-dimensional plane\n",
    "# \"precomputed\" because we provide a distance matrix\n",
    "# we will also specify `random_state` so the plot is reproducible.\n",
    "mds = MDS(n_components=2, dissimilarity=\"precomputed\", random_state=1)\n",
    "\n",
    "pos = mds.fit_transform(dist)  # shape (n_components, n_samples)\n",
    "\n",
    "xs, ys = pos[:, 0], pos[:, 1]\n",
    "print()\n",
    "print()\n"
   ]
  },
  {
   "cell_type": "code",
   "execution_count": 81,
   "metadata": {
    "collapsed": false
   },
   "outputs": [],
   "source": []
  },
  {
   "cell_type": "code",
   "execution_count": null,
   "metadata": {
    "collapsed": true
   },
   "outputs": [],
   "source": []
  },
  {
   "cell_type": "code",
   "execution_count": 100,
   "metadata": {
    "collapsed": false
   },
   "outputs": [],
   "source": [
    "#some ipython magic to show the matplotlib plots inline\n",
    "%matplotlib inline \n",
    "\n",
    "#create data frame that has the result of the MDS plus the cluster numbers and titles\n",
    "df = pd.DataFrame(dict(x=xs, y=ys, label=km.labels_[cluster_index], title=cluster_index)) \n",
    "\n",
    "#group by cluster\n",
    "groups = df.groupby('label')"
   ]
  },
  {
   "cell_type": "code",
   "execution_count": 101,
   "metadata": {
    "collapsed": false
   },
   "outputs": [
    {
     "name": "stdout",
     "output_type": "stream",
     "text": [
      "Cluster 0 words:Cluster 1 words:Cluster 2 words:Cluster 3 words:Cluster 4 words:"
     ]
    }
   ],
   "source": [
    "\n",
    "\n",
    "#set up colors per clusters using a dict\n",
    "cluster_colors = {0: '#1b9e77', 1: '#d95f02', 2: '#7570b3', 3: '#e7298a', 4: '#66a61e'}\n",
    "\n",
    "#set up cluster names using a dict\n",
    "\n",
    "cluster_names = {}\n",
    "for i in range(5):\n",
    "    print(\"Cluster %d words:\" % i, end='')\n",
    "    \n",
    "    cluster_words = order_centroids[i, :5]\n",
    "    words = [tfidf_idx2vocab[_] for _ in cluster_words]\n",
    "    cluster_names[i] = str(words)\n"
   ]
  },
  {
   "cell_type": "code",
   "execution_count": 109,
   "metadata": {
    "collapsed": false
   },
   "outputs": [
    {
     "data": {
      "text/plain": [
       "{0: \"[u'cancer', u'ovarian', u'signs', u'silent', u'ovarian cancer']\",\n",
       " 1: '[u\"wendy\\'s\", u\": wendy\\'s\", u\\'4\\', u\"wendy\\'s ?\", u\\':\\']',\n",
       " 2: \"[u'rt', u'rt :', u':', u': ?', u'?']\",\n",
       " 3: \"[u'word', u'create word', u'. word', u'word is.', u'protip :']\",\n",
       " 4: \"[u'hug', u'?', u'about. ?', u'care about.', u'? listen']\"}"
      ]
     },
     "execution_count": 109,
     "metadata": {},
     "output_type": "execute_result"
    }
   ],
   "source": [
    "cluster_names"
   ]
  },
  {
   "cell_type": "code",
   "execution_count": 103,
   "metadata": {
    "collapsed": false
   },
   "outputs": [
    {
     "data": {
      "image/png": "[encoded data removed]",
      "text/plain": [
       "<matplotlib.figure.Figure at 0x7fbdc854a7d0>"
      ]
     },
     "metadata": {},
     "output_type": "display_data"
    }
   ],
   "source": [
    "# set up plot\n",
    "fig, ax = plt.subplots(figsize=(17, 9)) # set size\n",
    "ax.margins(0.05) # Optional, just adds 5% padding to the autoscaling\n",
    "\n",
    "#iterate through groups to layer the plot\n",
    "#note that I use the cluster_name and cluster_color dicts with the 'name' lookup to return the appropriate color/label\n",
    "for name, group in groups:\n",
    "    ax.plot(group.x, group.y, marker='o', linestyle='', ms=12, \n",
    "            label=cluster_names[name], color=cluster_colors[name], \n",
    "            mec='none')\n",
    "    ax.set_aspect('auto')\n",
    "    ax.tick_params(\\\n",
    "        axis= 'x',          # changes apply to the x-axis\n",
    "        which='both',      # both major and minor ticks are affected\n",
    "        bottom='off',      # ticks along the bottom edge are off\n",
    "        top='off',         # ticks along the top edge are off\n",
    "        labelbottom='off')\n",
    "    ax.tick_params(\\\n",
    "        axis= 'y',         # changes apply to the y-axis\n",
    "        which='both',      # both major and minor ticks are affected\n",
    "        left='off',      # ticks along the bottom edge are off\n",
    "        top='off',         # ticks along the top edge are off\n",
    "        labelleft='off')\n",
    "    \n",
    "ax.legend(numpoints=1)  #show legend with only 1 point\n",
    "\n",
    "#add label in x,y position with the label as the film title\n",
    "for i in range(len(df)):\n",
    "    ax.text(df.ix[i]['x'], df.ix[i]['y'], df.ix[i]['title'], size=8)  \n",
    "\n",
    "    \n",
    "    \n",
    "plt.show() #show the plo"
   ]
  },
  {
   "cell_type": "code",
   "execution_count": 111,
   "metadata": {
    "collapsed": false
   },
   "outputs": [
    {
     "name": "stdout",
     "output_type": "stream",
     "text": [
      "RT @TheRealFrankC_: #BlackLivesMatter #TerenceCrutcher\n",
      "\n",
      "RT @RealJamesWoods: https://t.co/zq5PRASZLv\n",
      "\n",
      "RT @cubasteve57: @Bertieschip @oliveri_pablo @11_Porsche @cubasteve57 https://t.co/vgWAW2GwxI\n",
      "\n",
      "RT @FucoidanForce: #mondaymotivation #fitness #supplements #rightchoice #healthyliving #health #healthy? https://t.co/UY4mWuqBW3\n",
      "\n",
      "RT @FucoidanForce: #mondaymotivation #fitness #supplements #rightchoice #healthyliving #health #healthy? https://t.co/UY4mWuqBW3\n",
      "\n",
      "RT @Trump_World: #Trump #Trump2016 #TrumpTrain https://t.co/1OgNrHYIXo\n",
      "\n",
      "RT @FucoidanForce: #mondaymotivation #fitness #supplements #rightchoice #healthyliving #health #healthy? https://t.co/UY4mWuqBW3\n",
      "\n",
      "RT @FucoidanForce: #mondaymotivation #fitness #supplements #rightchoice #healthyliving #health #healthy? https://t.co/UY4mWuqBW3\n",
      "\n",
      "RT @DSA_ChrisH: @DSA_Airport @AmiraElkhrouf @DSACargoDayle @angloworldcargo https://t.co/JmwAio9JIQ\n",
      "\n",
      "RT @FucoidanForce: #mondaymotivation #fitness #supplements #rightchoice #healthyliving #health #healthy? https://t.co/UY4mWuqBW3\n",
      "\n",
      "RT @FucoidanForce: #mondaymotivation #fitness #supplements #rightchoice #healthyliving #health #healthy? https://t.co/UY4mWuqBW3\n",
      "\n",
      "RT @FucoidanForce: #mondaymotivation #fitness #supplements #rightchoice #healthyliving #health #healthy? https://t.co/UY4mWuqBW3\n",
      "\n",
      "RT @FucoidanForce: #mondaymotivation #fitness #supplements #rightchoice #healthyliving #health #healthy? https://t.co/UY4mWuqBW3\n",
      "\n",
      "RT @FucoidanForce: #mondaymotivation #fitness #supplements #rightchoice #healthyliving #health #healthy? https://t.co/UY4mWuqBW3\n",
      "\n",
      "RT @RealJamesWoods: https://t.co/zq5PRASZLv\n",
      "\n",
      "RT @moekamerow: @HillaryClinton https://t.co/5cELgEcZu5\n",
      "\n",
      "RT @FucoidanForce: #mondaymotivation #fitness #supplements #rightchoice #healthyliving #health #healthy? https://t.co/UY4mWuqBW3\n",
      "\n",
      "RT @FucoidanForce: #mondaymotivation #fitness #supplements #rightchoice #healthyliving #health #healthy? https://t.co/UY4mWuqBW3\n",
      "\n",
      "RT @koenokatachi_M: ????????????ver????????????????????????????????? ??????????????????9?22?(?)16?????????GYAO!?????????????????????????????\n",
      "\n",
      "RT @SUBARU_FHI_PR: ????????????????100km????????????????????????????????????????????????????????????????????????????????????????????????????\n",
      "\n",
      "RT @RealJamesWoods: https://t.co/zq5PRASZLv\n",
      "\n",
      "RT @FucoidanForce: #mondaymotivation #fitness #supplements #rightchoice #healthyliving #health #healthy? https://t.co/UY4mWuqBW3\n",
      "\n",
      "RT @RealJamesWoods: https://t.co/zq5PRASZLv\n",
      "\n",
      "RT @RealJamesWoods: https://t.co/zq5PRASZLv\n",
      "\n",
      "RT @FucoidanForce: #mondaymotivation #fitness #supplements #rightchoice #healthyliving #health #healthy? https://t.co/UY4mWuqBW3\n",
      "\n",
      "RT @RealJamesWoods: https://t.co/zq5PRASZLv\n",
      "\n",
      "RT @TomDaley1994: #LFW ? https://t.co/tmjj8YIil0\n",
      "\n",
      "RT @FucoidanForce: #mondaymotivation #fitness #supplements #rightchoice #healthyliving #health #healthy? https://t.co/UY4mWuqBW3\n",
      "\n",
      "RT @FucoidanForce: #mondaymotivation #fitness #supplements #rightchoice #healthyliving #health #healthy? https://t.co/UY4mWuqBW3\n",
      "\n",
      "RT @FucoidanForce: #mondaymotivation #fitness #supplements #rightchoice #healthyliving #health #healthy? https://t.co/UY4mWuqBW3\n",
      "\n"
     ]
    }
   ],
   "source": [
    "###### Top Tweets in cluseter 2\n",
    "\n",
    "for i in tweet_index[2]:\n",
    "    print (text[i])\n",
    "    print ()\n"
   ]
  },
  {
   "cell_type": "code",
   "execution_count": 112,
   "metadata": {
    "collapsed": false
   },
   "outputs": [
    {
     "name": "stdout",
     "output_type": "stream",
     "text": [
      "Cancer\n",
      "\n",
      "\"RT @FunnyBrawlss: Early Signs Of \"\"The Silent Killer\"\" Ovarian Cancer. https://t.co/iMusD5esmT\"\n",
      "\n",
      "\"RT @FunnyBrawlss: Early Signs Of \"\"The Silent Killer\"\" Ovarian Cancer. https://t.co/iMusD5esmT\"\n",
      "\n",
      "\"RT @FunnyBrawlss: Early Signs Of \"\"The Silent Killer\"\" Ovarian Cancer. https://t.co/iMusD5esmT\"\n",
      "\n",
      "\"RT @FunnyBrawlss: Early Signs Of \"\"The Silent Killer\"\" Ovarian Cancer. https://t.co/iMusD5esmT\"\n",
      "\n",
      "\"RT @FunnyBrawlss: Overlooked Warning Signs of \"\"The Silent Killer\"\" - Ovarian Cancer. https://t.co/iMusD5esmT\"\n",
      "\n",
      "\"RT @FunnyBrawlss: Overlooked Warning Signs of \"\"The Silent Killer\"\" - Ovarian Cancer. https://t.co/iMusD5esmT\"\n",
      "\n",
      "\"Early Signs Of \"\"The Silent Killer\"\" Ovarian Cancer. https://t.co/iMusD5esmT\"\n",
      "\n",
      "Cancer Pain https://t.co/Hbe46yms5c\n",
      "\n",
      "Cancer Pain https://t.co/kb2gSjipyv\n",
      "\n",
      "\"RT @FunnyBrawlss: Overlooked Warning Signs of \"\"The Silent Killer\"\" - Ovarian Cancer https://t.co/iMusD5esmT\"\n",
      "\n",
      "\"RT @FunnyBrawlss: Overlooked Warning Signs of \"\"The Silent Killer\"\" - Ovarian Cancer https://t.co/iMusD5esmT\"\n",
      "\n",
      "\"RT @FunnyBrawlss: Overlooked Warning Signs of \"\"The Silent Killer\"\" - Ovarian Cancer https://t.co/iMusD5esmT\"\n",
      "\n",
      "\"RT @FunnyBrawlss: Overlooked Warning Signs of \"\"The Silent Killer\"\" - Ovarian Cancer https://t.co/iMusD5esmT\"\n",
      "\n",
      "\"RT @FunnyBrawlss: Overlooked Warning Signs of \"\"The Silent Killer\"\" - Ovarian Cancer https://t.co/iMusD5esmT\"\n",
      "\n",
      "\"RT @FunnyBrawlss: Overlooked Warning Signs of \"\"The Silent Killer\"\" - Ovarian Cancer https://t.co/iMusD5esmT\"\n",
      "\n",
      "\"RT @FunnyBrawlss: Overlooked Warning Signs of \"\"The Silent Killer\"\" - Ovarian Cancer https://t.co/iMusD5esmT\"\n",
      "\n",
      "\"RT @FunnyBrawlss: Overlooked Warning Signs of \"\"The Silent Killer\"\" - Ovarian Cancer https://t.co/iMusD5esmT\"\n",
      "\n",
      "\"RT @FunnyBrawlss: Early Signs Of \"\"The Silent Killer\"\" Ovarian Cancer https://t.co/iMusD5esmT\"\n",
      "\n",
      "\"RT @FunnyBrawlss: Early Signs Of \"\"The Silent Killer\"\" Ovarian Cancer https://t.co/iMusD5esmT\"\n",
      "\n",
      "\"RT @FunnyBrawlss: Early Signs Of \"\"The Silent Killer\"\" Ovarian Cancer https://t.co/iMusD5esmT\"\n",
      "\n",
      "\"RT @FunnyBrawlss: Early Signs Of \"\"The Silent Killer\"\" Ovarian Cancer https://t.co/iMusD5esmT\"\n",
      "\n",
      "\"RT @FunnyBrawlss: Overlooked Warning Signs of \"\"The Silent Killer\"\" - Ovarian Cancer https://t.co/iMusD5esmT\"\n",
      "\n",
      "\"RT @FunnyBrawlss: Overlooked Warning Signs of \"\"The Silent Killer\"\" - Ovarian Cancer https://t.co/iMusD5esmT\"\n",
      "\n",
      "\"RT @FunnyBrawlss: Overlooked Warning Signs of \"\"The Silent Killer\"\" - Ovarian Cancer https://t.co/iMusD5esmT\"\n",
      "\n",
      "\"RT @FunnyBrawlss: Overlooked Warning Signs of \"\"The Silent Killer\"\" - Ovarian Cancer https://t.co/iMusD5esmT\"\n",
      "\n",
      "\"RT @FunnyBrawlss: Overlooked Warning Signs of \"\"The Silent Killer\"\" - Ovarian Cancer https://t.co/iMusD5esmT\"\n",
      "\n",
      "\"RT @FunnyBrawlss: Early Signs Of \"\"The Silent Killer\"\" Ovarian Cancer https://t.co/iMusD5esmT\"\n",
      "\n",
      "\"RT @FunnyBrawlss: Overlooked Warning Signs of \"\"The Silent Killer\"\" - Ovarian Cancer https://t.co/iMusD5esmT\"\n",
      "\n",
      "\"RT @FunnyBrawlss: Overlooked Warning Signs of \"\"The Silent Killer\"\" - Ovarian Cancer https://t.co/iMusD5esmT\"\n",
      "\n"
     ]
    }
   ],
   "source": [
    "###### Top Tweets in cluseter 0\n",
    "\n",
    "for i in tweet_index[0]:\n",
    "    print (text[i])\n",
    "    print ()\n"
   ]
  },
  {
   "cell_type": "code",
   "execution_count": null,
   "metadata": {
    "collapsed": true
   },
   "outputs": [],
   "source": []
  }
 ],
 "metadata": {
  "kernelspec": {
   "display_name": "Python 2",
   "language": "python",
   "name": "python2"
  },
  "language_info": {
   "codemirror_mode": {
    "name": "ipython",
    "version": 2
   },
   "file_extension": ".py",
   "mimetype": "text/x-python",
   "name": "python",
   "nbconvert_exporter": "python",
   "pygments_lexer": "ipython2",
   "version": "2.7.11"
  }
 },
 "nbformat": 4,
 "nbformat_minor": 0
}
